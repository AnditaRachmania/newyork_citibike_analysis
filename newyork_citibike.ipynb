{
 "cells": [
  {
   "cell_type": "code",
   "execution_count": 1,
   "metadata": {},
   "outputs": [],
   "source": [
    "# import package\n",
    "import pandas as pd\n",
    "import numpy as np\n",
    "import matplotlib.pyplot as plt\n",
    "import seaborn as sns\n",
    "%matplotlib inline\n",
    "\n",
    "import warnings\n",
    "warnings.filterwarnings('ignore')"
   ]
  },
  {
   "cell_type": "markdown",
   "metadata": {},
   "source": [
    "# ** Data Preparation **"
   ]
  },
  {
   "cell_type": "markdown",
   "metadata": {},
   "source": [
    "## *Dataset citibike_trips*"
   ]
  },
  {
   "cell_type": "code",
   "execution_count": 2,
   "metadata": {},
   "outputs": [],
   "source": [
    "df = pd.read_csv('citibike_trips_2015-2017.csv', parse_dates=['starttime', 'stoptime'])"
   ]
  },
  {
   "cell_type": "code",
   "execution_count": 3,
   "metadata": {},
   "outputs": [
    {
     "data": {
      "text/html": [
       "<div>\n",
       "<style scoped>\n",
       "    .dataframe tbody tr th:only-of-type {\n",
       "        vertical-align: middle;\n",
       "    }\n",
       "\n",
       "    .dataframe tbody tr th {\n",
       "        vertical-align: top;\n",
       "    }\n",
       "\n",
       "    .dataframe thead th {\n",
       "        text-align: right;\n",
       "    }\n",
       "</style>\n",
       "<table border=\"1\" class=\"dataframe\">\n",
       "  <thead>\n",
       "    <tr style=\"text-align: right;\">\n",
       "      <th></th>\n",
       "      <th>tripduration</th>\n",
       "      <th>starttime</th>\n",
       "      <th>stoptime</th>\n",
       "      <th>start_station_id</th>\n",
       "      <th>start_station_name</th>\n",
       "      <th>start_station_latitude</th>\n",
       "      <th>start_station_longitude</th>\n",
       "      <th>end_station_id</th>\n",
       "      <th>end_station_name</th>\n",
       "      <th>end_station_latitude</th>\n",
       "      <th>end_station_longitude</th>\n",
       "      <th>bikeid</th>\n",
       "      <th>usertype</th>\n",
       "      <th>birth_year</th>\n",
       "      <th>gender</th>\n",
       "      <th>customer_plan</th>\n",
       "    </tr>\n",
       "  </thead>\n",
       "  <tbody>\n",
       "    <tr>\n",
       "      <th>0</th>\n",
       "      <td>857</td>\n",
       "      <td>2016-08-06 11:16:51</td>\n",
       "      <td>2016-08-06 11:31:08</td>\n",
       "      <td>332</td>\n",
       "      <td>Cherry St</td>\n",
       "      <td>40.712199</td>\n",
       "      <td>-73.979481</td>\n",
       "      <td>351</td>\n",
       "      <td>Front St &amp; Maiden Ln</td>\n",
       "      <td>40.705310</td>\n",
       "      <td>-74.006126</td>\n",
       "      <td>25484</td>\n",
       "      <td>Subscriber</td>\n",
       "      <td>1957</td>\n",
       "      <td>male</td>\n",
       "      <td>NaN</td>\n",
       "    </tr>\n",
       "    <tr>\n",
       "      <th>1</th>\n",
       "      <td>567</td>\n",
       "      <td>2016-08-17 13:05:44</td>\n",
       "      <td>2016-08-17 13:15:11</td>\n",
       "      <td>3125</td>\n",
       "      <td>45 Rd &amp; 11 St</td>\n",
       "      <td>40.747086</td>\n",
       "      <td>-73.949772</td>\n",
       "      <td>3126</td>\n",
       "      <td>44 Dr &amp; Jackson Ave</td>\n",
       "      <td>40.747182</td>\n",
       "      <td>-73.943264</td>\n",
       "      <td>21512</td>\n",
       "      <td>Subscriber</td>\n",
       "      <td>1977</td>\n",
       "      <td>male</td>\n",
       "      <td>NaN</td>\n",
       "    </tr>\n",
       "    <tr>\n",
       "      <th>2</th>\n",
       "      <td>660</td>\n",
       "      <td>2016-08-06 20:13:27</td>\n",
       "      <td>2016-08-06 20:24:27</td>\n",
       "      <td>217</td>\n",
       "      <td>Old Fulton St</td>\n",
       "      <td>40.702772</td>\n",
       "      <td>-73.993836</td>\n",
       "      <td>398</td>\n",
       "      <td>Atlantic Ave &amp; Furman St</td>\n",
       "      <td>40.691652</td>\n",
       "      <td>-73.999979</td>\n",
       "      <td>23890</td>\n",
       "      <td>Subscriber</td>\n",
       "      <td>1971</td>\n",
       "      <td>female</td>\n",
       "      <td>NaN</td>\n",
       "    </tr>\n",
       "    <tr>\n",
       "      <th>3</th>\n",
       "      <td>947</td>\n",
       "      <td>2016-08-28 15:32:13</td>\n",
       "      <td>2016-08-28 15:48:00</td>\n",
       "      <td>217</td>\n",
       "      <td>Old Fulton St</td>\n",
       "      <td>40.702772</td>\n",
       "      <td>-73.993836</td>\n",
       "      <td>398</td>\n",
       "      <td>Atlantic Ave &amp; Furman St</td>\n",
       "      <td>40.691652</td>\n",
       "      <td>-73.999979</td>\n",
       "      <td>25169</td>\n",
       "      <td>Subscriber</td>\n",
       "      <td>1954</td>\n",
       "      <td>female</td>\n",
       "      <td>NaN</td>\n",
       "    </tr>\n",
       "    <tr>\n",
       "      <th>4</th>\n",
       "      <td>474</td>\n",
       "      <td>2016-08-24 00:29:13</td>\n",
       "      <td>2016-08-24 00:37:07</td>\n",
       "      <td>3265</td>\n",
       "      <td>E 2 St &amp; 2 Ave</td>\n",
       "      <td>40.724563</td>\n",
       "      <td>-73.989444</td>\n",
       "      <td>295</td>\n",
       "      <td>Pike St &amp; E Broadway</td>\n",
       "      <td>40.714067</td>\n",
       "      <td>-73.992939</td>\n",
       "      <td>17290</td>\n",
       "      <td>Subscriber</td>\n",
       "      <td>1989</td>\n",
       "      <td>male</td>\n",
       "      <td>NaN</td>\n",
       "    </tr>\n",
       "  </tbody>\n",
       "</table>\n",
       "</div>"
      ],
      "text/plain": [
       "   tripduration           starttime            stoptime  start_station_id  \\\n",
       "0           857 2016-08-06 11:16:51 2016-08-06 11:31:08               332   \n",
       "1           567 2016-08-17 13:05:44 2016-08-17 13:15:11              3125   \n",
       "2           660 2016-08-06 20:13:27 2016-08-06 20:24:27               217   \n",
       "3           947 2016-08-28 15:32:13 2016-08-28 15:48:00               217   \n",
       "4           474 2016-08-24 00:29:13 2016-08-24 00:37:07              3265   \n",
       "\n",
       "  start_station_name  start_station_latitude  start_station_longitude  \\\n",
       "0          Cherry St               40.712199               -73.979481   \n",
       "1      45 Rd & 11 St               40.747086               -73.949772   \n",
       "2      Old Fulton St               40.702772               -73.993836   \n",
       "3      Old Fulton St               40.702772               -73.993836   \n",
       "4     E 2 St & 2 Ave               40.724563               -73.989444   \n",
       "\n",
       "   end_station_id          end_station_name  end_station_latitude  \\\n",
       "0             351      Front St & Maiden Ln             40.705310   \n",
       "1            3126       44 Dr & Jackson Ave             40.747182   \n",
       "2             398  Atlantic Ave & Furman St             40.691652   \n",
       "3             398  Atlantic Ave & Furman St             40.691652   \n",
       "4             295      Pike St & E Broadway             40.714067   \n",
       "\n",
       "   end_station_longitude  bikeid    usertype  birth_year  gender  \\\n",
       "0             -74.006126   25484  Subscriber        1957    male   \n",
       "1             -73.943264   21512  Subscriber        1977    male   \n",
       "2             -73.999979   23890  Subscriber        1971  female   \n",
       "3             -73.999979   25169  Subscriber        1954  female   \n",
       "4             -73.992939   17290  Subscriber        1989    male   \n",
       "\n",
       "   customer_plan  \n",
       "0            NaN  \n",
       "1            NaN  \n",
       "2            NaN  \n",
       "3            NaN  \n",
       "4            NaN  "
      ]
     },
     "execution_count": 3,
     "metadata": {},
     "output_type": "execute_result"
    }
   ],
   "source": [
    "df.head()"
   ]
  },
  {
   "cell_type": "code",
   "execution_count": 4,
   "metadata": {},
   "outputs": [
    {
     "name": "stdout",
     "output_type": "stream",
     "text": [
      "<class 'pandas.core.frame.DataFrame'>\n",
      "RangeIndex: 30000 entries, 0 to 29999\n",
      "Data columns (total 16 columns):\n",
      " #   Column                   Non-Null Count  Dtype         \n",
      "---  ------                   --------------  -----         \n",
      " 0   tripduration             30000 non-null  int64         \n",
      " 1   starttime                30000 non-null  datetime64[ns]\n",
      " 2   stoptime                 30000 non-null  datetime64[ns]\n",
      " 3   start_station_id         30000 non-null  int64         \n",
      " 4   start_station_name       30000 non-null  object        \n",
      " 5   start_station_latitude   30000 non-null  float64       \n",
      " 6   start_station_longitude  30000 non-null  float64       \n",
      " 7   end_station_id           30000 non-null  int64         \n",
      " 8   end_station_name         30000 non-null  object        \n",
      " 9   end_station_latitude     30000 non-null  float64       \n",
      " 10  end_station_longitude    30000 non-null  float64       \n",
      " 11  bikeid                   30000 non-null  int64         \n",
      " 12  usertype                 30000 non-null  object        \n",
      " 13  birth_year               30000 non-null  int64         \n",
      " 14  gender                   30000 non-null  object        \n",
      " 15  customer_plan            0 non-null      float64       \n",
      "dtypes: datetime64[ns](2), float64(5), int64(5), object(4)\n",
      "memory usage: 3.7+ MB\n"
     ]
    }
   ],
   "source": [
    "df.info()"
   ]
  },
  {
   "cell_type": "markdown",
   "metadata": {},
   "source": [
    "## ** ekstrak data kolom 'starttime' dan 'stoptime' **"
   ]
  },
  {
   "cell_type": "code",
   "execution_count": 5,
   "metadata": {},
   "outputs": [],
   "source": [
    "df['start_month'] = df['starttime'].dt.month_name()\n",
    "df['start_year'] = df['starttime'].dt.year\n",
    "df['start_date'] = df['starttime'].dt.day\n",
    "df['start_hour'] = df['starttime'].dt.strftime('%H')\n",
    "\n",
    "df['stop_month'] = df['stoptime'].dt.month_name()\n",
    "df['stop_year'] = df['stoptime'].dt.year\n",
    "df['stop_date'] = df['stoptime'].dt.day\n",
    "df['stop_hour'] = df['stoptime'].dt.strftime('%H')"
   ]
  },
  {
   "cell_type": "code",
   "execution_count": 6,
   "metadata": {},
   "outputs": [
    {
     "name": "stdout",
     "output_type": "stream",
     "text": [
      "<class 'pandas.core.frame.DataFrame'>\n",
      "RangeIndex: 30000 entries, 0 to 29999\n",
      "Data columns (total 24 columns):\n",
      " #   Column                   Non-Null Count  Dtype         \n",
      "---  ------                   --------------  -----         \n",
      " 0   tripduration             30000 non-null  int64         \n",
      " 1   starttime                30000 non-null  datetime64[ns]\n",
      " 2   stoptime                 30000 non-null  datetime64[ns]\n",
      " 3   start_station_id         30000 non-null  int64         \n",
      " 4   start_station_name       30000 non-null  object        \n",
      " 5   start_station_latitude   30000 non-null  float64       \n",
      " 6   start_station_longitude  30000 non-null  float64       \n",
      " 7   end_station_id           30000 non-null  int64         \n",
      " 8   end_station_name         30000 non-null  object        \n",
      " 9   end_station_latitude     30000 non-null  float64       \n",
      " 10  end_station_longitude    30000 non-null  float64       \n",
      " 11  bikeid                   30000 non-null  int64         \n",
      " 12  usertype                 30000 non-null  object        \n",
      " 13  birth_year               30000 non-null  int64         \n",
      " 14  gender                   30000 non-null  object        \n",
      " 15  customer_plan            0 non-null      float64       \n",
      " 16  start_month              30000 non-null  object        \n",
      " 17  start_year               30000 non-null  int64         \n",
      " 18  start_date               30000 non-null  int64         \n",
      " 19  start_hour               30000 non-null  object        \n",
      " 20  stop_month               30000 non-null  object        \n",
      " 21  stop_year                30000 non-null  int64         \n",
      " 22  stop_date                30000 non-null  int64         \n",
      " 23  stop_hour                30000 non-null  object        \n",
      "dtypes: datetime64[ns](2), float64(5), int64(9), object(8)\n",
      "memory usage: 5.5+ MB\n"
     ]
    }
   ],
   "source": [
    "df.info()"
   ]
  },
  {
   "cell_type": "code",
   "execution_count": 7,
   "metadata": {},
   "outputs": [],
   "source": [
    "# ubah jenis data pada kolom start_hour dan stop_hour menjadi tipe data numeric\n",
    "df['start_hour'] = pd.to_numeric(df['start_hour'])\n",
    "df['stop_hour'] = pd.to_numeric(df['stop_hour'])"
   ]
  },
  {
   "cell_type": "code",
   "execution_count": 8,
   "metadata": {},
   "outputs": [
    {
     "name": "stdout",
     "output_type": "stream",
     "text": [
      "<class 'pandas.core.frame.DataFrame'>\n",
      "RangeIndex: 30000 entries, 0 to 29999\n",
      "Data columns (total 24 columns):\n",
      " #   Column                   Non-Null Count  Dtype         \n",
      "---  ------                   --------------  -----         \n",
      " 0   tripduration             30000 non-null  int64         \n",
      " 1   starttime                30000 non-null  datetime64[ns]\n",
      " 2   stoptime                 30000 non-null  datetime64[ns]\n",
      " 3   start_station_id         30000 non-null  int64         \n",
      " 4   start_station_name       30000 non-null  object        \n",
      " 5   start_station_latitude   30000 non-null  float64       \n",
      " 6   start_station_longitude  30000 non-null  float64       \n",
      " 7   end_station_id           30000 non-null  int64         \n",
      " 8   end_station_name         30000 non-null  object        \n",
      " 9   end_station_latitude     30000 non-null  float64       \n",
      " 10  end_station_longitude    30000 non-null  float64       \n",
      " 11  bikeid                   30000 non-null  int64         \n",
      " 12  usertype                 30000 non-null  object        \n",
      " 13  birth_year               30000 non-null  int64         \n",
      " 14  gender                   30000 non-null  object        \n",
      " 15  customer_plan            0 non-null      float64       \n",
      " 16  start_month              30000 non-null  object        \n",
      " 17  start_year               30000 non-null  int64         \n",
      " 18  start_date               30000 non-null  int64         \n",
      " 19  start_hour               30000 non-null  int64         \n",
      " 20  stop_month               30000 non-null  object        \n",
      " 21  stop_year                30000 non-null  int64         \n",
      " 22  stop_date                30000 non-null  int64         \n",
      " 23  stop_hour                30000 non-null  int64         \n",
      "dtypes: datetime64[ns](2), float64(5), int64(11), object(6)\n",
      "memory usage: 5.5+ MB\n"
     ]
    }
   ],
   "source": [
    "df.info()"
   ]
  },
  {
   "cell_type": "code",
   "execution_count": 9,
   "metadata": {},
   "outputs": [
    {
     "data": {
      "text/html": [
       "<div>\n",
       "<style scoped>\n",
       "    .dataframe tbody tr th:only-of-type {\n",
       "        vertical-align: middle;\n",
       "    }\n",
       "\n",
       "    .dataframe tbody tr th {\n",
       "        vertical-align: top;\n",
       "    }\n",
       "\n",
       "    .dataframe thead th {\n",
       "        text-align: right;\n",
       "    }\n",
       "</style>\n",
       "<table border=\"1\" class=\"dataframe\">\n",
       "  <thead>\n",
       "    <tr style=\"text-align: right;\">\n",
       "      <th></th>\n",
       "      <th>tripduration</th>\n",
       "      <th>starttime</th>\n",
       "      <th>stoptime</th>\n",
       "      <th>start_station_id</th>\n",
       "      <th>start_station_name</th>\n",
       "      <th>start_station_latitude</th>\n",
       "      <th>start_station_longitude</th>\n",
       "      <th>end_station_id</th>\n",
       "      <th>end_station_name</th>\n",
       "      <th>end_station_latitude</th>\n",
       "      <th>...</th>\n",
       "      <th>gender</th>\n",
       "      <th>customer_plan</th>\n",
       "      <th>start_month</th>\n",
       "      <th>start_year</th>\n",
       "      <th>start_date</th>\n",
       "      <th>start_hour</th>\n",
       "      <th>stop_month</th>\n",
       "      <th>stop_year</th>\n",
       "      <th>stop_date</th>\n",
       "      <th>stop_hour</th>\n",
       "    </tr>\n",
       "  </thead>\n",
       "  <tbody>\n",
       "    <tr>\n",
       "      <th>0</th>\n",
       "      <td>857</td>\n",
       "      <td>2016-08-06 11:16:51</td>\n",
       "      <td>2016-08-06 11:31:08</td>\n",
       "      <td>332</td>\n",
       "      <td>Cherry St</td>\n",
       "      <td>40.712199</td>\n",
       "      <td>-73.979481</td>\n",
       "      <td>351</td>\n",
       "      <td>Front St &amp; Maiden Ln</td>\n",
       "      <td>40.705310</td>\n",
       "      <td>...</td>\n",
       "      <td>male</td>\n",
       "      <td>NaN</td>\n",
       "      <td>August</td>\n",
       "      <td>2016</td>\n",
       "      <td>6</td>\n",
       "      <td>11</td>\n",
       "      <td>August</td>\n",
       "      <td>2016</td>\n",
       "      <td>6</td>\n",
       "      <td>11</td>\n",
       "    </tr>\n",
       "    <tr>\n",
       "      <th>1</th>\n",
       "      <td>567</td>\n",
       "      <td>2016-08-17 13:05:44</td>\n",
       "      <td>2016-08-17 13:15:11</td>\n",
       "      <td>3125</td>\n",
       "      <td>45 Rd &amp; 11 St</td>\n",
       "      <td>40.747086</td>\n",
       "      <td>-73.949772</td>\n",
       "      <td>3126</td>\n",
       "      <td>44 Dr &amp; Jackson Ave</td>\n",
       "      <td>40.747182</td>\n",
       "      <td>...</td>\n",
       "      <td>male</td>\n",
       "      <td>NaN</td>\n",
       "      <td>August</td>\n",
       "      <td>2016</td>\n",
       "      <td>17</td>\n",
       "      <td>13</td>\n",
       "      <td>August</td>\n",
       "      <td>2016</td>\n",
       "      <td>17</td>\n",
       "      <td>13</td>\n",
       "    </tr>\n",
       "    <tr>\n",
       "      <th>2</th>\n",
       "      <td>660</td>\n",
       "      <td>2016-08-06 20:13:27</td>\n",
       "      <td>2016-08-06 20:24:27</td>\n",
       "      <td>217</td>\n",
       "      <td>Old Fulton St</td>\n",
       "      <td>40.702772</td>\n",
       "      <td>-73.993836</td>\n",
       "      <td>398</td>\n",
       "      <td>Atlantic Ave &amp; Furman St</td>\n",
       "      <td>40.691652</td>\n",
       "      <td>...</td>\n",
       "      <td>female</td>\n",
       "      <td>NaN</td>\n",
       "      <td>August</td>\n",
       "      <td>2016</td>\n",
       "      <td>6</td>\n",
       "      <td>20</td>\n",
       "      <td>August</td>\n",
       "      <td>2016</td>\n",
       "      <td>6</td>\n",
       "      <td>20</td>\n",
       "    </tr>\n",
       "    <tr>\n",
       "      <th>3</th>\n",
       "      <td>947</td>\n",
       "      <td>2016-08-28 15:32:13</td>\n",
       "      <td>2016-08-28 15:48:00</td>\n",
       "      <td>217</td>\n",
       "      <td>Old Fulton St</td>\n",
       "      <td>40.702772</td>\n",
       "      <td>-73.993836</td>\n",
       "      <td>398</td>\n",
       "      <td>Atlantic Ave &amp; Furman St</td>\n",
       "      <td>40.691652</td>\n",
       "      <td>...</td>\n",
       "      <td>female</td>\n",
       "      <td>NaN</td>\n",
       "      <td>August</td>\n",
       "      <td>2016</td>\n",
       "      <td>28</td>\n",
       "      <td>15</td>\n",
       "      <td>August</td>\n",
       "      <td>2016</td>\n",
       "      <td>28</td>\n",
       "      <td>15</td>\n",
       "    </tr>\n",
       "    <tr>\n",
       "      <th>4</th>\n",
       "      <td>474</td>\n",
       "      <td>2016-08-24 00:29:13</td>\n",
       "      <td>2016-08-24 00:37:07</td>\n",
       "      <td>3265</td>\n",
       "      <td>E 2 St &amp; 2 Ave</td>\n",
       "      <td>40.724563</td>\n",
       "      <td>-73.989444</td>\n",
       "      <td>295</td>\n",
       "      <td>Pike St &amp; E Broadway</td>\n",
       "      <td>40.714067</td>\n",
       "      <td>...</td>\n",
       "      <td>male</td>\n",
       "      <td>NaN</td>\n",
       "      <td>August</td>\n",
       "      <td>2016</td>\n",
       "      <td>24</td>\n",
       "      <td>0</td>\n",
       "      <td>August</td>\n",
       "      <td>2016</td>\n",
       "      <td>24</td>\n",
       "      <td>0</td>\n",
       "    </tr>\n",
       "  </tbody>\n",
       "</table>\n",
       "<p>5 rows × 24 columns</p>\n",
       "</div>"
      ],
      "text/plain": [
       "   tripduration           starttime            stoptime  start_station_id  \\\n",
       "0           857 2016-08-06 11:16:51 2016-08-06 11:31:08               332   \n",
       "1           567 2016-08-17 13:05:44 2016-08-17 13:15:11              3125   \n",
       "2           660 2016-08-06 20:13:27 2016-08-06 20:24:27               217   \n",
       "3           947 2016-08-28 15:32:13 2016-08-28 15:48:00               217   \n",
       "4           474 2016-08-24 00:29:13 2016-08-24 00:37:07              3265   \n",
       "\n",
       "  start_station_name  start_station_latitude  start_station_longitude  \\\n",
       "0          Cherry St               40.712199               -73.979481   \n",
       "1      45 Rd & 11 St               40.747086               -73.949772   \n",
       "2      Old Fulton St               40.702772               -73.993836   \n",
       "3      Old Fulton St               40.702772               -73.993836   \n",
       "4     E 2 St & 2 Ave               40.724563               -73.989444   \n",
       "\n",
       "   end_station_id          end_station_name  end_station_latitude  ...  \\\n",
       "0             351      Front St & Maiden Ln             40.705310  ...   \n",
       "1            3126       44 Dr & Jackson Ave             40.747182  ...   \n",
       "2             398  Atlantic Ave & Furman St             40.691652  ...   \n",
       "3             398  Atlantic Ave & Furman St             40.691652  ...   \n",
       "4             295      Pike St & E Broadway             40.714067  ...   \n",
       "\n",
       "   gender  customer_plan start_month  start_year start_date  start_hour  \\\n",
       "0    male            NaN      August        2016          6          11   \n",
       "1    male            NaN      August        2016         17          13   \n",
       "2  female            NaN      August        2016          6          20   \n",
       "3  female            NaN      August        2016         28          15   \n",
       "4    male            NaN      August        2016         24           0   \n",
       "\n",
       "  stop_month  stop_year  stop_date  stop_hour  \n",
       "0     August       2016          6         11  \n",
       "1     August       2016         17         13  \n",
       "2     August       2016          6         20  \n",
       "3     August       2016         28         15  \n",
       "4     August       2016         24          0  \n",
       "\n",
       "[5 rows x 24 columns]"
      ]
     },
     "execution_count": 9,
     "metadata": {},
     "output_type": "execute_result"
    }
   ],
   "source": [
    "df.head()"
   ]
  },
  {
   "cell_type": "code",
   "execution_count": 10,
   "metadata": {},
   "outputs": [
    {
     "data": {
      "text/html": [
       "<div>\n",
       "<style scoped>\n",
       "    .dataframe tbody tr th:only-of-type {\n",
       "        vertical-align: middle;\n",
       "    }\n",
       "\n",
       "    .dataframe tbody tr th {\n",
       "        vertical-align: top;\n",
       "    }\n",
       "\n",
       "    .dataframe thead th {\n",
       "        text-align: right;\n",
       "    }\n",
       "</style>\n",
       "<table border=\"1\" class=\"dataframe\">\n",
       "  <thead>\n",
       "    <tr style=\"text-align: right;\">\n",
       "      <th></th>\n",
       "      <th>count</th>\n",
       "      <th>mean</th>\n",
       "      <th>std</th>\n",
       "      <th>min</th>\n",
       "      <th>25%</th>\n",
       "      <th>50%</th>\n",
       "      <th>75%</th>\n",
       "      <th>max</th>\n",
       "    </tr>\n",
       "  </thead>\n",
       "  <tbody>\n",
       "    <tr>\n",
       "      <th>tripduration</th>\n",
       "      <td>30000.0</td>\n",
       "      <td>846.518133</td>\n",
       "      <td>3212.900695</td>\n",
       "      <td>61.000000</td>\n",
       "      <td>365.000000</td>\n",
       "      <td>596.000000</td>\n",
       "      <td>997.000000</td>\n",
       "      <td>289666.000000</td>\n",
       "    </tr>\n",
       "    <tr>\n",
       "      <th>start_station_id</th>\n",
       "      <td>30000.0</td>\n",
       "      <td>948.184100</td>\n",
       "      <td>1121.198331</td>\n",
       "      <td>72.000000</td>\n",
       "      <td>325.000000</td>\n",
       "      <td>446.000000</td>\n",
       "      <td>529.000000</td>\n",
       "      <td>3649.000000</td>\n",
       "    </tr>\n",
       "    <tr>\n",
       "      <th>start_station_latitude</th>\n",
       "      <td>30000.0</td>\n",
       "      <td>40.736127</td>\n",
       "      <td>0.024022</td>\n",
       "      <td>40.655949</td>\n",
       "      <td>40.719261</td>\n",
       "      <td>40.735877</td>\n",
       "      <td>40.751873</td>\n",
       "      <td>40.814394</td>\n",
       "    </tr>\n",
       "    <tr>\n",
       "      <th>start_station_longitude</th>\n",
       "      <td>30000.0</td>\n",
       "      <td>-73.987738</td>\n",
       "      <td>0.015094</td>\n",
       "      <td>-74.025353</td>\n",
       "      <td>-73.998512</td>\n",
       "      <td>-73.988639</td>\n",
       "      <td>-73.978985</td>\n",
       "      <td>-73.907744</td>\n",
       "    </tr>\n",
       "    <tr>\n",
       "      <th>end_station_id</th>\n",
       "      <td>30000.0</td>\n",
       "      <td>908.159800</td>\n",
       "      <td>1089.263102</td>\n",
       "      <td>72.000000</td>\n",
       "      <td>323.000000</td>\n",
       "      <td>444.000000</td>\n",
       "      <td>523.000000</td>\n",
       "      <td>3648.000000</td>\n",
       "    </tr>\n",
       "    <tr>\n",
       "      <th>end_station_latitude</th>\n",
       "      <td>30000.0</td>\n",
       "      <td>40.735716</td>\n",
       "      <td>0.023656</td>\n",
       "      <td>40.646768</td>\n",
       "      <td>40.719116</td>\n",
       "      <td>40.735877</td>\n",
       "      <td>40.751551</td>\n",
       "      <td>40.814326</td>\n",
       "    </tr>\n",
       "    <tr>\n",
       "      <th>end_station_longitude</th>\n",
       "      <td>30000.0</td>\n",
       "      <td>-73.988194</td>\n",
       "      <td>0.015156</td>\n",
       "      <td>-74.025353</td>\n",
       "      <td>-73.998842</td>\n",
       "      <td>-73.989900</td>\n",
       "      <td>-73.979661</td>\n",
       "      <td>-73.913669</td>\n",
       "    </tr>\n",
       "    <tr>\n",
       "      <th>bikeid</th>\n",
       "      <td>30000.0</td>\n",
       "      <td>21001.621467</td>\n",
       "      <td>4453.213508</td>\n",
       "      <td>14529.000000</td>\n",
       "      <td>17395.750000</td>\n",
       "      <td>20174.500000</td>\n",
       "      <td>23821.250000</td>\n",
       "      <td>33459.000000</td>\n",
       "    </tr>\n",
       "    <tr>\n",
       "      <th>birth_year</th>\n",
       "      <td>30000.0</td>\n",
       "      <td>1964.435900</td>\n",
       "      <td>18.688594</td>\n",
       "      <td>1874.000000</td>\n",
       "      <td>1951.000000</td>\n",
       "      <td>1957.000000</td>\n",
       "      <td>1977.000000</td>\n",
       "      <td>2001.000000</td>\n",
       "    </tr>\n",
       "    <tr>\n",
       "      <th>customer_plan</th>\n",
       "      <td>0.0</td>\n",
       "      <td>NaN</td>\n",
       "      <td>NaN</td>\n",
       "      <td>NaN</td>\n",
       "      <td>NaN</td>\n",
       "      <td>NaN</td>\n",
       "      <td>NaN</td>\n",
       "      <td>NaN</td>\n",
       "    </tr>\n",
       "    <tr>\n",
       "      <th>start_year</th>\n",
       "      <td>30000.0</td>\n",
       "      <td>2015.900000</td>\n",
       "      <td>0.830676</td>\n",
       "      <td>2015.000000</td>\n",
       "      <td>2015.000000</td>\n",
       "      <td>2016.000000</td>\n",
       "      <td>2017.000000</td>\n",
       "      <td>2017.000000</td>\n",
       "    </tr>\n",
       "    <tr>\n",
       "      <th>start_date</th>\n",
       "      <td>30000.0</td>\n",
       "      <td>15.741600</td>\n",
       "      <td>8.595151</td>\n",
       "      <td>1.000000</td>\n",
       "      <td>8.000000</td>\n",
       "      <td>16.000000</td>\n",
       "      <td>23.000000</td>\n",
       "      <td>31.000000</td>\n",
       "    </tr>\n",
       "    <tr>\n",
       "      <th>start_hour</th>\n",
       "      <td>30000.0</td>\n",
       "      <td>13.658000</td>\n",
       "      <td>4.706645</td>\n",
       "      <td>0.000000</td>\n",
       "      <td>10.000000</td>\n",
       "      <td>14.000000</td>\n",
       "      <td>17.000000</td>\n",
       "      <td>23.000000</td>\n",
       "    </tr>\n",
       "    <tr>\n",
       "      <th>stop_year</th>\n",
       "      <td>30000.0</td>\n",
       "      <td>2015.900000</td>\n",
       "      <td>0.830676</td>\n",
       "      <td>2015.000000</td>\n",
       "      <td>2015.000000</td>\n",
       "      <td>2016.000000</td>\n",
       "      <td>2017.000000</td>\n",
       "      <td>2017.000000</td>\n",
       "    </tr>\n",
       "    <tr>\n",
       "      <th>stop_date</th>\n",
       "      <td>30000.0</td>\n",
       "      <td>15.741767</td>\n",
       "      <td>8.595372</td>\n",
       "      <td>1.000000</td>\n",
       "      <td>8.000000</td>\n",
       "      <td>16.000000</td>\n",
       "      <td>23.000000</td>\n",
       "      <td>31.000000</td>\n",
       "    </tr>\n",
       "    <tr>\n",
       "      <th>stop_hour</th>\n",
       "      <td>30000.0</td>\n",
       "      <td>13.809533</td>\n",
       "      <td>4.733963</td>\n",
       "      <td>0.000000</td>\n",
       "      <td>10.000000</td>\n",
       "      <td>14.000000</td>\n",
       "      <td>18.000000</td>\n",
       "      <td>23.000000</td>\n",
       "    </tr>\n",
       "  </tbody>\n",
       "</table>\n",
       "</div>"
      ],
      "text/plain": [
       "                           count          mean          std           min  \\\n",
       "tripduration             30000.0    846.518133  3212.900695     61.000000   \n",
       "start_station_id         30000.0    948.184100  1121.198331     72.000000   \n",
       "start_station_latitude   30000.0     40.736127     0.024022     40.655949   \n",
       "start_station_longitude  30000.0    -73.987738     0.015094    -74.025353   \n",
       "end_station_id           30000.0    908.159800  1089.263102     72.000000   \n",
       "end_station_latitude     30000.0     40.735716     0.023656     40.646768   \n",
       "end_station_longitude    30000.0    -73.988194     0.015156    -74.025353   \n",
       "bikeid                   30000.0  21001.621467  4453.213508  14529.000000   \n",
       "birth_year               30000.0   1964.435900    18.688594   1874.000000   \n",
       "customer_plan                0.0           NaN          NaN           NaN   \n",
       "start_year               30000.0   2015.900000     0.830676   2015.000000   \n",
       "start_date               30000.0     15.741600     8.595151      1.000000   \n",
       "start_hour               30000.0     13.658000     4.706645      0.000000   \n",
       "stop_year                30000.0   2015.900000     0.830676   2015.000000   \n",
       "stop_date                30000.0     15.741767     8.595372      1.000000   \n",
       "stop_hour                30000.0     13.809533     4.733963      0.000000   \n",
       "\n",
       "                                  25%           50%           75%  \\\n",
       "tripduration               365.000000    596.000000    997.000000   \n",
       "start_station_id           325.000000    446.000000    529.000000   \n",
       "start_station_latitude      40.719261     40.735877     40.751873   \n",
       "start_station_longitude    -73.998512    -73.988639    -73.978985   \n",
       "end_station_id             323.000000    444.000000    523.000000   \n",
       "end_station_latitude        40.719116     40.735877     40.751551   \n",
       "end_station_longitude      -73.998842    -73.989900    -73.979661   \n",
       "bikeid                   17395.750000  20174.500000  23821.250000   \n",
       "birth_year                1951.000000   1957.000000   1977.000000   \n",
       "customer_plan                     NaN           NaN           NaN   \n",
       "start_year                2015.000000   2016.000000   2017.000000   \n",
       "start_date                   8.000000     16.000000     23.000000   \n",
       "start_hour                  10.000000     14.000000     17.000000   \n",
       "stop_year                 2015.000000   2016.000000   2017.000000   \n",
       "stop_date                    8.000000     16.000000     23.000000   \n",
       "stop_hour                   10.000000     14.000000     18.000000   \n",
       "\n",
       "                                   max  \n",
       "tripduration             289666.000000  \n",
       "start_station_id           3649.000000  \n",
       "start_station_latitude       40.814394  \n",
       "start_station_longitude     -73.907744  \n",
       "end_station_id             3648.000000  \n",
       "end_station_latitude         40.814326  \n",
       "end_station_longitude       -73.913669  \n",
       "bikeid                    33459.000000  \n",
       "birth_year                 2001.000000  \n",
       "customer_plan                      NaN  \n",
       "start_year                 2017.000000  \n",
       "start_date                   31.000000  \n",
       "start_hour                   23.000000  \n",
       "stop_year                  2017.000000  \n",
       "stop_date                    31.000000  \n",
       "stop_hour                    23.000000  "
      ]
     },
     "execution_count": 10,
     "metadata": {},
     "output_type": "execute_result"
    }
   ],
   "source": [
    "df.describe().T"
   ]
  },
  {
   "cell_type": "code",
   "execution_count": 11,
   "metadata": {},
   "outputs": [
    {
     "data": {
      "text/html": [
       "<div>\n",
       "<style scoped>\n",
       "    .dataframe tbody tr th:only-of-type {\n",
       "        vertical-align: middle;\n",
       "    }\n",
       "\n",
       "    .dataframe tbody tr th {\n",
       "        vertical-align: top;\n",
       "    }\n",
       "\n",
       "    .dataframe thead th {\n",
       "        text-align: right;\n",
       "    }\n",
       "</style>\n",
       "<table border=\"1\" class=\"dataframe\">\n",
       "  <thead>\n",
       "    <tr style=\"text-align: right;\">\n",
       "      <th></th>\n",
       "      <th>count</th>\n",
       "      <th>unique</th>\n",
       "      <th>top</th>\n",
       "      <th>freq</th>\n",
       "    </tr>\n",
       "  </thead>\n",
       "  <tbody>\n",
       "    <tr>\n",
       "      <th>start_station_name</th>\n",
       "      <td>30000</td>\n",
       "      <td>747</td>\n",
       "      <td>Lexington Ave &amp; E 24 St</td>\n",
       "      <td>261</td>\n",
       "    </tr>\n",
       "    <tr>\n",
       "      <th>end_station_name</th>\n",
       "      <td>30000</td>\n",
       "      <td>750</td>\n",
       "      <td>Pershing Square North</td>\n",
       "      <td>243</td>\n",
       "    </tr>\n",
       "    <tr>\n",
       "      <th>usertype</th>\n",
       "      <td>30000</td>\n",
       "      <td>2</td>\n",
       "      <td>Subscriber</td>\n",
       "      <td>29731</td>\n",
       "    </tr>\n",
       "    <tr>\n",
       "      <th>gender</th>\n",
       "      <td>30000</td>\n",
       "      <td>3</td>\n",
       "      <td>male</td>\n",
       "      <td>23752</td>\n",
       "    </tr>\n",
       "    <tr>\n",
       "      <th>start_month</th>\n",
       "      <td>30000</td>\n",
       "      <td>12</td>\n",
       "      <td>April</td>\n",
       "      <td>3000</td>\n",
       "    </tr>\n",
       "    <tr>\n",
       "      <th>stop_month</th>\n",
       "      <td>30000</td>\n",
       "      <td>12</td>\n",
       "      <td>July</td>\n",
       "      <td>3002</td>\n",
       "    </tr>\n",
       "  </tbody>\n",
       "</table>\n",
       "</div>"
      ],
      "text/plain": [
       "                    count unique                      top   freq\n",
       "start_station_name  30000    747  Lexington Ave & E 24 St    261\n",
       "end_station_name    30000    750    Pershing Square North    243\n",
       "usertype            30000      2               Subscriber  29731\n",
       "gender              30000      3                     male  23752\n",
       "start_month         30000     12                    April   3000\n",
       "stop_month          30000     12                     July   3002"
      ]
     },
     "execution_count": 11,
     "metadata": {},
     "output_type": "execute_result"
    }
   ],
   "source": [
    "df.describe(include='O').T"
   ]
  },
  {
   "cell_type": "code",
   "execution_count": 12,
   "metadata": {},
   "outputs": [
    {
     "data": {
      "text/plain": [
       "<matplotlib.axes._subplots.AxesSubplot at 0x1d1ce03ec10>"
      ]
     },
     "execution_count": 12,
     "metadata": {},
     "output_type": "execute_result"
    },
    {
     "data": {
      "image/png": "[encoded data removed]",
      "text/plain": [
       "<Figure size 1080x432 with 1 Axes>"
      ]
     },
     "metadata": {
      "needs_background": "light"
     },
     "output_type": "display_data"
    }
   ],
   "source": [
    "plt.figure(figsize=(15, 6))\n",
    "sns.heatmap(df.isnull(),yticklabels=False,cbar=False,cmap='viridis')"
   ]
  },
  {
   "cell_type": "code",
   "execution_count": 13,
   "metadata": {},
   "outputs": [],
   "source": [
    "# karena data di kolom customer_plan tidak ada, kolom ini bisa didrop\n",
    "df.drop(columns=['customer_plan'], inplace=True)"
   ]
  },
  {
   "cell_type": "code",
   "execution_count": 14,
   "metadata": {},
   "outputs": [
    {
     "name": "stdout",
     "output_type": "stream",
     "text": [
      "<class 'pandas.core.frame.DataFrame'>\n",
      "RangeIndex: 30000 entries, 0 to 29999\n",
      "Data columns (total 23 columns):\n",
      " #   Column                   Non-Null Count  Dtype         \n",
      "---  ------                   --------------  -----         \n",
      " 0   tripduration             30000 non-null  int64         \n",
      " 1   starttime                30000 non-null  datetime64[ns]\n",
      " 2   stoptime                 30000 non-null  datetime64[ns]\n",
      " 3   start_station_id         30000 non-null  int64         \n",
      " 4   start_station_name       30000 non-null  object        \n",
      " 5   start_station_latitude   30000 non-null  float64       \n",
      " 6   start_station_longitude  30000 non-null  float64       \n",
      " 7   end_station_id           30000 non-null  int64         \n",
      " 8   end_station_name         30000 non-null  object        \n",
      " 9   end_station_latitude     30000 non-null  float64       \n",
      " 10  end_station_longitude    30000 non-null  float64       \n",
      " 11  bikeid                   30000 non-null  int64         \n",
      " 12  usertype                 30000 non-null  object        \n",
      " 13  birth_year               30000 non-null  int64         \n",
      " 14  gender                   30000 non-null  object        \n",
      " 15  start_month              30000 non-null  object        \n",
      " 16  start_year               30000 non-null  int64         \n",
      " 17  start_date               30000 non-null  int64         \n",
      " 18  start_hour               30000 non-null  int64         \n",
      " 19  stop_month               30000 non-null  object        \n",
      " 20  stop_year                30000 non-null  int64         \n",
      " 21  stop_date                30000 non-null  int64         \n",
      " 22  stop_hour                30000 non-null  int64         \n",
      "dtypes: datetime64[ns](2), float64(4), int64(11), object(6)\n",
      "memory usage: 5.3+ MB\n"
     ]
    }
   ],
   "source": [
    "df.info()"
   ]
  },
  {
   "cell_type": "markdown",
   "metadata": {},
   "source": [
    "Informasi tentang 'age' bisa didapat dari kolom birth_year dengan asumsi umur dihitung terhadap start_year"
   ]
  },
  {
   "cell_type": "code",
   "execution_count": 15,
   "metadata": {},
   "outputs": [],
   "source": [
    "df['customer_age'] = df['start_year'] - df['birth_year']"
   ]
  },
  {
   "cell_type": "code",
   "execution_count": 16,
   "metadata": {},
   "outputs": [
    {
     "data": {
      "text/html": [
       "<div>\n",
       "<style scoped>\n",
       "    .dataframe tbody tr th:only-of-type {\n",
       "        vertical-align: middle;\n",
       "    }\n",
       "\n",
       "    .dataframe tbody tr th {\n",
       "        vertical-align: top;\n",
       "    }\n",
       "\n",
       "    .dataframe thead th {\n",
       "        text-align: right;\n",
       "    }\n",
       "</style>\n",
       "<table border=\"1\" class=\"dataframe\">\n",
       "  <thead>\n",
       "    <tr style=\"text-align: right;\">\n",
       "      <th></th>\n",
       "      <th>tripduration</th>\n",
       "      <th>starttime</th>\n",
       "      <th>stoptime</th>\n",
       "      <th>start_station_id</th>\n",
       "      <th>start_station_name</th>\n",
       "      <th>start_station_latitude</th>\n",
       "      <th>start_station_longitude</th>\n",
       "      <th>end_station_id</th>\n",
       "      <th>end_station_name</th>\n",
       "      <th>end_station_latitude</th>\n",
       "      <th>...</th>\n",
       "      <th>gender</th>\n",
       "      <th>start_month</th>\n",
       "      <th>start_year</th>\n",
       "      <th>start_date</th>\n",
       "      <th>start_hour</th>\n",
       "      <th>stop_month</th>\n",
       "      <th>stop_year</th>\n",
       "      <th>stop_date</th>\n",
       "      <th>stop_hour</th>\n",
       "      <th>customer_age</th>\n",
       "    </tr>\n",
       "  </thead>\n",
       "  <tbody>\n",
       "    <tr>\n",
       "      <th>0</th>\n",
       "      <td>857</td>\n",
       "      <td>2016-08-06 11:16:51</td>\n",
       "      <td>2016-08-06 11:31:08</td>\n",
       "      <td>332</td>\n",
       "      <td>Cherry St</td>\n",
       "      <td>40.712199</td>\n",
       "      <td>-73.979481</td>\n",
       "      <td>351</td>\n",
       "      <td>Front St &amp; Maiden Ln</td>\n",
       "      <td>40.705310</td>\n",
       "      <td>...</td>\n",
       "      <td>male</td>\n",
       "      <td>August</td>\n",
       "      <td>2016</td>\n",
       "      <td>6</td>\n",
       "      <td>11</td>\n",
       "      <td>August</td>\n",
       "      <td>2016</td>\n",
       "      <td>6</td>\n",
       "      <td>11</td>\n",
       "      <td>59</td>\n",
       "    </tr>\n",
       "    <tr>\n",
       "      <th>1</th>\n",
       "      <td>567</td>\n",
       "      <td>2016-08-17 13:05:44</td>\n",
       "      <td>2016-08-17 13:15:11</td>\n",
       "      <td>3125</td>\n",
       "      <td>45 Rd &amp; 11 St</td>\n",
       "      <td>40.747086</td>\n",
       "      <td>-73.949772</td>\n",
       "      <td>3126</td>\n",
       "      <td>44 Dr &amp; Jackson Ave</td>\n",
       "      <td>40.747182</td>\n",
       "      <td>...</td>\n",
       "      <td>male</td>\n",
       "      <td>August</td>\n",
       "      <td>2016</td>\n",
       "      <td>17</td>\n",
       "      <td>13</td>\n",
       "      <td>August</td>\n",
       "      <td>2016</td>\n",
       "      <td>17</td>\n",
       "      <td>13</td>\n",
       "      <td>39</td>\n",
       "    </tr>\n",
       "    <tr>\n",
       "      <th>2</th>\n",
       "      <td>660</td>\n",
       "      <td>2016-08-06 20:13:27</td>\n",
       "      <td>2016-08-06 20:24:27</td>\n",
       "      <td>217</td>\n",
       "      <td>Old Fulton St</td>\n",
       "      <td>40.702772</td>\n",
       "      <td>-73.993836</td>\n",
       "      <td>398</td>\n",
       "      <td>Atlantic Ave &amp; Furman St</td>\n",
       "      <td>40.691652</td>\n",
       "      <td>...</td>\n",
       "      <td>female</td>\n",
       "      <td>August</td>\n",
       "      <td>2016</td>\n",
       "      <td>6</td>\n",
       "      <td>20</td>\n",
       "      <td>August</td>\n",
       "      <td>2016</td>\n",
       "      <td>6</td>\n",
       "      <td>20</td>\n",
       "      <td>45</td>\n",
       "    </tr>\n",
       "    <tr>\n",
       "      <th>3</th>\n",
       "      <td>947</td>\n",
       "      <td>2016-08-28 15:32:13</td>\n",
       "      <td>2016-08-28 15:48:00</td>\n",
       "      <td>217</td>\n",
       "      <td>Old Fulton St</td>\n",
       "      <td>40.702772</td>\n",
       "      <td>-73.993836</td>\n",
       "      <td>398</td>\n",
       "      <td>Atlantic Ave &amp; Furman St</td>\n",
       "      <td>40.691652</td>\n",
       "      <td>...</td>\n",
       "      <td>female</td>\n",
       "      <td>August</td>\n",
       "      <td>2016</td>\n",
       "      <td>28</td>\n",
       "      <td>15</td>\n",
       "      <td>August</td>\n",
       "      <td>2016</td>\n",
       "      <td>28</td>\n",
       "      <td>15</td>\n",
       "      <td>62</td>\n",
       "    </tr>\n",
       "    <tr>\n",
       "      <th>4</th>\n",
       "      <td>474</td>\n",
       "      <td>2016-08-24 00:29:13</td>\n",
       "      <td>2016-08-24 00:37:07</td>\n",
       "      <td>3265</td>\n",
       "      <td>E 2 St &amp; 2 Ave</td>\n",
       "      <td>40.724563</td>\n",
       "      <td>-73.989444</td>\n",
       "      <td>295</td>\n",
       "      <td>Pike St &amp; E Broadway</td>\n",
       "      <td>40.714067</td>\n",
       "      <td>...</td>\n",
       "      <td>male</td>\n",
       "      <td>August</td>\n",
       "      <td>2016</td>\n",
       "      <td>24</td>\n",
       "      <td>0</td>\n",
       "      <td>August</td>\n",
       "      <td>2016</td>\n",
       "      <td>24</td>\n",
       "      <td>0</td>\n",
       "      <td>27</td>\n",
       "    </tr>\n",
       "  </tbody>\n",
       "</table>\n",
       "<p>5 rows × 24 columns</p>\n",
       "</div>"
      ],
      "text/plain": [
       "   tripduration           starttime            stoptime  start_station_id  \\\n",
       "0           857 2016-08-06 11:16:51 2016-08-06 11:31:08               332   \n",
       "1           567 2016-08-17 13:05:44 2016-08-17 13:15:11              3125   \n",
       "2           660 2016-08-06 20:13:27 2016-08-06 20:24:27               217   \n",
       "3           947 2016-08-28 15:32:13 2016-08-28 15:48:00               217   \n",
       "4           474 2016-08-24 00:29:13 2016-08-24 00:37:07              3265   \n",
       "\n",
       "  start_station_name  start_station_latitude  start_station_longitude  \\\n",
       "0          Cherry St               40.712199               -73.979481   \n",
       "1      45 Rd & 11 St               40.747086               -73.949772   \n",
       "2      Old Fulton St               40.702772               -73.993836   \n",
       "3      Old Fulton St               40.702772               -73.993836   \n",
       "4     E 2 St & 2 Ave               40.724563               -73.989444   \n",
       "\n",
       "   end_station_id          end_station_name  end_station_latitude  ...  \\\n",
       "0             351      Front St & Maiden Ln             40.705310  ...   \n",
       "1            3126       44 Dr & Jackson Ave             40.747182  ...   \n",
       "2             398  Atlantic Ave & Furman St             40.691652  ...   \n",
       "3             398  Atlantic Ave & Furman St             40.691652  ...   \n",
       "4             295      Pike St & E Broadway             40.714067  ...   \n",
       "\n",
       "   gender  start_month start_year  start_date start_hour stop_month  \\\n",
       "0    male       August       2016           6         11     August   \n",
       "1    male       August       2016          17         13     August   \n",
       "2  female       August       2016           6         20     August   \n",
       "3  female       August       2016          28         15     August   \n",
       "4    male       August       2016          24          0     August   \n",
       "\n",
       "   stop_year  stop_date  stop_hour customer_age  \n",
       "0       2016          6         11           59  \n",
       "1       2016         17         13           39  \n",
       "2       2016          6         20           45  \n",
       "3       2016         28         15           62  \n",
       "4       2016         24          0           27  \n",
       "\n",
       "[5 rows x 24 columns]"
      ]
     },
     "execution_count": 16,
     "metadata": {},
     "output_type": "execute_result"
    }
   ],
   "source": [
    "df.head()"
   ]
  },
  {
   "cell_type": "code",
   "execution_count": 17,
   "metadata": {},
   "outputs": [
    {
     "data": {
      "image/png": "[encoded data removed]",
      "text/plain": [
       "<Figure size 1152x432 with 1 Axes>"
      ]
     },
     "metadata": {
      "needs_background": "light"
     },
     "output_type": "display_data"
    }
   ],
   "source": [
    "plt.figure(figsize=(16, 6))\n",
    "plt.title(\"Distribution of Customer's Age\", fontsize=15)\n",
    "plt.ylabel('Frequency', fontsize=10)\n",
    "sns.distplot(df['customer_age'], bins=100)\n",
    "plt.axvline(x=df['customer_age'].median(), linewidth=2, color = 'r')\n",
    "plt.axvline(x=df['customer_age'].mean(), linewidth=2, color = 'k')\n",
    "plt.text(45, 0.1, 'mean', fontsize=10)\n",
    "plt.text(60, 0.1, 'median', fontsize=10)\n",
    "plt.show()"
   ]
  },
  {
   "cell_type": "code",
   "execution_count": 18,
   "metadata": {},
   "outputs": [
    {
     "data": {
      "image/png": "[encoded data removed]",
      "text/plain": [
       "<Figure size 576x360 with 1 Axes>"
      ]
     },
     "metadata": {
      "needs_background": "light"
     },
     "output_type": "display_data"
    }
   ],
   "source": [
    "plt.figure(figsize=(8, 5))\n",
    "sns.boxplot(df['customer_age'])\n",
    "plt.show()"
   ]
  },
  {
   "cell_type": "code",
   "execution_count": 19,
   "metadata": {},
   "outputs": [
    {
     "data": {
      "text/plain": [
       "count    30000.000000\n",
       "mean        51.464100\n",
       "std         18.431253\n",
       "min         16.000000\n",
       "25%         39.000000\n",
       "50%         59.000000\n",
       "75%         65.000000\n",
       "max        143.000000\n",
       "Name: customer_age, dtype: float64"
      ]
     },
     "execution_count": 19,
     "metadata": {},
     "output_type": "execute_result"
    }
   ],
   "source": [
    "# cek distribusi data customer_age\n",
    "df['customer_age'].describe()"
   ]
  },
  {
   "cell_type": "code",
   "execution_count": 20,
   "metadata": {},
   "outputs": [
    {
     "name": "stdout",
     "output_type": "stream",
     "text": [
      "Median = 59.0\n",
      "Mode = 0    63\n",
      "dtype: int64\n"
     ]
    }
   ],
   "source": [
    "print(f\"Median = {df['customer_age'].median()}\")\n",
    "print(f\"Mode = {df['customer_age'].mode()}\")"
   ]
  },
  {
   "cell_type": "code",
   "execution_count": 21,
   "metadata": {},
   "outputs": [
    {
     "data": {
      "text/plain": [
       "165"
      ]
     },
     "execution_count": 21,
     "metadata": {},
     "output_type": "execute_result"
    }
   ],
   "source": [
    "# jumlah customer dengan usia diatas 100 tahun\n",
    "df[df['customer_age'] >= 100]['customer_age'].count()"
   ]
  },
  {
   "cell_type": "markdown",
   "metadata": {},
   "source": [
    "**insight:**\n",
    "\n",
    "Dari data usia customer (customer_age), diketahui usia paling muda dari customer adalah 16 tahun, dengan distribusi data yang dipengaruhi outliers, dimana terdapat data rentang usia di atas 100 tahun. Usia dengan pengguna yang paling banyak diwakilkan dengan nilai mode, yaitu 63 tahun. Median data usia customer adalah 59 tahun, sementara rata-rata usia customer adalah 51 tahun. Nilai rata-rata tentu dipengaruhi oleh keberadaan value outliers, sehingga perlu ditinjau lebih jauh, terlebih lagi karena terdapat kejanggalan jika ada 165 data customer dengan usia diatas 100 tahun."
   ]
  },
  {
   "cell_type": "markdown",
   "metadata": {},
   "source": [
    "## ** Outlier data kolom customer_age **\n",
    "\n",
    "Metode penentuan outliers bisa dilakukan dengan cara evaluasi terhadap nilai persentil Q1 dan Q3, evaluasi terhadap value Z score, atau menggunakan common sense"
   ]
  },
  {
   "cell_type": "markdown",
   "metadata": {},
   "source": [
    "### 1. Penentuan Outliers dengan Evaluasi terhadap Q1 dan Q3"
   ]
  },
  {
   "cell_type": "code",
   "execution_count": 22,
   "metadata": {},
   "outputs": [],
   "source": [
    "# cek outliers terhadap nilai persentil Q1 dan Q3 dari distribusi data customer_age\n",
    "outliers = []\n",
    "def outlier_iqr(data):\n",
    "    sorted(data)\n",
    "    q1, q3 = np.percentile(data, [25, 75])\n",
    "    iqr = q3 - q1\n",
    "    lower_fence = q1 -(1.5 * iqr) \n",
    "    upper_fence = q3 +(1.5 * iqr)\n",
    "    for i in data:\n",
    "        if i < lower_fence or i > upper_fence:\n",
    "            outliers.append(i)\n",
    "    return outliers, lower_fence, upper_fence"
   ]
  },
  {
   "cell_type": "code",
   "execution_count": 23,
   "metadata": {},
   "outputs": [
    {
     "name": "stdout",
     "output_type": "stream",
     "text": [
      "Jumlah outliers pada kolom customer_age = 162\n"
     ]
    }
   ],
   "source": [
    "outlier_datapoints = outlier_iqr(df['customer_age'])[0]\n",
    "\n",
    "print(f'Jumlah outliers pada kolom customer_age = {len(outlier_datapoints)}')"
   ]
  },
  {
   "cell_type": "code",
   "execution_count": 24,
   "metadata": {},
   "outputs": [
    {
     "name": "stdout",
     "output_type": "stream",
     "text": [
      "upper fence data customer age pada boxplot = 104.0\n"
     ]
    }
   ],
   "source": [
    "uppFence_age = outlier_iqr(df['customer_age'])[2]\n",
    "print(f'upper fence data customer age pada boxplot = {uppFence_age}')"
   ]
  },
  {
   "cell_type": "code",
   "execution_count": 25,
   "metadata": {},
   "outputs": [
    {
     "name": "stdout",
     "output_type": "stream",
     "text": [
      "persentase jumlah data outliers kolom age = 0.54%\n"
     ]
    }
   ],
   "source": [
    "print(f'persentase jumlah data outliers kolom age = {round(162/30000*100, 2)}%')"
   ]
  },
  {
   "cell_type": "markdown",
   "metadata": {},
   "source": [
    "======================================================================================"
   ]
  },
  {
   "cell_type": "markdown",
   "metadata": {},
   "source": [
    "### 2. Penentuan Outliers dengan Evaluasi terhadap Value Z Score"
   ]
  },
  {
   "cell_type": "code",
   "execution_count": 26,
   "metadata": {},
   "outputs": [],
   "source": [
    "# buat fungsi untuk mengumpulkan nilai-nilai outliers sebagai list, evaluasi terhadap formula z score\n",
    "\n",
    "outliers = []\n",
    "def detect_outliers(data):\n",
    "    threshold=3\n",
    "    mean = np.mean(data)\n",
    "    std = np.std(data)\n",
    "    \n",
    "    for i in data:\n",
    "        z_score = (i - mean)/std\n",
    "        if np.abs(z_score) > threshold:\n",
    "            outliers.append(i)\n",
    "    return outliers"
   ]
  },
  {
   "cell_type": "code",
   "execution_count": 27,
   "metadata": {},
   "outputs": [],
   "source": [
    "# definisi kolom yang akan dievaluasi\n",
    "check_age = df['customer_age']"
   ]
  },
  {
   "cell_type": "code",
   "execution_count": 28,
   "metadata": {},
   "outputs": [],
   "source": [
    "# menginput data-data usia yang terdapat dalam kolom customer_age menjadi list (list_age)\n",
    "list_age = []\n",
    "\n",
    "for i in check_age:\n",
    "    list_age.append(i)"
   ]
  },
  {
   "cell_type": "code",
   "execution_count": 29,
   "metadata": {},
   "outputs": [
    {
     "name": "stdout",
     "output_type": "stream",
     "text": [
      "30000\n"
     ]
    }
   ],
   "source": [
    "# cek jumlah data yang terdapat dalam list_age >> sesuai dengan jumlah baris keseluruhan dataset\n",
    "print(len(list_age))"
   ]
  },
  {
   "cell_type": "code",
   "execution_count": 30,
   "metadata": {},
   "outputs": [],
   "source": [
    "# menggunakan fungsi detect_outliers terhadap usia-usia yang ada dalam list_age\n",
    "outliers = detect_outliers(list_age)"
   ]
  },
  {
   "cell_type": "code",
   "execution_count": 31,
   "metadata": {},
   "outputs": [
    {
     "name": "stdout",
     "output_type": "stream",
     "text": [
      "Jumlah outliers pada kolom customer_age hasil evaluasi terhadap value Z score: 151\n"
     ]
    }
   ],
   "source": [
    "print(f\"Jumlah outliers pada kolom customer_age hasil evaluasi terhadap value Z score: {len(outliers)}\")"
   ]
  },
  {
   "cell_type": "code",
   "execution_count": 32,
   "metadata": {},
   "outputs": [
    {
     "name": "stdout",
     "output_type": "stream",
     "text": [
      "batas bawah nilai outliers: 107\n"
     ]
    }
   ],
   "source": [
    "print(f\"batas bawah nilai outliers: {min(outliers)}\")"
   ]
  },
  {
   "cell_type": "code",
   "execution_count": 33,
   "metadata": {},
   "outputs": [
    {
     "name": "stdout",
     "output_type": "stream",
     "text": [
      "persentase jumlah data outliers kolom age = 0.5%\n"
     ]
    }
   ],
   "source": [
    "print(f'persentase jumlah data outliers kolom age = {round(151/30000*100, 2)}%')"
   ]
  },
  {
   "cell_type": "markdown",
   "metadata": {},
   "source": [
    "### 3. Penentuan Outliers dengan Common Sense"
   ]
  },
  {
   "cell_type": "markdown",
   "metadata": {},
   "source": [
    "Evaluasi rentang usia outliers yang didapatkan dari metode persentil Q1 - Q3 maupun metode evaluasi z score menunjukkan data outliers berada pada data diatas usia 104 dan 107 tahun.\n",
    "Hal ini sulit untuk diterima oleh common sense karena jika evaluasi nilai outliers berdasarkan usia-usia tersebut, berarti masih terdapat data dengan usia customer di atas 90 tahun, atau bahkan 100 tahun seperti berikut:"
   ]
  },
  {
   "cell_type": "code",
   "execution_count": 34,
   "metadata": {},
   "outputs": [
    {
     "data": {
      "text/html": [
       "<div>\n",
       "<style scoped>\n",
       "    .dataframe tbody tr th:only-of-type {\n",
       "        vertical-align: middle;\n",
       "    }\n",
       "\n",
       "    .dataframe tbody tr th {\n",
       "        vertical-align: top;\n",
       "    }\n",
       "\n",
       "    .dataframe thead th {\n",
       "        text-align: right;\n",
       "    }\n",
       "</style>\n",
       "<table border=\"1\" class=\"dataframe\">\n",
       "  <thead>\n",
       "    <tr style=\"text-align: right;\">\n",
       "      <th></th>\n",
       "      <th>tripduration</th>\n",
       "      <th>starttime</th>\n",
       "      <th>stoptime</th>\n",
       "      <th>start_station_id</th>\n",
       "      <th>start_station_name</th>\n",
       "      <th>start_station_latitude</th>\n",
       "      <th>start_station_longitude</th>\n",
       "      <th>end_station_id</th>\n",
       "      <th>end_station_name</th>\n",
       "      <th>end_station_latitude</th>\n",
       "      <th>...</th>\n",
       "      <th>gender</th>\n",
       "      <th>start_month</th>\n",
       "      <th>start_year</th>\n",
       "      <th>start_date</th>\n",
       "      <th>start_hour</th>\n",
       "      <th>stop_month</th>\n",
       "      <th>stop_year</th>\n",
       "      <th>stop_date</th>\n",
       "      <th>stop_hour</th>\n",
       "      <th>customer_age</th>\n",
       "    </tr>\n",
       "  </thead>\n",
       "  <tbody>\n",
       "    <tr>\n",
       "      <th>6162</th>\n",
       "      <td>93</td>\n",
       "      <td>2016-01-15 18:50:28</td>\n",
       "      <td>2016-01-15 18:52:01</td>\n",
       "      <td>2002</td>\n",
       "      <td>Wythe Ave &amp; Metropolitan Ave</td>\n",
       "      <td>40.716887</td>\n",
       "      <td>-73.963198</td>\n",
       "      <td>539</td>\n",
       "      <td>Metropolitan Ave &amp; Bedford Ave</td>\n",
       "      <td>40.715348</td>\n",
       "      <td>...</td>\n",
       "      <td>male</td>\n",
       "      <td>January</td>\n",
       "      <td>2016</td>\n",
       "      <td>15</td>\n",
       "      <td>18</td>\n",
       "      <td>January</td>\n",
       "      <td>2016</td>\n",
       "      <td>15</td>\n",
       "      <td>18</td>\n",
       "      <td>106</td>\n",
       "    </tr>\n",
       "    <tr>\n",
       "      <th>6296</th>\n",
       "      <td>110</td>\n",
       "      <td>2016-01-16 12:44:18</td>\n",
       "      <td>2016-01-16 12:46:08</td>\n",
       "      <td>3090</td>\n",
       "      <td>N 8 St &amp; Driggs Ave</td>\n",
       "      <td>40.717746</td>\n",
       "      <td>-73.956001</td>\n",
       "      <td>3093</td>\n",
       "      <td>N 6 St &amp; Bedford Ave</td>\n",
       "      <td>40.717452</td>\n",
       "      <td>...</td>\n",
       "      <td>male</td>\n",
       "      <td>January</td>\n",
       "      <td>2016</td>\n",
       "      <td>16</td>\n",
       "      <td>12</td>\n",
       "      <td>January</td>\n",
       "      <td>2016</td>\n",
       "      <td>16</td>\n",
       "      <td>12</td>\n",
       "      <td>106</td>\n",
       "    </tr>\n",
       "    <tr>\n",
       "      <th>8369</th>\n",
       "      <td>146</td>\n",
       "      <td>2016-05-16 10:56:13</td>\n",
       "      <td>2016-05-16 10:58:40</td>\n",
       "      <td>3093</td>\n",
       "      <td>N 6 St &amp; Bedford Ave</td>\n",
       "      <td>40.717452</td>\n",
       "      <td>-73.958509</td>\n",
       "      <td>2002</td>\n",
       "      <td>Wythe Ave &amp; Metropolitan Ave</td>\n",
       "      <td>40.716887</td>\n",
       "      <td>...</td>\n",
       "      <td>male</td>\n",
       "      <td>May</td>\n",
       "      <td>2016</td>\n",
       "      <td>16</td>\n",
       "      <td>10</td>\n",
       "      <td>May</td>\n",
       "      <td>2016</td>\n",
       "      <td>16</td>\n",
       "      <td>10</td>\n",
       "      <td>106</td>\n",
       "    </tr>\n",
       "    <tr>\n",
       "      <th>15578</th>\n",
       "      <td>1042</td>\n",
       "      <td>2017-07-21 09:38:06</td>\n",
       "      <td>2017-07-21 09:55:29</td>\n",
       "      <td>427</td>\n",
       "      <td>Bus Slip &amp; State St</td>\n",
       "      <td>40.701907</td>\n",
       "      <td>-74.013942</td>\n",
       "      <td>3260</td>\n",
       "      <td>Mercer St &amp; Bleecker St</td>\n",
       "      <td>40.727064</td>\n",
       "      <td>...</td>\n",
       "      <td>unknown</td>\n",
       "      <td>July</td>\n",
       "      <td>2017</td>\n",
       "      <td>21</td>\n",
       "      <td>9</td>\n",
       "      <td>July</td>\n",
       "      <td>2017</td>\n",
       "      <td>21</td>\n",
       "      <td>9</td>\n",
       "      <td>105</td>\n",
       "    </tr>\n",
       "    <tr>\n",
       "      <th>19107</th>\n",
       "      <td>123</td>\n",
       "      <td>2015-12-09 15:35:53</td>\n",
       "      <td>2015-12-09 15:37:57</td>\n",
       "      <td>2002</td>\n",
       "      <td>Wythe Ave &amp; Metropolitan Ave</td>\n",
       "      <td>40.716887</td>\n",
       "      <td>-73.963198</td>\n",
       "      <td>3093</td>\n",
       "      <td>N 6 St &amp; Bedford Ave</td>\n",
       "      <td>40.717452</td>\n",
       "      <td>...</td>\n",
       "      <td>male</td>\n",
       "      <td>December</td>\n",
       "      <td>2015</td>\n",
       "      <td>9</td>\n",
       "      <td>15</td>\n",
       "      <td>December</td>\n",
       "      <td>2015</td>\n",
       "      <td>9</td>\n",
       "      <td>15</td>\n",
       "      <td>105</td>\n",
       "    </tr>\n",
       "    <tr>\n",
       "      <th>19760</th>\n",
       "      <td>104</td>\n",
       "      <td>2015-12-21 14:20:27</td>\n",
       "      <td>2015-12-21 14:22:12</td>\n",
       "      <td>539</td>\n",
       "      <td>Metropolitan Ave &amp; Bedford Ave</td>\n",
       "      <td>40.715348</td>\n",
       "      <td>-73.960241</td>\n",
       "      <td>2002</td>\n",
       "      <td>Wythe Ave &amp; Metropolitan Ave</td>\n",
       "      <td>40.716887</td>\n",
       "      <td>...</td>\n",
       "      <td>male</td>\n",
       "      <td>December</td>\n",
       "      <td>2015</td>\n",
       "      <td>21</td>\n",
       "      <td>14</td>\n",
       "      <td>December</td>\n",
       "      <td>2015</td>\n",
       "      <td>21</td>\n",
       "      <td>14</td>\n",
       "      <td>105</td>\n",
       "    </tr>\n",
       "    <tr>\n",
       "      <th>20140</th>\n",
       "      <td>1820</td>\n",
       "      <td>2015-07-04 19:22:59</td>\n",
       "      <td>2015-07-04 19:53:19</td>\n",
       "      <td>539</td>\n",
       "      <td>Metropolitan Ave &amp; Bedford Ave</td>\n",
       "      <td>40.715348</td>\n",
       "      <td>-73.960241</td>\n",
       "      <td>2002</td>\n",
       "      <td>Wythe Ave &amp; Metropolitan Ave</td>\n",
       "      <td>40.716887</td>\n",
       "      <td>...</td>\n",
       "      <td>male</td>\n",
       "      <td>July</td>\n",
       "      <td>2015</td>\n",
       "      <td>4</td>\n",
       "      <td>19</td>\n",
       "      <td>July</td>\n",
       "      <td>2015</td>\n",
       "      <td>4</td>\n",
       "      <td>19</td>\n",
       "      <td>105</td>\n",
       "    </tr>\n",
       "    <tr>\n",
       "      <th>22828</th>\n",
       "      <td>590</td>\n",
       "      <td>2015-08-18 21:35:49</td>\n",
       "      <td>2015-08-18 21:45:39</td>\n",
       "      <td>161</td>\n",
       "      <td>LaGuardia Pl &amp; W 3 St</td>\n",
       "      <td>40.729170</td>\n",
       "      <td>-73.998102</td>\n",
       "      <td>382</td>\n",
       "      <td>University Pl &amp; E 14 St</td>\n",
       "      <td>40.734927</td>\n",
       "      <td>...</td>\n",
       "      <td>male</td>\n",
       "      <td>August</td>\n",
       "      <td>2015</td>\n",
       "      <td>18</td>\n",
       "      <td>21</td>\n",
       "      <td>August</td>\n",
       "      <td>2015</td>\n",
       "      <td>18</td>\n",
       "      <td>21</td>\n",
       "      <td>105</td>\n",
       "    </tr>\n",
       "    <tr>\n",
       "      <th>24496</th>\n",
       "      <td>1133</td>\n",
       "      <td>2015-09-16 07:48:12</td>\n",
       "      <td>2015-09-16 08:07:05</td>\n",
       "      <td>393</td>\n",
       "      <td>E 5 St &amp; Avenue C</td>\n",
       "      <td>40.722992</td>\n",
       "      <td>-73.979955</td>\n",
       "      <td>259</td>\n",
       "      <td>South St &amp; Whitehall St</td>\n",
       "      <td>40.701221</td>\n",
       "      <td>...</td>\n",
       "      <td>male</td>\n",
       "      <td>September</td>\n",
       "      <td>2015</td>\n",
       "      <td>16</td>\n",
       "      <td>7</td>\n",
       "      <td>September</td>\n",
       "      <td>2015</td>\n",
       "      <td>16</td>\n",
       "      <td>8</td>\n",
       "      <td>102</td>\n",
       "    </tr>\n",
       "    <tr>\n",
       "      <th>24517</th>\n",
       "      <td>273</td>\n",
       "      <td>2015-09-22 18:22:10</td>\n",
       "      <td>2015-09-22 18:26:43</td>\n",
       "      <td>3093</td>\n",
       "      <td>N 6 St &amp; Bedford Ave</td>\n",
       "      <td>40.717452</td>\n",
       "      <td>-73.958509</td>\n",
       "      <td>481</td>\n",
       "      <td>S 3 St &amp; Bedford Ave</td>\n",
       "      <td>40.712605</td>\n",
       "      <td>...</td>\n",
       "      <td>male</td>\n",
       "      <td>September</td>\n",
       "      <td>2015</td>\n",
       "      <td>22</td>\n",
       "      <td>18</td>\n",
       "      <td>September</td>\n",
       "      <td>2015</td>\n",
       "      <td>22</td>\n",
       "      <td>18</td>\n",
       "      <td>105</td>\n",
       "    </tr>\n",
       "    <tr>\n",
       "      <th>24685</th>\n",
       "      <td>221</td>\n",
       "      <td>2015-09-22 11:44:22</td>\n",
       "      <td>2015-09-22 11:48:04</td>\n",
       "      <td>3093</td>\n",
       "      <td>N 6 St &amp; Bedford Ave</td>\n",
       "      <td>40.717452</td>\n",
       "      <td>-73.958509</td>\n",
       "      <td>2002</td>\n",
       "      <td>Wythe Ave &amp; Metropolitan Ave</td>\n",
       "      <td>40.716887</td>\n",
       "      <td>...</td>\n",
       "      <td>male</td>\n",
       "      <td>September</td>\n",
       "      <td>2015</td>\n",
       "      <td>22</td>\n",
       "      <td>11</td>\n",
       "      <td>September</td>\n",
       "      <td>2015</td>\n",
       "      <td>22</td>\n",
       "      <td>11</td>\n",
       "      <td>105</td>\n",
       "    </tr>\n",
       "    <tr>\n",
       "      <th>24927</th>\n",
       "      <td>1545</td>\n",
       "      <td>2015-09-02 17:49:02</td>\n",
       "      <td>2015-09-02 18:14:47</td>\n",
       "      <td>259</td>\n",
       "      <td>South St &amp; Whitehall St</td>\n",
       "      <td>40.701221</td>\n",
       "      <td>-74.012342</td>\n",
       "      <td>394</td>\n",
       "      <td>E 9 St &amp; Avenue C</td>\n",
       "      <td>40.725213</td>\n",
       "      <td>...</td>\n",
       "      <td>male</td>\n",
       "      <td>September</td>\n",
       "      <td>2015</td>\n",
       "      <td>2</td>\n",
       "      <td>17</td>\n",
       "      <td>September</td>\n",
       "      <td>2015</td>\n",
       "      <td>2</td>\n",
       "      <td>18</td>\n",
       "      <td>102</td>\n",
       "    </tr>\n",
       "    <tr>\n",
       "      <th>26110</th>\n",
       "      <td>254</td>\n",
       "      <td>2015-10-21 11:53:38</td>\n",
       "      <td>2015-10-21 11:57:53</td>\n",
       "      <td>3093</td>\n",
       "      <td>N 6 St &amp; Bedford Ave</td>\n",
       "      <td>40.717452</td>\n",
       "      <td>-73.958509</td>\n",
       "      <td>2002</td>\n",
       "      <td>Wythe Ave &amp; Metropolitan Ave</td>\n",
       "      <td>40.716887</td>\n",
       "      <td>...</td>\n",
       "      <td>male</td>\n",
       "      <td>October</td>\n",
       "      <td>2015</td>\n",
       "      <td>21</td>\n",
       "      <td>11</td>\n",
       "      <td>October</td>\n",
       "      <td>2015</td>\n",
       "      <td>21</td>\n",
       "      <td>11</td>\n",
       "      <td>105</td>\n",
       "    </tr>\n",
       "  </tbody>\n",
       "</table>\n",
       "<p>13 rows × 24 columns</p>\n",
       "</div>"
      ],
      "text/plain": [
       "       tripduration           starttime            stoptime  start_station_id  \\\n",
       "6162             93 2016-01-15 18:50:28 2016-01-15 18:52:01              2002   \n",
       "6296            110 2016-01-16 12:44:18 2016-01-16 12:46:08              3090   \n",
       "8369            146 2016-05-16 10:56:13 2016-05-16 10:58:40              3093   \n",
       "15578          1042 2017-07-21 09:38:06 2017-07-21 09:55:29               427   \n",
       "19107           123 2015-12-09 15:35:53 2015-12-09 15:37:57              2002   \n",
       "19760           104 2015-12-21 14:20:27 2015-12-21 14:22:12               539   \n",
       "20140          1820 2015-07-04 19:22:59 2015-07-04 19:53:19               539   \n",
       "22828           590 2015-08-18 21:35:49 2015-08-18 21:45:39               161   \n",
       "24496          1133 2015-09-16 07:48:12 2015-09-16 08:07:05               393   \n",
       "24517           273 2015-09-22 18:22:10 2015-09-22 18:26:43              3093   \n",
       "24685           221 2015-09-22 11:44:22 2015-09-22 11:48:04              3093   \n",
       "24927          1545 2015-09-02 17:49:02 2015-09-02 18:14:47               259   \n",
       "26110           254 2015-10-21 11:53:38 2015-10-21 11:57:53              3093   \n",
       "\n",
       "                   start_station_name  start_station_latitude  \\\n",
       "6162     Wythe Ave & Metropolitan Ave               40.716887   \n",
       "6296              N 8 St & Driggs Ave               40.717746   \n",
       "8369             N 6 St & Bedford Ave               40.717452   \n",
       "15578             Bus Slip & State St               40.701907   \n",
       "19107    Wythe Ave & Metropolitan Ave               40.716887   \n",
       "19760  Metropolitan Ave & Bedford Ave               40.715348   \n",
       "20140  Metropolitan Ave & Bedford Ave               40.715348   \n",
       "22828           LaGuardia Pl & W 3 St               40.729170   \n",
       "24496               E 5 St & Avenue C               40.722992   \n",
       "24517            N 6 St & Bedford Ave               40.717452   \n",
       "24685            N 6 St & Bedford Ave               40.717452   \n",
       "24927         South St & Whitehall St               40.701221   \n",
       "26110            N 6 St & Bedford Ave               40.717452   \n",
       "\n",
       "       start_station_longitude  end_station_id  \\\n",
       "6162                -73.963198             539   \n",
       "6296                -73.956001            3093   \n",
       "8369                -73.958509            2002   \n",
       "15578               -74.013942            3260   \n",
       "19107               -73.963198            3093   \n",
       "19760               -73.960241            2002   \n",
       "20140               -73.960241            2002   \n",
       "22828               -73.998102             382   \n",
       "24496               -73.979955             259   \n",
       "24517               -73.958509             481   \n",
       "24685               -73.958509            2002   \n",
       "24927               -74.012342             394   \n",
       "26110               -73.958509            2002   \n",
       "\n",
       "                     end_station_name  end_station_latitude  ...   gender  \\\n",
       "6162   Metropolitan Ave & Bedford Ave             40.715348  ...     male   \n",
       "6296             N 6 St & Bedford Ave             40.717452  ...     male   \n",
       "8369     Wythe Ave & Metropolitan Ave             40.716887  ...     male   \n",
       "15578         Mercer St & Bleecker St             40.727064  ...  unknown   \n",
       "19107            N 6 St & Bedford Ave             40.717452  ...     male   \n",
       "19760    Wythe Ave & Metropolitan Ave             40.716887  ...     male   \n",
       "20140    Wythe Ave & Metropolitan Ave             40.716887  ...     male   \n",
       "22828         University Pl & E 14 St             40.734927  ...     male   \n",
       "24496         South St & Whitehall St             40.701221  ...     male   \n",
       "24517            S 3 St & Bedford Ave             40.712605  ...     male   \n",
       "24685    Wythe Ave & Metropolitan Ave             40.716887  ...     male   \n",
       "24927               E 9 St & Avenue C             40.725213  ...     male   \n",
       "26110    Wythe Ave & Metropolitan Ave             40.716887  ...     male   \n",
       "\n",
       "       start_month start_year  start_date start_hour stop_month  stop_year  \\\n",
       "6162       January       2016          15         18    January       2016   \n",
       "6296       January       2016          16         12    January       2016   \n",
       "8369           May       2016          16         10        May       2016   \n",
       "15578         July       2017          21          9       July       2017   \n",
       "19107     December       2015           9         15   December       2015   \n",
       "19760     December       2015          21         14   December       2015   \n",
       "20140         July       2015           4         19       July       2015   \n",
       "22828       August       2015          18         21     August       2015   \n",
       "24496    September       2015          16          7  September       2015   \n",
       "24517    September       2015          22         18  September       2015   \n",
       "24685    September       2015          22         11  September       2015   \n",
       "24927    September       2015           2         17  September       2015   \n",
       "26110      October       2015          21         11    October       2015   \n",
       "\n",
       "       stop_date  stop_hour customer_age  \n",
       "6162          15         18          106  \n",
       "6296          16         12          106  \n",
       "8369          16         10          106  \n",
       "15578         21          9          105  \n",
       "19107          9         15          105  \n",
       "19760         21         14          105  \n",
       "20140          4         19          105  \n",
       "22828         18         21          105  \n",
       "24496         16          8          102  \n",
       "24517         22         18          105  \n",
       "24685         22         11          105  \n",
       "24927          2         18          102  \n",
       "26110         21         11          105  \n",
       "\n",
       "[13 rows x 24 columns]"
      ]
     },
     "execution_count": 34,
     "metadata": {},
     "output_type": "execute_result"
    }
   ],
   "source": [
    "# slicing data dengan usia customer antara 100 - 107 tahun\n",
    "df[(df['customer_age'] > 100) & (df['customer_age'] < 107)]"
   ]
  },
  {
   "cell_type": "markdown",
   "metadata": {},
   "source": [
    "Dari tabel di atas, masih terdapat beberapa baris data dengan usia customer di atas 100 tahun dan di bawah 107 tahun (dibawah rentang batas upperfence dari evaluasi terhadap persentil Q1 dan Q3).\n",
    "\n",
    "Metode common sense yang digunakan antara lain mempertimbangkan usia manusia yang masih aktif beraktivitas sepeda dalam kota New York. Untuk menghindari asumsi tanpa dasar, data range usia bisa diambil dari sumber data yang kredibel. Dalam hal ini, source data yang digunakan adalah: https://www.nytimes.com/2020/01/30/us/us-life-expectancy.html yang menyebutkan bahwa life expectancy di US pada tahun 2018 adalah **78.7** tahun."
   ]
  },
  {
   "cell_type": "code",
   "execution_count": 35,
   "metadata": {},
   "outputs": [
    {
     "name": "stdout",
     "output_type": "stream",
     "text": [
      "Jumlah data outliers diatas usia 78 tahun: 293\n"
     ]
    }
   ],
   "source": [
    "print(f\"Jumlah data outliers diatas usia 78 tahun: {df[df['customer_age'] > 78]['customer_age'].count()}\")"
   ]
  },
  {
   "cell_type": "code",
   "execution_count": 36,
   "metadata": {},
   "outputs": [
    {
     "name": "stdout",
     "output_type": "stream",
     "text": [
      "persentase jumlah data outliers kolom age = 0.98%\n"
     ]
    }
   ],
   "source": [
    "print(f'persentase jumlah data outliers kolom age = {round(293/30000*100, 2)}%')"
   ]
  },
  {
   "cell_type": "markdown",
   "metadata": {},
   "source": [
    "## Handling data Outliers\n",
    "\n",
    "Outliers data di feature customer_age dapat terjadi karena customer yang salah menginput data tahun kelahiran. Jika dibandingkan dengan data keseluruhan yang berjumlah 30000 baris, persentase data outliers hanya sebesar 0.54% pada evaluasi terhadap persentil Q1 dan Q3, dan/atau 0.5% pada evaluasi terhadap value Z score, dan/atau sebanyak 0.98% diatas usia life expectancy US pada tahun 2018 (78 tahun). Dari evaluasi terhadap metode-metode yang digunakan, persentase data outliers yang < 5% dari jumlah data keseluruhan memungkinkan untuk nilai outliers ini didrop dari dataset, sehingga tidak menimbulkan bias pada analisis terhadap usia, atau kolom customer_age."
   ]
  },
  {
   "cell_type": "markdown",
   "metadata": {},
   "source": [
    "Rentang data outliers yang dipilih adalah berdasarkan common sense, dimana dataset yang memiliki value di kolom customer_age > 78 tahun akan didrop dari dataset."
   ]
  },
  {
   "cell_type": "code",
   "execution_count": 37,
   "metadata": {},
   "outputs": [],
   "source": [
    "# slicing data untuk mengeluarkan data-data outliers. rename sebagai dataframe trips\n",
    "trips = df[df['customer_age'] <= 78]"
   ]
  },
  {
   "cell_type": "code",
   "execution_count": 38,
   "metadata": {},
   "outputs": [
    {
     "name": "stdout",
     "output_type": "stream",
     "text": [
      "jumlah baris pada dataset tanpa outliers: 29707\n"
     ]
    }
   ],
   "source": [
    "print(f\"jumlah baris pada dataset tanpa outliers: {trips['customer_age'].count()}\")"
   ]
  },
  {
   "cell_type": "markdown",
   "metadata": {},
   "source": [
    "## Dataframe final citibike_trips setelah handling data outliers"
   ]
  },
  {
   "cell_type": "code",
   "execution_count": 39,
   "metadata": {},
   "outputs": [
    {
     "data": {
      "text/html": [
       "<div>\n",
       "<style scoped>\n",
       "    .dataframe tbody tr th:only-of-type {\n",
       "        vertical-align: middle;\n",
       "    }\n",
       "\n",
       "    .dataframe tbody tr th {\n",
       "        vertical-align: top;\n",
       "    }\n",
       "\n",
       "    .dataframe thead th {\n",
       "        text-align: right;\n",
       "    }\n",
       "</style>\n",
       "<table border=\"1\" class=\"dataframe\">\n",
       "  <thead>\n",
       "    <tr style=\"text-align: right;\">\n",
       "      <th></th>\n",
       "      <th>tripduration</th>\n",
       "      <th>starttime</th>\n",
       "      <th>stoptime</th>\n",
       "      <th>start_station_id</th>\n",
       "      <th>start_station_name</th>\n",
       "      <th>start_station_latitude</th>\n",
       "      <th>start_station_longitude</th>\n",
       "      <th>end_station_id</th>\n",
       "      <th>end_station_name</th>\n",
       "      <th>end_station_latitude</th>\n",
       "      <th>...</th>\n",
       "      <th>gender</th>\n",
       "      <th>start_month</th>\n",
       "      <th>start_year</th>\n",
       "      <th>start_date</th>\n",
       "      <th>start_hour</th>\n",
       "      <th>stop_month</th>\n",
       "      <th>stop_year</th>\n",
       "      <th>stop_date</th>\n",
       "      <th>stop_hour</th>\n",
       "      <th>customer_age</th>\n",
       "    </tr>\n",
       "  </thead>\n",
       "  <tbody>\n",
       "    <tr>\n",
       "      <th>0</th>\n",
       "      <td>857</td>\n",
       "      <td>2016-08-06 11:16:51</td>\n",
       "      <td>2016-08-06 11:31:08</td>\n",
       "      <td>332</td>\n",
       "      <td>Cherry St</td>\n",
       "      <td>40.712199</td>\n",
       "      <td>-73.979481</td>\n",
       "      <td>351</td>\n",
       "      <td>Front St &amp; Maiden Ln</td>\n",
       "      <td>40.705310</td>\n",
       "      <td>...</td>\n",
       "      <td>male</td>\n",
       "      <td>August</td>\n",
       "      <td>2016</td>\n",
       "      <td>6</td>\n",
       "      <td>11</td>\n",
       "      <td>August</td>\n",
       "      <td>2016</td>\n",
       "      <td>6</td>\n",
       "      <td>11</td>\n",
       "      <td>59</td>\n",
       "    </tr>\n",
       "    <tr>\n",
       "      <th>1</th>\n",
       "      <td>567</td>\n",
       "      <td>2016-08-17 13:05:44</td>\n",
       "      <td>2016-08-17 13:15:11</td>\n",
       "      <td>3125</td>\n",
       "      <td>45 Rd &amp; 11 St</td>\n",
       "      <td>40.747086</td>\n",
       "      <td>-73.949772</td>\n",
       "      <td>3126</td>\n",
       "      <td>44 Dr &amp; Jackson Ave</td>\n",
       "      <td>40.747182</td>\n",
       "      <td>...</td>\n",
       "      <td>male</td>\n",
       "      <td>August</td>\n",
       "      <td>2016</td>\n",
       "      <td>17</td>\n",
       "      <td>13</td>\n",
       "      <td>August</td>\n",
       "      <td>2016</td>\n",
       "      <td>17</td>\n",
       "      <td>13</td>\n",
       "      <td>39</td>\n",
       "    </tr>\n",
       "    <tr>\n",
       "      <th>2</th>\n",
       "      <td>660</td>\n",
       "      <td>2016-08-06 20:13:27</td>\n",
       "      <td>2016-08-06 20:24:27</td>\n",
       "      <td>217</td>\n",
       "      <td>Old Fulton St</td>\n",
       "      <td>40.702772</td>\n",
       "      <td>-73.993836</td>\n",
       "      <td>398</td>\n",
       "      <td>Atlantic Ave &amp; Furman St</td>\n",
       "      <td>40.691652</td>\n",
       "      <td>...</td>\n",
       "      <td>female</td>\n",
       "      <td>August</td>\n",
       "      <td>2016</td>\n",
       "      <td>6</td>\n",
       "      <td>20</td>\n",
       "      <td>August</td>\n",
       "      <td>2016</td>\n",
       "      <td>6</td>\n",
       "      <td>20</td>\n",
       "      <td>45</td>\n",
       "    </tr>\n",
       "    <tr>\n",
       "      <th>3</th>\n",
       "      <td>947</td>\n",
       "      <td>2016-08-28 15:32:13</td>\n",
       "      <td>2016-08-28 15:48:00</td>\n",
       "      <td>217</td>\n",
       "      <td>Old Fulton St</td>\n",
       "      <td>40.702772</td>\n",
       "      <td>-73.993836</td>\n",
       "      <td>398</td>\n",
       "      <td>Atlantic Ave &amp; Furman St</td>\n",
       "      <td>40.691652</td>\n",
       "      <td>...</td>\n",
       "      <td>female</td>\n",
       "      <td>August</td>\n",
       "      <td>2016</td>\n",
       "      <td>28</td>\n",
       "      <td>15</td>\n",
       "      <td>August</td>\n",
       "      <td>2016</td>\n",
       "      <td>28</td>\n",
       "      <td>15</td>\n",
       "      <td>62</td>\n",
       "    </tr>\n",
       "    <tr>\n",
       "      <th>4</th>\n",
       "      <td>474</td>\n",
       "      <td>2016-08-24 00:29:13</td>\n",
       "      <td>2016-08-24 00:37:07</td>\n",
       "      <td>3265</td>\n",
       "      <td>E 2 St &amp; 2 Ave</td>\n",
       "      <td>40.724563</td>\n",
       "      <td>-73.989444</td>\n",
       "      <td>295</td>\n",
       "      <td>Pike St &amp; E Broadway</td>\n",
       "      <td>40.714067</td>\n",
       "      <td>...</td>\n",
       "      <td>male</td>\n",
       "      <td>August</td>\n",
       "      <td>2016</td>\n",
       "      <td>24</td>\n",
       "      <td>0</td>\n",
       "      <td>August</td>\n",
       "      <td>2016</td>\n",
       "      <td>24</td>\n",
       "      <td>0</td>\n",
       "      <td>27</td>\n",
       "    </tr>\n",
       "  </tbody>\n",
       "</table>\n",
       "<p>5 rows × 24 columns</p>\n",
       "</div>"
      ],
      "text/plain": [
       "   tripduration           starttime            stoptime  start_station_id  \\\n",
       "0           857 2016-08-06 11:16:51 2016-08-06 11:31:08               332   \n",
       "1           567 2016-08-17 13:05:44 2016-08-17 13:15:11              3125   \n",
       "2           660 2016-08-06 20:13:27 2016-08-06 20:24:27               217   \n",
       "3           947 2016-08-28 15:32:13 2016-08-28 15:48:00               217   \n",
       "4           474 2016-08-24 00:29:13 2016-08-24 00:37:07              3265   \n",
       "\n",
       "  start_station_name  start_station_latitude  start_station_longitude  \\\n",
       "0          Cherry St               40.712199               -73.979481   \n",
       "1      45 Rd & 11 St               40.747086               -73.949772   \n",
       "2      Old Fulton St               40.702772               -73.993836   \n",
       "3      Old Fulton St               40.702772               -73.993836   \n",
       "4     E 2 St & 2 Ave               40.724563               -73.989444   \n",
       "\n",
       "   end_station_id          end_station_name  end_station_latitude  ...  \\\n",
       "0             351      Front St & Maiden Ln             40.705310  ...   \n",
       "1            3126       44 Dr & Jackson Ave             40.747182  ...   \n",
       "2             398  Atlantic Ave & Furman St             40.691652  ...   \n",
       "3             398  Atlantic Ave & Furman St             40.691652  ...   \n",
       "4             295      Pike St & E Broadway             40.714067  ...   \n",
       "\n",
       "   gender  start_month start_year  start_date start_hour stop_month  \\\n",
       "0    male       August       2016           6         11     August   \n",
       "1    male       August       2016          17         13     August   \n",
       "2  female       August       2016           6         20     August   \n",
       "3  female       August       2016          28         15     August   \n",
       "4    male       August       2016          24          0     August   \n",
       "\n",
       "   stop_year  stop_date  stop_hour customer_age  \n",
       "0       2016          6         11           59  \n",
       "1       2016         17         13           39  \n",
       "2       2016          6         20           45  \n",
       "3       2016         28         15           62  \n",
       "4       2016         24          0           27  \n",
       "\n",
       "[5 rows x 24 columns]"
      ]
     },
     "execution_count": 39,
     "metadata": {},
     "output_type": "execute_result"
    }
   ],
   "source": [
    "trips.head()"
   ]
  },
  {
   "cell_type": "code",
   "execution_count": 40,
   "metadata": {},
   "outputs": [],
   "source": [
    "desc = []\n",
    "for i in trips.columns:\n",
    "    desc.append([\n",
    "        i, \n",
    "        trips[i].dtypes, \n",
    "        trips[i].isnull().sum(),\n",
    "        round((((trips[i].isnull().sum())/(len(trips)))*100), 2),\n",
    "        trips[i].nunique(), trips[i].drop_duplicates().sample(1).values\n",
    "    ])"
   ]
  },
  {
   "cell_type": "code",
   "execution_count": 41,
   "metadata": {},
   "outputs": [
    {
     "data": {
      "text/html": [
       "<div>\n",
       "<style scoped>\n",
       "    .dataframe tbody tr th:only-of-type {\n",
       "        vertical-align: middle;\n",
       "    }\n",
       "\n",
       "    .dataframe tbody tr th {\n",
       "        vertical-align: top;\n",
       "    }\n",
       "\n",
       "    .dataframe thead th {\n",
       "        text-align: right;\n",
       "    }\n",
       "</style>\n",
       "<table border=\"1\" class=\"dataframe\">\n",
       "  <thead>\n",
       "    <tr style=\"text-align: right;\">\n",
       "      <th></th>\n",
       "      <th>dataFeatures</th>\n",
       "      <th>dataType</th>\n",
       "      <th>null</th>\n",
       "      <th>nullPercentage</th>\n",
       "      <th>unique</th>\n",
       "      <th>sample</th>\n",
       "    </tr>\n",
       "  </thead>\n",
       "  <tbody>\n",
       "    <tr>\n",
       "      <th>0</th>\n",
       "      <td>tripduration</td>\n",
       "      <td>int64</td>\n",
       "      <td>0</td>\n",
       "      <td>0.0</td>\n",
       "      <td>2750</td>\n",
       "      <td>[61]</td>\n",
       "    </tr>\n",
       "    <tr>\n",
       "      <th>1</th>\n",
       "      <td>starttime</td>\n",
       "      <td>datetime64[ns]</td>\n",
       "      <td>0</td>\n",
       "      <td>0.0</td>\n",
       "      <td>29601</td>\n",
       "      <td>[2015-12-03T20:40:16.000000000]</td>\n",
       "    </tr>\n",
       "    <tr>\n",
       "      <th>2</th>\n",
       "      <td>stoptime</td>\n",
       "      <td>datetime64[ns]</td>\n",
       "      <td>0</td>\n",
       "      <td>0.0</td>\n",
       "      <td>29618</td>\n",
       "      <td>[2015-05-21T22:23:46.000000000]</td>\n",
       "    </tr>\n",
       "    <tr>\n",
       "      <th>3</th>\n",
       "      <td>start_station_id</td>\n",
       "      <td>int64</td>\n",
       "      <td>0</td>\n",
       "      <td>0.0</td>\n",
       "      <td>736</td>\n",
       "      <td>[3152]</td>\n",
       "    </tr>\n",
       "    <tr>\n",
       "      <th>4</th>\n",
       "      <td>start_station_name</td>\n",
       "      <td>object</td>\n",
       "      <td>0</td>\n",
       "      <td>0.0</td>\n",
       "      <td>746</td>\n",
       "      <td>[Greenwich St &amp; North Moore St]</td>\n",
       "    </tr>\n",
       "    <tr>\n",
       "      <th>5</th>\n",
       "      <td>start_station_latitude</td>\n",
       "      <td>float64</td>\n",
       "      <td>0</td>\n",
       "      <td>0.0</td>\n",
       "      <td>763</td>\n",
       "      <td>[40.74469738]</td>\n",
       "    </tr>\n",
       "    <tr>\n",
       "      <th>6</th>\n",
       "      <td>start_station_longitude</td>\n",
       "      <td>float64</td>\n",
       "      <td>0</td>\n",
       "      <td>0.0</td>\n",
       "      <td>763</td>\n",
       "      <td>[-73.94308000000001]</td>\n",
       "    </tr>\n",
       "    <tr>\n",
       "      <th>7</th>\n",
       "      <td>end_station_id</td>\n",
       "      <td>int64</td>\n",
       "      <td>0</td>\n",
       "      <td>0.0</td>\n",
       "      <td>739</td>\n",
       "      <td>[3443]</td>\n",
       "    </tr>\n",
       "    <tr>\n",
       "      <th>8</th>\n",
       "      <td>end_station_name</td>\n",
       "      <td>object</td>\n",
       "      <td>0</td>\n",
       "      <td>0.0</td>\n",
       "      <td>750</td>\n",
       "      <td>[E 71 St &amp; 2 Ave]</td>\n",
       "    </tr>\n",
       "    <tr>\n",
       "      <th>9</th>\n",
       "      <td>end_station_latitude</td>\n",
       "      <td>float64</td>\n",
       "      <td>0</td>\n",
       "      <td>0.0</td>\n",
       "      <td>765</td>\n",
       "      <td>[40.77677702]</td>\n",
       "    </tr>\n",
       "    <tr>\n",
       "      <th>10</th>\n",
       "      <td>end_station_longitude</td>\n",
       "      <td>float64</td>\n",
       "      <td>0</td>\n",
       "      <td>0.0</td>\n",
       "      <td>765</td>\n",
       "      <td>[-73.99093085]</td>\n",
       "    </tr>\n",
       "    <tr>\n",
       "      <th>11</th>\n",
       "      <td>bikeid</td>\n",
       "      <td>int64</td>\n",
       "      <td>0</td>\n",
       "      <td>0.0</td>\n",
       "      <td>11645</td>\n",
       "      <td>[18347]</td>\n",
       "    </tr>\n",
       "    <tr>\n",
       "      <th>12</th>\n",
       "      <td>usertype</td>\n",
       "      <td>object</td>\n",
       "      <td>0</td>\n",
       "      <td>0.0</td>\n",
       "      <td>2</td>\n",
       "      <td>[Customer]</td>\n",
       "    </tr>\n",
       "    <tr>\n",
       "      <th>13</th>\n",
       "      <td>birth_year</td>\n",
       "      <td>int64</td>\n",
       "      <td>0</td>\n",
       "      <td>0.0</td>\n",
       "      <td>65</td>\n",
       "      <td>[1965]</td>\n",
       "    </tr>\n",
       "    <tr>\n",
       "      <th>14</th>\n",
       "      <td>gender</td>\n",
       "      <td>object</td>\n",
       "      <td>0</td>\n",
       "      <td>0.0</td>\n",
       "      <td>3</td>\n",
       "      <td>[male]</td>\n",
       "    </tr>\n",
       "    <tr>\n",
       "      <th>15</th>\n",
       "      <td>start_month</td>\n",
       "      <td>object</td>\n",
       "      <td>0</td>\n",
       "      <td>0.0</td>\n",
       "      <td>12</td>\n",
       "      <td>[December]</td>\n",
       "    </tr>\n",
       "    <tr>\n",
       "      <th>16</th>\n",
       "      <td>start_year</td>\n",
       "      <td>int64</td>\n",
       "      <td>0</td>\n",
       "      <td>0.0</td>\n",
       "      <td>3</td>\n",
       "      <td>[2015]</td>\n",
       "    </tr>\n",
       "    <tr>\n",
       "      <th>17</th>\n",
       "      <td>start_date</td>\n",
       "      <td>int64</td>\n",
       "      <td>0</td>\n",
       "      <td>0.0</td>\n",
       "      <td>31</td>\n",
       "      <td>[6]</td>\n",
       "    </tr>\n",
       "    <tr>\n",
       "      <th>18</th>\n",
       "      <td>start_hour</td>\n",
       "      <td>int64</td>\n",
       "      <td>0</td>\n",
       "      <td>0.0</td>\n",
       "      <td>24</td>\n",
       "      <td>[1]</td>\n",
       "    </tr>\n",
       "    <tr>\n",
       "      <th>19</th>\n",
       "      <td>stop_month</td>\n",
       "      <td>object</td>\n",
       "      <td>0</td>\n",
       "      <td>0.0</td>\n",
       "      <td>12</td>\n",
       "      <td>[January]</td>\n",
       "    </tr>\n",
       "    <tr>\n",
       "      <th>20</th>\n",
       "      <td>stop_year</td>\n",
       "      <td>int64</td>\n",
       "      <td>0</td>\n",
       "      <td>0.0</td>\n",
       "      <td>3</td>\n",
       "      <td>[2017]</td>\n",
       "    </tr>\n",
       "    <tr>\n",
       "      <th>21</th>\n",
       "      <td>stop_date</td>\n",
       "      <td>int64</td>\n",
       "      <td>0</td>\n",
       "      <td>0.0</td>\n",
       "      <td>31</td>\n",
       "      <td>[30]</td>\n",
       "    </tr>\n",
       "    <tr>\n",
       "      <th>22</th>\n",
       "      <td>stop_hour</td>\n",
       "      <td>int64</td>\n",
       "      <td>0</td>\n",
       "      <td>0.0</td>\n",
       "      <td>24</td>\n",
       "      <td>[18]</td>\n",
       "    </tr>\n",
       "    <tr>\n",
       "      <th>23</th>\n",
       "      <td>customer_age</td>\n",
       "      <td>int64</td>\n",
       "      <td>0</td>\n",
       "      <td>0.0</td>\n",
       "      <td>63</td>\n",
       "      <td>[65]</td>\n",
       "    </tr>\n",
       "  </tbody>\n",
       "</table>\n",
       "</div>"
      ],
      "text/plain": [
       "               dataFeatures        dataType  null  nullPercentage  unique  \\\n",
       "0              tripduration           int64     0             0.0    2750   \n",
       "1                 starttime  datetime64[ns]     0             0.0   29601   \n",
       "2                  stoptime  datetime64[ns]     0             0.0   29618   \n",
       "3          start_station_id           int64     0             0.0     736   \n",
       "4        start_station_name          object     0             0.0     746   \n",
       "5    start_station_latitude         float64     0             0.0     763   \n",
       "6   start_station_longitude         float64     0             0.0     763   \n",
       "7            end_station_id           int64     0             0.0     739   \n",
       "8          end_station_name          object     0             0.0     750   \n",
       "9      end_station_latitude         float64     0             0.0     765   \n",
       "10    end_station_longitude         float64     0             0.0     765   \n",
       "11                   bikeid           int64     0             0.0   11645   \n",
       "12                 usertype          object     0             0.0       2   \n",
       "13               birth_year           int64     0             0.0      65   \n",
       "14                   gender          object     0             0.0       3   \n",
       "15              start_month          object     0             0.0      12   \n",
       "16               start_year           int64     0             0.0       3   \n",
       "17               start_date           int64     0             0.0      31   \n",
       "18               start_hour           int64     0             0.0      24   \n",
       "19               stop_month          object     0             0.0      12   \n",
       "20                stop_year           int64     0             0.0       3   \n",
       "21                stop_date           int64     0             0.0      31   \n",
       "22                stop_hour           int64     0             0.0      24   \n",
       "23             customer_age           int64     0             0.0      63   \n",
       "\n",
       "                             sample  \n",
       "0                              [61]  \n",
       "1   [2015-12-03T20:40:16.000000000]  \n",
       "2   [2015-05-21T22:23:46.000000000]  \n",
       "3                            [3152]  \n",
       "4   [Greenwich St & North Moore St]  \n",
       "5                     [40.74469738]  \n",
       "6              [-73.94308000000001]  \n",
       "7                            [3443]  \n",
       "8                 [E 71 St & 2 Ave]  \n",
       "9                     [40.77677702]  \n",
       "10                   [-73.99093085]  \n",
       "11                          [18347]  \n",
       "12                       [Customer]  \n",
       "13                           [1965]  \n",
       "14                           [male]  \n",
       "15                       [December]  \n",
       "16                           [2015]  \n",
       "17                              [6]  \n",
       "18                              [1]  \n",
       "19                        [January]  \n",
       "20                           [2017]  \n",
       "21                             [30]  \n",
       "22                             [18]  \n",
       "23                             [65]  "
      ]
     },
     "execution_count": 41,
     "metadata": {},
     "output_type": "execute_result"
    }
   ],
   "source": [
    "dfDesc = pd.DataFrame(desc, columns=['dataFeatures', 'dataType', 'null', 'nullPercentage', 'unique', 'sample'])\n",
    "dfDesc"
   ]
  },
  {
   "cell_type": "code",
   "execution_count": 42,
   "metadata": {},
   "outputs": [
    {
     "data": {
      "text/html": [
       "<div>\n",
       "<style scoped>\n",
       "    .dataframe tbody tr th:only-of-type {\n",
       "        vertical-align: middle;\n",
       "    }\n",
       "\n",
       "    .dataframe tbody tr th {\n",
       "        vertical-align: top;\n",
       "    }\n",
       "\n",
       "    .dataframe thead th {\n",
       "        text-align: right;\n",
       "    }\n",
       "</style>\n",
       "<table border=\"1\" class=\"dataframe\">\n",
       "  <thead>\n",
       "    <tr style=\"text-align: right;\">\n",
       "      <th></th>\n",
       "      <th>tripduration</th>\n",
       "      <th>starttime</th>\n",
       "      <th>stoptime</th>\n",
       "      <th>start_station_id</th>\n",
       "      <th>start_station_name</th>\n",
       "      <th>start_station_latitude</th>\n",
       "      <th>start_station_longitude</th>\n",
       "      <th>end_station_id</th>\n",
       "      <th>end_station_name</th>\n",
       "      <th>end_station_latitude</th>\n",
       "      <th>...</th>\n",
       "      <th>gender</th>\n",
       "      <th>start_month</th>\n",
       "      <th>start_year</th>\n",
       "      <th>start_date</th>\n",
       "      <th>start_hour</th>\n",
       "      <th>stop_month</th>\n",
       "      <th>stop_year</th>\n",
       "      <th>stop_date</th>\n",
       "      <th>stop_hour</th>\n",
       "      <th>customer_age</th>\n",
       "    </tr>\n",
       "  </thead>\n",
       "  <tbody>\n",
       "    <tr>\n",
       "      <th>0</th>\n",
       "      <td>857</td>\n",
       "      <td>2016-08-06 11:16:51</td>\n",
       "      <td>2016-08-06 11:31:08</td>\n",
       "      <td>332</td>\n",
       "      <td>Cherry St</td>\n",
       "      <td>40.712199</td>\n",
       "      <td>-73.979481</td>\n",
       "      <td>351</td>\n",
       "      <td>Front St &amp; Maiden Ln</td>\n",
       "      <td>40.705310</td>\n",
       "      <td>...</td>\n",
       "      <td>male</td>\n",
       "      <td>August</td>\n",
       "      <td>2016</td>\n",
       "      <td>6</td>\n",
       "      <td>11</td>\n",
       "      <td>August</td>\n",
       "      <td>2016</td>\n",
       "      <td>6</td>\n",
       "      <td>11</td>\n",
       "      <td>59</td>\n",
       "    </tr>\n",
       "    <tr>\n",
       "      <th>1</th>\n",
       "      <td>567</td>\n",
       "      <td>2016-08-17 13:05:44</td>\n",
       "      <td>2016-08-17 13:15:11</td>\n",
       "      <td>3125</td>\n",
       "      <td>45 Rd &amp; 11 St</td>\n",
       "      <td>40.747086</td>\n",
       "      <td>-73.949772</td>\n",
       "      <td>3126</td>\n",
       "      <td>44 Dr &amp; Jackson Ave</td>\n",
       "      <td>40.747182</td>\n",
       "      <td>...</td>\n",
       "      <td>male</td>\n",
       "      <td>August</td>\n",
       "      <td>2016</td>\n",
       "      <td>17</td>\n",
       "      <td>13</td>\n",
       "      <td>August</td>\n",
       "      <td>2016</td>\n",
       "      <td>17</td>\n",
       "      <td>13</td>\n",
       "      <td>39</td>\n",
       "    </tr>\n",
       "    <tr>\n",
       "      <th>2</th>\n",
       "      <td>660</td>\n",
       "      <td>2016-08-06 20:13:27</td>\n",
       "      <td>2016-08-06 20:24:27</td>\n",
       "      <td>217</td>\n",
       "      <td>Old Fulton St</td>\n",
       "      <td>40.702772</td>\n",
       "      <td>-73.993836</td>\n",
       "      <td>398</td>\n",
       "      <td>Atlantic Ave &amp; Furman St</td>\n",
       "      <td>40.691652</td>\n",
       "      <td>...</td>\n",
       "      <td>female</td>\n",
       "      <td>August</td>\n",
       "      <td>2016</td>\n",
       "      <td>6</td>\n",
       "      <td>20</td>\n",
       "      <td>August</td>\n",
       "      <td>2016</td>\n",
       "      <td>6</td>\n",
       "      <td>20</td>\n",
       "      <td>45</td>\n",
       "    </tr>\n",
       "    <tr>\n",
       "      <th>3</th>\n",
       "      <td>947</td>\n",
       "      <td>2016-08-28 15:32:13</td>\n",
       "      <td>2016-08-28 15:48:00</td>\n",
       "      <td>217</td>\n",
       "      <td>Old Fulton St</td>\n",
       "      <td>40.702772</td>\n",
       "      <td>-73.993836</td>\n",
       "      <td>398</td>\n",
       "      <td>Atlantic Ave &amp; Furman St</td>\n",
       "      <td>40.691652</td>\n",
       "      <td>...</td>\n",
       "      <td>female</td>\n",
       "      <td>August</td>\n",
       "      <td>2016</td>\n",
       "      <td>28</td>\n",
       "      <td>15</td>\n",
       "      <td>August</td>\n",
       "      <td>2016</td>\n",
       "      <td>28</td>\n",
       "      <td>15</td>\n",
       "      <td>62</td>\n",
       "    </tr>\n",
       "    <tr>\n",
       "      <th>4</th>\n",
       "      <td>474</td>\n",
       "      <td>2016-08-24 00:29:13</td>\n",
       "      <td>2016-08-24 00:37:07</td>\n",
       "      <td>3265</td>\n",
       "      <td>E 2 St &amp; 2 Ave</td>\n",
       "      <td>40.724563</td>\n",
       "      <td>-73.989444</td>\n",
       "      <td>295</td>\n",
       "      <td>Pike St &amp; E Broadway</td>\n",
       "      <td>40.714067</td>\n",
       "      <td>...</td>\n",
       "      <td>male</td>\n",
       "      <td>August</td>\n",
       "      <td>2016</td>\n",
       "      <td>24</td>\n",
       "      <td>0</td>\n",
       "      <td>August</td>\n",
       "      <td>2016</td>\n",
       "      <td>24</td>\n",
       "      <td>0</td>\n",
       "      <td>27</td>\n",
       "    </tr>\n",
       "  </tbody>\n",
       "</table>\n",
       "<p>5 rows × 24 columns</p>\n",
       "</div>"
      ],
      "text/plain": [
       "   tripduration           starttime            stoptime  start_station_id  \\\n",
       "0           857 2016-08-06 11:16:51 2016-08-06 11:31:08               332   \n",
       "1           567 2016-08-17 13:05:44 2016-08-17 13:15:11              3125   \n",
       "2           660 2016-08-06 20:13:27 2016-08-06 20:24:27               217   \n",
       "3           947 2016-08-28 15:32:13 2016-08-28 15:48:00               217   \n",
       "4           474 2016-08-24 00:29:13 2016-08-24 00:37:07              3265   \n",
       "\n",
       "  start_station_name  start_station_latitude  start_station_longitude  \\\n",
       "0          Cherry St               40.712199               -73.979481   \n",
       "1      45 Rd & 11 St               40.747086               -73.949772   \n",
       "2      Old Fulton St               40.702772               -73.993836   \n",
       "3      Old Fulton St               40.702772               -73.993836   \n",
       "4     E 2 St & 2 Ave               40.724563               -73.989444   \n",
       "\n",
       "   end_station_id          end_station_name  end_station_latitude  ...  \\\n",
       "0             351      Front St & Maiden Ln             40.705310  ...   \n",
       "1            3126       44 Dr & Jackson Ave             40.747182  ...   \n",
       "2             398  Atlantic Ave & Furman St             40.691652  ...   \n",
       "3             398  Atlantic Ave & Furman St             40.691652  ...   \n",
       "4             295      Pike St & E Broadway             40.714067  ...   \n",
       "\n",
       "   gender  start_month start_year  start_date start_hour stop_month  \\\n",
       "0    male       August       2016           6         11     August   \n",
       "1    male       August       2016          17         13     August   \n",
       "2  female       August       2016           6         20     August   \n",
       "3  female       August       2016          28         15     August   \n",
       "4    male       August       2016          24          0     August   \n",
       "\n",
       "   stop_year  stop_date  stop_hour customer_age  \n",
       "0       2016          6         11           59  \n",
       "1       2016         17         13           39  \n",
       "2       2016          6         20           45  \n",
       "3       2016         28         15           62  \n",
       "4       2016         24          0           27  \n",
       "\n",
       "[5 rows x 24 columns]"
      ]
     },
     "execution_count": 42,
     "metadata": {},
     "output_type": "execute_result"
    }
   ],
   "source": [
    "# cek dataset dengan kondisi memiliki start_station_id dan end_station_id yang sama\n",
    "trips[trips['start_station_id'] != trips['end_station_id']].head()"
   ]
  },
  {
   "cell_type": "markdown",
   "metadata": {},
   "source": [
    "================================================================================"
   ]
  },
  {
   "cell_type": "markdown",
   "metadata": {},
   "source": [
    "## *Dataset: citibike_stations*"
   ]
  },
  {
   "cell_type": "code",
   "execution_count": 43,
   "metadata": {},
   "outputs": [],
   "source": [
    "st = pd.read_csv('citibike_stations.csv')"
   ]
  },
  {
   "cell_type": "code",
   "execution_count": 44,
   "metadata": {},
   "outputs": [
    {
     "data": {
      "text/html": [
       "<div>\n",
       "<style scoped>\n",
       "    .dataframe tbody tr th:only-of-type {\n",
       "        vertical-align: middle;\n",
       "    }\n",
       "\n",
       "    .dataframe tbody tr th {\n",
       "        vertical-align: top;\n",
       "    }\n",
       "\n",
       "    .dataframe thead th {\n",
       "        text-align: right;\n",
       "    }\n",
       "</style>\n",
       "<table border=\"1\" class=\"dataframe\">\n",
       "  <thead>\n",
       "    <tr style=\"text-align: right;\">\n",
       "      <th></th>\n",
       "      <th>station_id</th>\n",
       "      <th>name</th>\n",
       "      <th>short_name</th>\n",
       "      <th>latitude</th>\n",
       "      <th>longitude</th>\n",
       "      <th>region_id</th>\n",
       "      <th>rental_methods</th>\n",
       "      <th>capacity</th>\n",
       "      <th>eightd_has_key_dispenser</th>\n",
       "      <th>num_bikes_available</th>\n",
       "      <th>num_bikes_disabled</th>\n",
       "      <th>num_docks_available</th>\n",
       "      <th>num_docks_disabled</th>\n",
       "      <th>is_installed</th>\n",
       "      <th>is_renting</th>\n",
       "      <th>is_returning</th>\n",
       "      <th>eightd_has_available_keys</th>\n",
       "      <th>last_reported</th>\n",
       "    </tr>\n",
       "  </thead>\n",
       "  <tbody>\n",
       "    <tr>\n",
       "      <th>0</th>\n",
       "      <td>173</td>\n",
       "      <td>Broadway &amp; W 49 St</td>\n",
       "      <td>6708.02</td>\n",
       "      <td>-73.984527</td>\n",
       "      <td>40.760683</td>\n",
       "      <td>71.0</td>\n",
       "      <td>CREDITCARD,KEY</td>\n",
       "      <td>0</td>\n",
       "      <td>False</td>\n",
       "      <td>0</td>\n",
       "      <td>0</td>\n",
       "      <td>0</td>\n",
       "      <td>0</td>\n",
       "      <td>False</td>\n",
       "      <td>False</td>\n",
       "      <td>False</td>\n",
       "      <td>False</td>\n",
       "      <td>1970-01-01T00:00:00</td>\n",
       "    </tr>\n",
       "    <tr>\n",
       "      <th>1</th>\n",
       "      <td>393</td>\n",
       "      <td>E 5 St &amp; Avenue C</td>\n",
       "      <td>5545.04</td>\n",
       "      <td>-73.979955</td>\n",
       "      <td>40.722992</td>\n",
       "      <td>71.0</td>\n",
       "      <td>CREDITCARD,KEY</td>\n",
       "      <td>0</td>\n",
       "      <td>False</td>\n",
       "      <td>0</td>\n",
       "      <td>0</td>\n",
       "      <td>0</td>\n",
       "      <td>0</td>\n",
       "      <td>False</td>\n",
       "      <td>False</td>\n",
       "      <td>False</td>\n",
       "      <td>False</td>\n",
       "      <td>1970-01-01T00:00:00</td>\n",
       "    </tr>\n",
       "    <tr>\n",
       "      <th>2</th>\n",
       "      <td>402</td>\n",
       "      <td>Broadway &amp; E 22 St</td>\n",
       "      <td>6098.07</td>\n",
       "      <td>-73.989551</td>\n",
       "      <td>40.740343</td>\n",
       "      <td>71.0</td>\n",
       "      <td>CREDITCARD,KEY</td>\n",
       "      <td>0</td>\n",
       "      <td>False</td>\n",
       "      <td>0</td>\n",
       "      <td>0</td>\n",
       "      <td>0</td>\n",
       "      <td>0</td>\n",
       "      <td>False</td>\n",
       "      <td>False</td>\n",
       "      <td>False</td>\n",
       "      <td>False</td>\n",
       "      <td>1970-01-01T00:00:00</td>\n",
       "    </tr>\n",
       "    <tr>\n",
       "      <th>3</th>\n",
       "      <td>457</td>\n",
       "      <td>Broadway &amp; W 58 St</td>\n",
       "      <td>6948.10</td>\n",
       "      <td>-73.981693</td>\n",
       "      <td>40.766953</td>\n",
       "      <td>71.0</td>\n",
       "      <td>CREDITCARD,KEY</td>\n",
       "      <td>0</td>\n",
       "      <td>False</td>\n",
       "      <td>0</td>\n",
       "      <td>0</td>\n",
       "      <td>0</td>\n",
       "      <td>0</td>\n",
       "      <td>False</td>\n",
       "      <td>False</td>\n",
       "      <td>False</td>\n",
       "      <td>False</td>\n",
       "      <td>1970-01-01T00:00:00</td>\n",
       "    </tr>\n",
       "    <tr>\n",
       "      <th>4</th>\n",
       "      <td>533</td>\n",
       "      <td>Broadway &amp; W  38 St</td>\n",
       "      <td>6441.05</td>\n",
       "      <td>-73.987216</td>\n",
       "      <td>40.752996</td>\n",
       "      <td>71.0</td>\n",
       "      <td>CREDITCARD,KEY</td>\n",
       "      <td>0</td>\n",
       "      <td>False</td>\n",
       "      <td>0</td>\n",
       "      <td>0</td>\n",
       "      <td>0</td>\n",
       "      <td>0</td>\n",
       "      <td>False</td>\n",
       "      <td>False</td>\n",
       "      <td>False</td>\n",
       "      <td>False</td>\n",
       "      <td>1970-01-01T00:00:00</td>\n",
       "    </tr>\n",
       "  </tbody>\n",
       "</table>\n",
       "</div>"
      ],
      "text/plain": [
       "   station_id                 name short_name   latitude  longitude  \\\n",
       "0         173   Broadway & W 49 St    6708.02 -73.984527  40.760683   \n",
       "1         393    E 5 St & Avenue C    5545.04 -73.979955  40.722992   \n",
       "2         402   Broadway & E 22 St    6098.07 -73.989551  40.740343   \n",
       "3         457   Broadway & W 58 St    6948.10 -73.981693  40.766953   \n",
       "4         533  Broadway & W  38 St    6441.05 -73.987216  40.752996   \n",
       "\n",
       "   region_id  rental_methods  capacity  eightd_has_key_dispenser  \\\n",
       "0       71.0  CREDITCARD,KEY         0                     False   \n",
       "1       71.0  CREDITCARD,KEY         0                     False   \n",
       "2       71.0  CREDITCARD,KEY         0                     False   \n",
       "3       71.0  CREDITCARD,KEY         0                     False   \n",
       "4       71.0  CREDITCARD,KEY         0                     False   \n",
       "\n",
       "   num_bikes_available  num_bikes_disabled  num_docks_available  \\\n",
       "0                    0                   0                    0   \n",
       "1                    0                   0                    0   \n",
       "2                    0                   0                    0   \n",
       "3                    0                   0                    0   \n",
       "4                    0                   0                    0   \n",
       "\n",
       "   num_docks_disabled  is_installed  is_renting  is_returning  \\\n",
       "0                   0         False       False         False   \n",
       "1                   0         False       False         False   \n",
       "2                   0         False       False         False   \n",
       "3                   0         False       False         False   \n",
       "4                   0         False       False         False   \n",
       "\n",
       "   eightd_has_available_keys        last_reported  \n",
       "0                      False  1970-01-01T00:00:00  \n",
       "1                      False  1970-01-01T00:00:00  \n",
       "2                      False  1970-01-01T00:00:00  \n",
       "3                      False  1970-01-01T00:00:00  \n",
       "4                      False  1970-01-01T00:00:00  "
      ]
     },
     "execution_count": 44,
     "metadata": {},
     "output_type": "execute_result"
    }
   ],
   "source": [
    "st.head()"
   ]
  },
  {
   "cell_type": "code",
   "execution_count": 45,
   "metadata": {},
   "outputs": [
    {
     "data": {
      "text/html": [
       "<div>\n",
       "<style scoped>\n",
       "    .dataframe tbody tr th:only-of-type {\n",
       "        vertical-align: middle;\n",
       "    }\n",
       "\n",
       "    .dataframe tbody tr th {\n",
       "        vertical-align: top;\n",
       "    }\n",
       "\n",
       "    .dataframe thead th {\n",
       "        text-align: right;\n",
       "    }\n",
       "</style>\n",
       "<table border=\"1\" class=\"dataframe\">\n",
       "  <thead>\n",
       "    <tr style=\"text-align: right;\">\n",
       "      <th></th>\n",
       "      <th>count</th>\n",
       "      <th>mean</th>\n",
       "      <th>std</th>\n",
       "      <th>min</th>\n",
       "      <th>25%</th>\n",
       "      <th>50%</th>\n",
       "      <th>75%</th>\n",
       "      <th>max</th>\n",
       "    </tr>\n",
       "  </thead>\n",
       "  <tbody>\n",
       "    <tr>\n",
       "      <th>station_id</th>\n",
       "      <td>1571.0</td>\n",
       "      <td>3294.900700</td>\n",
       "      <td>1364.714752</td>\n",
       "      <td>72.000000</td>\n",
       "      <td>3200.000000</td>\n",
       "      <td>3761.000000</td>\n",
       "      <td>4200.500000</td>\n",
       "      <td>4639.00000</td>\n",
       "    </tr>\n",
       "    <tr>\n",
       "      <th>latitude</th>\n",
       "      <td>1571.0</td>\n",
       "      <td>-73.957937</td>\n",
       "      <td>0.040515</td>\n",
       "      <td>-74.086701</td>\n",
       "      <td>-73.988549</td>\n",
       "      <td>-73.955778</td>\n",
       "      <td>-73.923679</td>\n",
       "      <td>-73.88145</td>\n",
       "    </tr>\n",
       "    <tr>\n",
       "      <th>longitude</th>\n",
       "      <td>1571.0</td>\n",
       "      <td>40.752943</td>\n",
       "      <td>0.060932</td>\n",
       "      <td>40.633385</td>\n",
       "      <td>40.704467</td>\n",
       "      <td>40.747968</td>\n",
       "      <td>40.805713</td>\n",
       "      <td>40.88226</td>\n",
       "    </tr>\n",
       "    <tr>\n",
       "      <th>region_id</th>\n",
       "      <td>1567.0</td>\n",
       "      <td>74.795150</td>\n",
       "      <td>30.085906</td>\n",
       "      <td>70.000000</td>\n",
       "      <td>71.000000</td>\n",
       "      <td>71.000000</td>\n",
       "      <td>71.000000</td>\n",
       "      <td>311.00000</td>\n",
       "    </tr>\n",
       "    <tr>\n",
       "      <th>capacity</th>\n",
       "      <td>1571.0</td>\n",
       "      <td>30.049013</td>\n",
       "      <td>14.194177</td>\n",
       "      <td>0.000000</td>\n",
       "      <td>21.000000</td>\n",
       "      <td>25.000000</td>\n",
       "      <td>35.000000</td>\n",
       "      <td>91.00000</td>\n",
       "    </tr>\n",
       "    <tr>\n",
       "      <th>num_bikes_available</th>\n",
       "      <td>1571.0</td>\n",
       "      <td>13.661362</td>\n",
       "      <td>12.415417</td>\n",
       "      <td>0.000000</td>\n",
       "      <td>4.000000</td>\n",
       "      <td>11.000000</td>\n",
       "      <td>20.000000</td>\n",
       "      <td>77.00000</td>\n",
       "    </tr>\n",
       "    <tr>\n",
       "      <th>num_bikes_disabled</th>\n",
       "      <td>1571.0</td>\n",
       "      <td>1.401018</td>\n",
       "      <td>2.944211</td>\n",
       "      <td>0.000000</td>\n",
       "      <td>0.000000</td>\n",
       "      <td>1.000000</td>\n",
       "      <td>2.000000</td>\n",
       "      <td>77.00000</td>\n",
       "    </tr>\n",
       "    <tr>\n",
       "      <th>num_docks_available</th>\n",
       "      <td>1571.0</td>\n",
       "      <td>14.774029</td>\n",
       "      <td>12.977658</td>\n",
       "      <td>0.000000</td>\n",
       "      <td>4.000000</td>\n",
       "      <td>13.000000</td>\n",
       "      <td>21.000000</td>\n",
       "      <td>75.00000</td>\n",
       "    </tr>\n",
       "    <tr>\n",
       "      <th>num_docks_disabled</th>\n",
       "      <td>1571.0</td>\n",
       "      <td>0.162317</td>\n",
       "      <td>2.200985</td>\n",
       "      <td>0.000000</td>\n",
       "      <td>0.000000</td>\n",
       "      <td>0.000000</td>\n",
       "      <td>0.000000</td>\n",
       "      <td>68.00000</td>\n",
       "    </tr>\n",
       "  </tbody>\n",
       "</table>\n",
       "</div>"
      ],
      "text/plain": [
       "                      count         mean          std        min          25%  \\\n",
       "station_id           1571.0  3294.900700  1364.714752  72.000000  3200.000000   \n",
       "latitude             1571.0   -73.957937     0.040515 -74.086701   -73.988549   \n",
       "longitude            1571.0    40.752943     0.060932  40.633385    40.704467   \n",
       "region_id            1567.0    74.795150    30.085906  70.000000    71.000000   \n",
       "capacity             1571.0    30.049013    14.194177   0.000000    21.000000   \n",
       "num_bikes_available  1571.0    13.661362    12.415417   0.000000     4.000000   \n",
       "num_bikes_disabled   1571.0     1.401018     2.944211   0.000000     0.000000   \n",
       "num_docks_available  1571.0    14.774029    12.977658   0.000000     4.000000   \n",
       "num_docks_disabled   1571.0     0.162317     2.200985   0.000000     0.000000   \n",
       "\n",
       "                             50%          75%         max  \n",
       "station_id           3761.000000  4200.500000  4639.00000  \n",
       "latitude              -73.955778   -73.923679   -73.88145  \n",
       "longitude              40.747968    40.805713    40.88226  \n",
       "region_id              71.000000    71.000000   311.00000  \n",
       "capacity               25.000000    35.000000    91.00000  \n",
       "num_bikes_available    11.000000    20.000000    77.00000  \n",
       "num_bikes_disabled      1.000000     2.000000    77.00000  \n",
       "num_docks_available    13.000000    21.000000    75.00000  \n",
       "num_docks_disabled      0.000000     0.000000    68.00000  "
      ]
     },
     "execution_count": 45,
     "metadata": {},
     "output_type": "execute_result"
    }
   ],
   "source": [
    "st.describe().T"
   ]
  },
  {
   "cell_type": "code",
   "execution_count": 46,
   "metadata": {},
   "outputs": [
    {
     "name": "stdout",
     "output_type": "stream",
     "text": [
      "<class 'pandas.core.frame.DataFrame'>\n",
      "RangeIndex: 1571 entries, 0 to 1570\n",
      "Data columns (total 18 columns):\n",
      " #   Column                     Non-Null Count  Dtype  \n",
      "---  ------                     --------------  -----  \n",
      " 0   station_id                 1571 non-null   int64  \n",
      " 1   name                       1571 non-null   object \n",
      " 2   short_name                 1571 non-null   object \n",
      " 3   latitude                   1571 non-null   float64\n",
      " 4   longitude                  1571 non-null   float64\n",
      " 5   region_id                  1567 non-null   float64\n",
      " 6   rental_methods             1571 non-null   object \n",
      " 7   capacity                   1571 non-null   int64  \n",
      " 8   eightd_has_key_dispenser   1571 non-null   bool   \n",
      " 9   num_bikes_available        1571 non-null   int64  \n",
      " 10  num_bikes_disabled         1571 non-null   int64  \n",
      " 11  num_docks_available        1571 non-null   int64  \n",
      " 12  num_docks_disabled         1571 non-null   int64  \n",
      " 13  is_installed               1571 non-null   bool   \n",
      " 14  is_renting                 1571 non-null   bool   \n",
      " 15  is_returning               1571 non-null   bool   \n",
      " 16  eightd_has_available_keys  1571 non-null   bool   \n",
      " 17  last_reported              1571 non-null   object \n",
      "dtypes: bool(5), float64(3), int64(6), object(4)\n",
      "memory usage: 167.4+ KB\n"
     ]
    }
   ],
   "source": [
    "st.info()"
   ]
  },
  {
   "cell_type": "code",
   "execution_count": 47,
   "metadata": {},
   "outputs": [],
   "source": [
    "desc = []\n",
    "for i in st.columns:\n",
    "    desc.append([\n",
    "        i, \n",
    "        st[i].dtypes, \n",
    "        st[i].isnull().sum(),\n",
    "        round((((st[i].isnull().sum())/(len(st)))*100), 2),\n",
    "        st[i].nunique(), st[i].drop_duplicates().sample(1).values\n",
    "    ])"
   ]
  },
  {
   "cell_type": "code",
   "execution_count": 48,
   "metadata": {},
   "outputs": [
    {
     "data": {
      "text/html": [
       "<div>\n",
       "<style scoped>\n",
       "    .dataframe tbody tr th:only-of-type {\n",
       "        vertical-align: middle;\n",
       "    }\n",
       "\n",
       "    .dataframe tbody tr th {\n",
       "        vertical-align: top;\n",
       "    }\n",
       "\n",
       "    .dataframe thead th {\n",
       "        text-align: right;\n",
       "    }\n",
       "</style>\n",
       "<table border=\"1\" class=\"dataframe\">\n",
       "  <thead>\n",
       "    <tr style=\"text-align: right;\">\n",
       "      <th></th>\n",
       "      <th>dataFeatures</th>\n",
       "      <th>dataType</th>\n",
       "      <th>null</th>\n",
       "      <th>nullPercentage</th>\n",
       "      <th>unique</th>\n",
       "      <th>sample</th>\n",
       "    </tr>\n",
       "  </thead>\n",
       "  <tbody>\n",
       "    <tr>\n",
       "      <th>0</th>\n",
       "      <td>station_id</td>\n",
       "      <td>int64</td>\n",
       "      <td>0</td>\n",
       "      <td>0.00</td>\n",
       "      <td>1571</td>\n",
       "      <td>[3068]</td>\n",
       "    </tr>\n",
       "    <tr>\n",
       "      <th>1</th>\n",
       "      <td>name</td>\n",
       "      <td>object</td>\n",
       "      <td>0</td>\n",
       "      <td>0.00</td>\n",
       "      <td>1571</td>\n",
       "      <td>[W 225 St &amp; Exterior St]</td>\n",
       "    </tr>\n",
       "    <tr>\n",
       "      <th>2</th>\n",
       "      <td>short_name</td>\n",
       "      <td>object</td>\n",
       "      <td>0</td>\n",
       "      <td>0.00</td>\n",
       "      <td>1571</td>\n",
       "      <td>[7059.08]</td>\n",
       "    </tr>\n",
       "    <tr>\n",
       "      <th>3</th>\n",
       "      <td>latitude</td>\n",
       "      <td>float64</td>\n",
       "      <td>0</td>\n",
       "      <td>0.00</td>\n",
       "      <td>1568</td>\n",
       "      <td>[-73.905158]</td>\n",
       "    </tr>\n",
       "    <tr>\n",
       "      <th>4</th>\n",
       "      <td>longitude</td>\n",
       "      <td>float64</td>\n",
       "      <td>0</td>\n",
       "      <td>0.00</td>\n",
       "      <td>1569</td>\n",
       "      <td>[40.845504999999996]</td>\n",
       "    </tr>\n",
       "    <tr>\n",
       "      <th>5</th>\n",
       "      <td>region_id</td>\n",
       "      <td>float64</td>\n",
       "      <td>4</td>\n",
       "      <td>0.25</td>\n",
       "      <td>3</td>\n",
       "      <td>[311.0]</td>\n",
       "    </tr>\n",
       "    <tr>\n",
       "      <th>6</th>\n",
       "      <td>rental_methods</td>\n",
       "      <td>object</td>\n",
       "      <td>0</td>\n",
       "      <td>0.00</td>\n",
       "      <td>1</td>\n",
       "      <td>[CREDITCARD,KEY]</td>\n",
       "    </tr>\n",
       "    <tr>\n",
       "      <th>7</th>\n",
       "      <td>capacity</td>\n",
       "      <td>int64</td>\n",
       "      <td>0</td>\n",
       "      <td>0.00</td>\n",
       "      <td>75</td>\n",
       "      <td>[34]</td>\n",
       "    </tr>\n",
       "    <tr>\n",
       "      <th>8</th>\n",
       "      <td>eightd_has_key_dispenser</td>\n",
       "      <td>bool</td>\n",
       "      <td>0</td>\n",
       "      <td>0.00</td>\n",
       "      <td>1</td>\n",
       "      <td>[False]</td>\n",
       "    </tr>\n",
       "    <tr>\n",
       "      <th>9</th>\n",
       "      <td>num_bikes_available</td>\n",
       "      <td>int64</td>\n",
       "      <td>0</td>\n",
       "      <td>0.00</td>\n",
       "      <td>65</td>\n",
       "      <td>[2]</td>\n",
       "    </tr>\n",
       "    <tr>\n",
       "      <th>10</th>\n",
       "      <td>num_bikes_disabled</td>\n",
       "      <td>int64</td>\n",
       "      <td>0</td>\n",
       "      <td>0.00</td>\n",
       "      <td>18</td>\n",
       "      <td>[24]</td>\n",
       "    </tr>\n",
       "    <tr>\n",
       "      <th>11</th>\n",
       "      <td>num_docks_available</td>\n",
       "      <td>int64</td>\n",
       "      <td>0</td>\n",
       "      <td>0.00</td>\n",
       "      <td>71</td>\n",
       "      <td>[61]</td>\n",
       "    </tr>\n",
       "    <tr>\n",
       "      <th>12</th>\n",
       "      <td>num_docks_disabled</td>\n",
       "      <td>int64</td>\n",
       "      <td>0</td>\n",
       "      <td>0.00</td>\n",
       "      <td>12</td>\n",
       "      <td>[2]</td>\n",
       "    </tr>\n",
       "    <tr>\n",
       "      <th>13</th>\n",
       "      <td>is_installed</td>\n",
       "      <td>bool</td>\n",
       "      <td>0</td>\n",
       "      <td>0.00</td>\n",
       "      <td>2</td>\n",
       "      <td>[True]</td>\n",
       "    </tr>\n",
       "    <tr>\n",
       "      <th>14</th>\n",
       "      <td>is_renting</td>\n",
       "      <td>bool</td>\n",
       "      <td>0</td>\n",
       "      <td>0.00</td>\n",
       "      <td>2</td>\n",
       "      <td>[True]</td>\n",
       "    </tr>\n",
       "    <tr>\n",
       "      <th>15</th>\n",
       "      <td>is_returning</td>\n",
       "      <td>bool</td>\n",
       "      <td>0</td>\n",
       "      <td>0.00</td>\n",
       "      <td>2</td>\n",
       "      <td>[True]</td>\n",
       "    </tr>\n",
       "    <tr>\n",
       "      <th>16</th>\n",
       "      <td>eightd_has_available_keys</td>\n",
       "      <td>bool</td>\n",
       "      <td>0</td>\n",
       "      <td>0.00</td>\n",
       "      <td>1</td>\n",
       "      <td>[False]</td>\n",
       "    </tr>\n",
       "    <tr>\n",
       "      <th>17</th>\n",
       "      <td>last_reported</td>\n",
       "      <td>object</td>\n",
       "      <td>0</td>\n",
       "      <td>0.00</td>\n",
       "      <td>8</td>\n",
       "      <td>[2021-06-24T00:00:00]</td>\n",
       "    </tr>\n",
       "  </tbody>\n",
       "</table>\n",
       "</div>"
      ],
      "text/plain": [
       "                 dataFeatures dataType  null  nullPercentage  unique  \\\n",
       "0                  station_id    int64     0            0.00    1571   \n",
       "1                        name   object     0            0.00    1571   \n",
       "2                  short_name   object     0            0.00    1571   \n",
       "3                    latitude  float64     0            0.00    1568   \n",
       "4                   longitude  float64     0            0.00    1569   \n",
       "5                   region_id  float64     4            0.25       3   \n",
       "6              rental_methods   object     0            0.00       1   \n",
       "7                    capacity    int64     0            0.00      75   \n",
       "8    eightd_has_key_dispenser     bool     0            0.00       1   \n",
       "9         num_bikes_available    int64     0            0.00      65   \n",
       "10         num_bikes_disabled    int64     0            0.00      18   \n",
       "11        num_docks_available    int64     0            0.00      71   \n",
       "12         num_docks_disabled    int64     0            0.00      12   \n",
       "13               is_installed     bool     0            0.00       2   \n",
       "14                 is_renting     bool     0            0.00       2   \n",
       "15               is_returning     bool     0            0.00       2   \n",
       "16  eightd_has_available_keys     bool     0            0.00       1   \n",
       "17              last_reported   object     0            0.00       8   \n",
       "\n",
       "                      sample  \n",
       "0                     [3068]  \n",
       "1   [W 225 St & Exterior St]  \n",
       "2                  [7059.08]  \n",
       "3               [-73.905158]  \n",
       "4       [40.845504999999996]  \n",
       "5                    [311.0]  \n",
       "6           [CREDITCARD,KEY]  \n",
       "7                       [34]  \n",
       "8                    [False]  \n",
       "9                        [2]  \n",
       "10                      [24]  \n",
       "11                      [61]  \n",
       "12                       [2]  \n",
       "13                    [True]  \n",
       "14                    [True]  \n",
       "15                    [True]  \n",
       "16                   [False]  \n",
       "17     [2021-06-24T00:00:00]  "
      ]
     },
     "execution_count": 48,
     "metadata": {},
     "output_type": "execute_result"
    }
   ],
   "source": [
    "dfDesc = pd.DataFrame(desc, columns=['dataFeatures', 'dataType', 'null', 'nullPercentage', 'unique', 'sample'])\n",
    "dfDesc"
   ]
  },
  {
   "cell_type": "markdown",
   "metadata": {},
   "source": [
    "Insight:\n",
    "\n",
    "Table citibike_stations berisikan tentang keterangan-keterangan stations, seperti id, nama, lokasi geografis, region_id, kapasitas, dll.\n",
    "\n",
    "Karena analisis berikutnya akan difokuskan pada 2 key metrics: tripduration & number of trips, dan mempertimbangkan user (usia, gender, usertype), maka data yang akan digunakan untuk analisis lebih lanjut dari tabel ini hanya beberapa, diantaranya: station_id, region_id, capacity\n",
    "\n",
    "Terdapat 4 data null pada kolom region_id"
   ]
  },
  {
   "cell_type": "code",
   "execution_count": 49,
   "metadata": {},
   "outputs": [
    {
     "data": {
      "text/plain": [
       "array([ 71.,  70., 311.,  nan])"
      ]
     },
     "execution_count": 49,
     "metadata": {},
     "output_type": "execute_result"
    }
   ],
   "source": [
    "st['region_id'].unique()"
   ]
  },
  {
   "cell_type": "code",
   "execution_count": 50,
   "metadata": {},
   "outputs": [],
   "source": [
    "# handling data null di kolom region_id dengan data region_id yang memiliki frekuensi paling banyak\n",
    "st['region_id'] = st['region_id'].fillna(st['region_id'].mode()[0])"
   ]
  },
  {
   "cell_type": "code",
   "execution_count": 51,
   "metadata": {},
   "outputs": [
    {
     "name": "stdout",
     "output_type": "stream",
     "text": [
      "<class 'pandas.core.frame.DataFrame'>\n",
      "RangeIndex: 1571 entries, 0 to 1570\n",
      "Data columns (total 18 columns):\n",
      " #   Column                     Non-Null Count  Dtype  \n",
      "---  ------                     --------------  -----  \n",
      " 0   station_id                 1571 non-null   int64  \n",
      " 1   name                       1571 non-null   object \n",
      " 2   short_name                 1571 non-null   object \n",
      " 3   latitude                   1571 non-null   float64\n",
      " 4   longitude                  1571 non-null   float64\n",
      " 5   region_id                  1571 non-null   float64\n",
      " 6   rental_methods             1571 non-null   object \n",
      " 7   capacity                   1571 non-null   int64  \n",
      " 8   eightd_has_key_dispenser   1571 non-null   bool   \n",
      " 9   num_bikes_available        1571 non-null   int64  \n",
      " 10  num_bikes_disabled         1571 non-null   int64  \n",
      " 11  num_docks_available        1571 non-null   int64  \n",
      " 12  num_docks_disabled         1571 non-null   int64  \n",
      " 13  is_installed               1571 non-null   bool   \n",
      " 14  is_renting                 1571 non-null   bool   \n",
      " 15  is_returning               1571 non-null   bool   \n",
      " 16  eightd_has_available_keys  1571 non-null   bool   \n",
      " 17  last_reported              1571 non-null   object \n",
      "dtypes: bool(5), float64(3), int64(6), object(4)\n",
      "memory usage: 167.4+ KB\n"
     ]
    }
   ],
   "source": [
    "st.info()"
   ]
  },
  {
   "cell_type": "code",
   "execution_count": 106,
   "metadata": {},
   "outputs": [
    {
     "data": {
      "image/png": "[encoded data removed]",
      "text/plain": [
       "<Figure size 432x288 with 1 Axes>"
      ]
     },
     "metadata": {
      "needs_background": "light"
     },
     "output_type": "display_data"
    }
   ],
   "source": [
    "# jumlah station_id tiap region\n",
    "\n",
    "sns.countplot(x='region_id', data=st)\n",
    "plt.grid(True)\n",
    "plt.title(\"Sum of Station Id's per Region Id\")\n",
    "plt.show()"
   ]
  },
  {
   "cell_type": "code",
   "execution_count": 107,
   "metadata": {},
   "outputs": [
    {
     "data": {
      "text/plain": [
       "region_id\n",
       "70.0       53\n",
       "71.0     1493\n",
       "311.0      25\n",
       "Name: station_id, dtype: int64"
      ]
     },
     "execution_count": 107,
     "metadata": {},
     "output_type": "execute_result"
    }
   ],
   "source": [
    "st.groupby(['region_id'])['station_id'].count()"
   ]
  },
  {
   "cell_type": "markdown",
   "metadata": {},
   "source": [
    "Insight:\n",
    "\n",
    "region_id 71 memiliki paling banyak station dibandingkan region yang lain. Sayangnya tidak diketahui nama atau negara bagian mana yang diwakilkan oleh masing-masing region_id"
   ]
  },
  {
   "cell_type": "markdown",
   "metadata": {},
   "source": [
    "====================================================================================="
   ]
  },
  {
   "cell_type": "markdown",
   "metadata": {},
   "source": [
    "Akan dilakukan penggabungan antara tabel citibike_trips dan citibike_stations untuk menggabungkan data **region_id dan capacity**. \n",
    "\n",
    "Karena tidak ada kesamaan nama kolom yang dimiliki keduanya (sebagai irisan untuk digabungkan), maka pendekatan yang dilakukan adalah menggunakan data start_station_id untuk diubah sementara menjadi station_id, sehingga bisa menggabungkan data region_id. Selanjutnya kolom region_id yang didapat dari sini bisa diubah menjadi start_region_id. Hal yang sama dilakukan untuk end_station_id."
   ]
  },
  {
   "cell_type": "code",
   "execution_count": 54,
   "metadata": {},
   "outputs": [],
   "source": [
    "trips['station_id'] = trips['start_station_id']"
   ]
  },
  {
   "cell_type": "code",
   "execution_count": 55,
   "metadata": {},
   "outputs": [
    {
     "data": {
      "text/html": [
       "<div>\n",
       "<style scoped>\n",
       "    .dataframe tbody tr th:only-of-type {\n",
       "        vertical-align: middle;\n",
       "    }\n",
       "\n",
       "    .dataframe tbody tr th {\n",
       "        vertical-align: top;\n",
       "    }\n",
       "\n",
       "    .dataframe thead th {\n",
       "        text-align: right;\n",
       "    }\n",
       "</style>\n",
       "<table border=\"1\" class=\"dataframe\">\n",
       "  <thead>\n",
       "    <tr style=\"text-align: right;\">\n",
       "      <th></th>\n",
       "      <th>tripduration</th>\n",
       "      <th>starttime</th>\n",
       "      <th>stoptime</th>\n",
       "      <th>start_station_id</th>\n",
       "      <th>start_station_name</th>\n",
       "      <th>start_station_latitude</th>\n",
       "      <th>start_station_longitude</th>\n",
       "      <th>end_station_id</th>\n",
       "      <th>end_station_name</th>\n",
       "      <th>end_station_latitude</th>\n",
       "      <th>...</th>\n",
       "      <th>start_month</th>\n",
       "      <th>start_year</th>\n",
       "      <th>start_date</th>\n",
       "      <th>start_hour</th>\n",
       "      <th>stop_month</th>\n",
       "      <th>stop_year</th>\n",
       "      <th>stop_date</th>\n",
       "      <th>stop_hour</th>\n",
       "      <th>customer_age</th>\n",
       "      <th>station_id</th>\n",
       "    </tr>\n",
       "  </thead>\n",
       "  <tbody>\n",
       "    <tr>\n",
       "      <th>0</th>\n",
       "      <td>857</td>\n",
       "      <td>2016-08-06 11:16:51</td>\n",
       "      <td>2016-08-06 11:31:08</td>\n",
       "      <td>332</td>\n",
       "      <td>Cherry St</td>\n",
       "      <td>40.712199</td>\n",
       "      <td>-73.979481</td>\n",
       "      <td>351</td>\n",
       "      <td>Front St &amp; Maiden Ln</td>\n",
       "      <td>40.705310</td>\n",
       "      <td>...</td>\n",
       "      <td>August</td>\n",
       "      <td>2016</td>\n",
       "      <td>6</td>\n",
       "      <td>11</td>\n",
       "      <td>August</td>\n",
       "      <td>2016</td>\n",
       "      <td>6</td>\n",
       "      <td>11</td>\n",
       "      <td>59</td>\n",
       "      <td>332</td>\n",
       "    </tr>\n",
       "    <tr>\n",
       "      <th>1</th>\n",
       "      <td>567</td>\n",
       "      <td>2016-08-17 13:05:44</td>\n",
       "      <td>2016-08-17 13:15:11</td>\n",
       "      <td>3125</td>\n",
       "      <td>45 Rd &amp; 11 St</td>\n",
       "      <td>40.747086</td>\n",
       "      <td>-73.949772</td>\n",
       "      <td>3126</td>\n",
       "      <td>44 Dr &amp; Jackson Ave</td>\n",
       "      <td>40.747182</td>\n",
       "      <td>...</td>\n",
       "      <td>August</td>\n",
       "      <td>2016</td>\n",
       "      <td>17</td>\n",
       "      <td>13</td>\n",
       "      <td>August</td>\n",
       "      <td>2016</td>\n",
       "      <td>17</td>\n",
       "      <td>13</td>\n",
       "      <td>39</td>\n",
       "      <td>3125</td>\n",
       "    </tr>\n",
       "    <tr>\n",
       "      <th>2</th>\n",
       "      <td>660</td>\n",
       "      <td>2016-08-06 20:13:27</td>\n",
       "      <td>2016-08-06 20:24:27</td>\n",
       "      <td>217</td>\n",
       "      <td>Old Fulton St</td>\n",
       "      <td>40.702772</td>\n",
       "      <td>-73.993836</td>\n",
       "      <td>398</td>\n",
       "      <td>Atlantic Ave &amp; Furman St</td>\n",
       "      <td>40.691652</td>\n",
       "      <td>...</td>\n",
       "      <td>August</td>\n",
       "      <td>2016</td>\n",
       "      <td>6</td>\n",
       "      <td>20</td>\n",
       "      <td>August</td>\n",
       "      <td>2016</td>\n",
       "      <td>6</td>\n",
       "      <td>20</td>\n",
       "      <td>45</td>\n",
       "      <td>217</td>\n",
       "    </tr>\n",
       "    <tr>\n",
       "      <th>3</th>\n",
       "      <td>947</td>\n",
       "      <td>2016-08-28 15:32:13</td>\n",
       "      <td>2016-08-28 15:48:00</td>\n",
       "      <td>217</td>\n",
       "      <td>Old Fulton St</td>\n",
       "      <td>40.702772</td>\n",
       "      <td>-73.993836</td>\n",
       "      <td>398</td>\n",
       "      <td>Atlantic Ave &amp; Furman St</td>\n",
       "      <td>40.691652</td>\n",
       "      <td>...</td>\n",
       "      <td>August</td>\n",
       "      <td>2016</td>\n",
       "      <td>28</td>\n",
       "      <td>15</td>\n",
       "      <td>August</td>\n",
       "      <td>2016</td>\n",
       "      <td>28</td>\n",
       "      <td>15</td>\n",
       "      <td>62</td>\n",
       "      <td>217</td>\n",
       "    </tr>\n",
       "    <tr>\n",
       "      <th>4</th>\n",
       "      <td>474</td>\n",
       "      <td>2016-08-24 00:29:13</td>\n",
       "      <td>2016-08-24 00:37:07</td>\n",
       "      <td>3265</td>\n",
       "      <td>E 2 St &amp; 2 Ave</td>\n",
       "      <td>40.724563</td>\n",
       "      <td>-73.989444</td>\n",
       "      <td>295</td>\n",
       "      <td>Pike St &amp; E Broadway</td>\n",
       "      <td>40.714067</td>\n",
       "      <td>...</td>\n",
       "      <td>August</td>\n",
       "      <td>2016</td>\n",
       "      <td>24</td>\n",
       "      <td>0</td>\n",
       "      <td>August</td>\n",
       "      <td>2016</td>\n",
       "      <td>24</td>\n",
       "      <td>0</td>\n",
       "      <td>27</td>\n",
       "      <td>3265</td>\n",
       "    </tr>\n",
       "  </tbody>\n",
       "</table>\n",
       "<p>5 rows × 25 columns</p>\n",
       "</div>"
      ],
      "text/plain": [
       "   tripduration           starttime            stoptime  start_station_id  \\\n",
       "0           857 2016-08-06 11:16:51 2016-08-06 11:31:08               332   \n",
       "1           567 2016-08-17 13:05:44 2016-08-17 13:15:11              3125   \n",
       "2           660 2016-08-06 20:13:27 2016-08-06 20:24:27               217   \n",
       "3           947 2016-08-28 15:32:13 2016-08-28 15:48:00               217   \n",
       "4           474 2016-08-24 00:29:13 2016-08-24 00:37:07              3265   \n",
       "\n",
       "  start_station_name  start_station_latitude  start_station_longitude  \\\n",
       "0          Cherry St               40.712199               -73.979481   \n",
       "1      45 Rd & 11 St               40.747086               -73.949772   \n",
       "2      Old Fulton St               40.702772               -73.993836   \n",
       "3      Old Fulton St               40.702772               -73.993836   \n",
       "4     E 2 St & 2 Ave               40.724563               -73.989444   \n",
       "\n",
       "   end_station_id          end_station_name  end_station_latitude  ...  \\\n",
       "0             351      Front St & Maiden Ln             40.705310  ...   \n",
       "1            3126       44 Dr & Jackson Ave             40.747182  ...   \n",
       "2             398  Atlantic Ave & Furman St             40.691652  ...   \n",
       "3             398  Atlantic Ave & Furman St             40.691652  ...   \n",
       "4             295      Pike St & E Broadway             40.714067  ...   \n",
       "\n",
       "   start_month  start_year start_date  start_hour stop_month stop_year  \\\n",
       "0       August        2016          6          11     August      2016   \n",
       "1       August        2016         17          13     August      2016   \n",
       "2       August        2016          6          20     August      2016   \n",
       "3       August        2016         28          15     August      2016   \n",
       "4       August        2016         24           0     August      2016   \n",
       "\n",
       "   stop_date  stop_hour  customer_age station_id  \n",
       "0          6         11            59        332  \n",
       "1         17         13            39       3125  \n",
       "2          6         20            45        217  \n",
       "3         28         15            62        217  \n",
       "4         24          0            27       3265  \n",
       "\n",
       "[5 rows x 25 columns]"
      ]
     },
     "execution_count": 55,
     "metadata": {},
     "output_type": "execute_result"
    }
   ],
   "source": [
    "trips.head()"
   ]
  },
  {
   "cell_type": "code",
   "execution_count": 56,
   "metadata": {},
   "outputs": [],
   "source": [
    "stat = st[['station_id', 'capacity', 'region_id']]"
   ]
  },
  {
   "cell_type": "code",
   "execution_count": 57,
   "metadata": {},
   "outputs": [
    {
     "data": {
      "text/html": [
       "<div>\n",
       "<style scoped>\n",
       "    .dataframe tbody tr th:only-of-type {\n",
       "        vertical-align: middle;\n",
       "    }\n",
       "\n",
       "    .dataframe tbody tr th {\n",
       "        vertical-align: top;\n",
       "    }\n",
       "\n",
       "    .dataframe thead th {\n",
       "        text-align: right;\n",
       "    }\n",
       "</style>\n",
       "<table border=\"1\" class=\"dataframe\">\n",
       "  <thead>\n",
       "    <tr style=\"text-align: right;\">\n",
       "      <th></th>\n",
       "      <th>station_id</th>\n",
       "      <th>capacity</th>\n",
       "      <th>region_id</th>\n",
       "    </tr>\n",
       "  </thead>\n",
       "  <tbody>\n",
       "    <tr>\n",
       "      <th>0</th>\n",
       "      <td>173</td>\n",
       "      <td>0</td>\n",
       "      <td>71.0</td>\n",
       "    </tr>\n",
       "    <tr>\n",
       "      <th>1</th>\n",
       "      <td>393</td>\n",
       "      <td>0</td>\n",
       "      <td>71.0</td>\n",
       "    </tr>\n",
       "    <tr>\n",
       "      <th>2</th>\n",
       "      <td>402</td>\n",
       "      <td>0</td>\n",
       "      <td>71.0</td>\n",
       "    </tr>\n",
       "    <tr>\n",
       "      <th>3</th>\n",
       "      <td>457</td>\n",
       "      <td>0</td>\n",
       "      <td>71.0</td>\n",
       "    </tr>\n",
       "    <tr>\n",
       "      <th>4</th>\n",
       "      <td>533</td>\n",
       "      <td>0</td>\n",
       "      <td>71.0</td>\n",
       "    </tr>\n",
       "  </tbody>\n",
       "</table>\n",
       "</div>"
      ],
      "text/plain": [
       "   station_id  capacity  region_id\n",
       "0         173         0       71.0\n",
       "1         393         0       71.0\n",
       "2         402         0       71.0\n",
       "3         457         0       71.0\n",
       "4         533         0       71.0"
      ]
     },
     "execution_count": 57,
     "metadata": {},
     "output_type": "execute_result"
    }
   ],
   "source": [
    "stat.head()"
   ]
  },
  {
   "cell_type": "code",
   "execution_count": 58,
   "metadata": {},
   "outputs": [
    {
     "data": {
      "text/plain": [
       "(29707, 25)"
      ]
     },
     "execution_count": 58,
     "metadata": {},
     "output_type": "execute_result"
    }
   ],
   "source": [
    "# cek baris dan kolom pada tabel citibike_trips\n",
    "trips.shape"
   ]
  },
  {
   "cell_type": "code",
   "execution_count": 59,
   "metadata": {},
   "outputs": [
    {
     "data": {
      "text/plain": [
       "(1571, 3)"
      ]
     },
     "execution_count": 59,
     "metadata": {},
     "output_type": "execute_result"
    }
   ],
   "source": [
    "# cek jumlah baris dan kolom pada tabel citibike_stations\n",
    "stat.shape"
   ]
  },
  {
   "cell_type": "code",
   "execution_count": 60,
   "metadata": {},
   "outputs": [
    {
     "data": {
      "text/plain": [
       "(29707, 25)"
      ]
     },
     "execution_count": 60,
     "metadata": {},
     "output_type": "execute_result"
    }
   ],
   "source": [
    "# cek jika kolom station_id temporary yang merupakan copy dari kolom start_station_id mencakup seluruh data\n",
    "trips[trips['station_id'] == trips['start_station_id']].shape"
   ]
  },
  {
   "cell_type": "code",
   "execution_count": 61,
   "metadata": {},
   "outputs": [
    {
     "data": {
      "text/plain": [
       "736"
      ]
     },
     "execution_count": 61,
     "metadata": {},
     "output_type": "execute_result"
    }
   ],
   "source": [
    "# cek data unik pada kolom start_station_id tabel citibike_trips\n",
    "trips['start_station_id'].nunique()"
   ]
  },
  {
   "cell_type": "code",
   "execution_count": 62,
   "metadata": {},
   "outputs": [
    {
     "data": {
      "text/plain": [
       "1571"
      ]
     },
     "execution_count": 62,
     "metadata": {},
     "output_type": "execute_result"
    }
   ],
   "source": [
    "# cek data unik pada kolom station_id tabel citibike_stations\n",
    "st['station_id'].nunique()"
   ]
  },
  {
   "cell_type": "code",
   "execution_count": 63,
   "metadata": {},
   "outputs": [],
   "source": [
    "# cek data pada kolom start_station_id tabel citibike_trips yang tidak ada pada kolom station_id tabel citibike_station\n",
    "\n",
    "cek_trips = []\n",
    "\n",
    "for i in trips['start_station_id']:\n",
    "    cek_trips.append(i)"
   ]
  },
  {
   "cell_type": "code",
   "execution_count": 64,
   "metadata": {},
   "outputs": [],
   "source": [
    "cek_stat = []\n",
    "\n",
    "for i in st['station_id']:\n",
    "    cek_stat.append(i)"
   ]
  },
  {
   "cell_type": "code",
   "execution_count": 65,
   "metadata": {},
   "outputs": [],
   "source": [
    "cek = []\n",
    "\n",
    "for i in cek_trips:\n",
    "    if i not in cek_stat:\n",
    "        cek.append(i)"
   ]
  },
  {
   "cell_type": "code",
   "execution_count": 66,
   "metadata": {},
   "outputs": [
    {
     "name": "stdout",
     "output_type": "stream",
     "text": [
      "5511\n"
     ]
    }
   ],
   "source": [
    "print(len(cek))"
   ]
  },
  {
   "cell_type": "markdown",
   "metadata": {},
   "source": [
    "insight: \n",
    "\n",
    "Terdapat 5511 data pada kolom start_station_id tabel citibike_trips yang tidak ada pada kolom station_id tabel citibike_stations. Hal ini menyebabkan jika kedua tabel digabung dengan menggunakan data start_station_id menjadi data kolom temporary 'station_id' di tabel citibike_trips, akan ada 5511 baris data yang hilang dari data awal tabel citibike_trips (29707 baris).\n",
    "\n",
    "Meskipun akan ada data yang hilang dari tabel utama citibike_trips, namun karena salah satu tujuan analisis ini adalah meninjau terhadap data region_id, maka merge/join table tetap harus dilakukan sehingga data region_id bisa masuk menjadi bagian dari data citibike_trips yang akan dianalisa.\n",
    "\n",
    "Perbedaan jumlah data station_id pada tabel citibike_trips dan citibike_stations kemungkinan terjadi karena data station_id di salah satu tabel belum terupdate seperti pada tabel yang lain. Hal ini bisa menjadi catatan bagi pengelola tentang update data station_id, demikian juga dengan melengkapi data region_id mencakup wilayah atau kota mana saja, sehingga bisa disusun strategi marketing yang sesuai berdasarkan wilayah layanan."
   ]
  },
  {
   "cell_type": "code",
   "execution_count": 67,
   "metadata": {},
   "outputs": [],
   "source": [
    "# definisikan dataframe baru dari slicing table citibike_stations berisi kolom-kolom yang akan dianalisis \n",
    "# terhadap table citibike_trips\n",
    "stat = st[['station_id', 'region_id', 'capacity']]"
   ]
  },
  {
   "cell_type": "code",
   "execution_count": 68,
   "metadata": {},
   "outputs": [
    {
     "data": {
      "text/html": [
       "<div>\n",
       "<style scoped>\n",
       "    .dataframe tbody tr th:only-of-type {\n",
       "        vertical-align: middle;\n",
       "    }\n",
       "\n",
       "    .dataframe tbody tr th {\n",
       "        vertical-align: top;\n",
       "    }\n",
       "\n",
       "    .dataframe thead th {\n",
       "        text-align: right;\n",
       "    }\n",
       "</style>\n",
       "<table border=\"1\" class=\"dataframe\">\n",
       "  <thead>\n",
       "    <tr style=\"text-align: right;\">\n",
       "      <th></th>\n",
       "      <th>station_id</th>\n",
       "      <th>region_id</th>\n",
       "      <th>capacity</th>\n",
       "    </tr>\n",
       "  </thead>\n",
       "  <tbody>\n",
       "    <tr>\n",
       "      <th>0</th>\n",
       "      <td>173</td>\n",
       "      <td>71.0</td>\n",
       "      <td>0</td>\n",
       "    </tr>\n",
       "    <tr>\n",
       "      <th>1</th>\n",
       "      <td>393</td>\n",
       "      <td>71.0</td>\n",
       "      <td>0</td>\n",
       "    </tr>\n",
       "    <tr>\n",
       "      <th>2</th>\n",
       "      <td>402</td>\n",
       "      <td>71.0</td>\n",
       "      <td>0</td>\n",
       "    </tr>\n",
       "    <tr>\n",
       "      <th>3</th>\n",
       "      <td>457</td>\n",
       "      <td>71.0</td>\n",
       "      <td>0</td>\n",
       "    </tr>\n",
       "    <tr>\n",
       "      <th>4</th>\n",
       "      <td>533</td>\n",
       "      <td>71.0</td>\n",
       "      <td>0</td>\n",
       "    </tr>\n",
       "  </tbody>\n",
       "</table>\n",
       "</div>"
      ],
      "text/plain": [
       "   station_id  region_id  capacity\n",
       "0         173       71.0         0\n",
       "1         393       71.0         0\n",
       "2         402       71.0         0\n",
       "3         457       71.0         0\n",
       "4         533       71.0         0"
      ]
     },
     "execution_count": 68,
     "metadata": {},
     "output_type": "execute_result"
    }
   ],
   "source": [
    "stat.head()"
   ]
  },
  {
   "cell_type": "code",
   "execution_count": 69,
   "metadata": {},
   "outputs": [
    {
     "name": "stdout",
     "output_type": "stream",
     "text": [
      "<class 'pandas.core.frame.DataFrame'>\n",
      "RangeIndex: 1571 entries, 0 to 1570\n",
      "Data columns (total 3 columns):\n",
      " #   Column      Non-Null Count  Dtype  \n",
      "---  ------      --------------  -----  \n",
      " 0   station_id  1571 non-null   int64  \n",
      " 1   region_id   1571 non-null   float64\n",
      " 2   capacity    1571 non-null   int64  \n",
      "dtypes: float64(1), int64(2)\n",
      "memory usage: 36.9 KB\n"
     ]
    }
   ],
   "source": [
    "stat.info()"
   ]
  },
  {
   "cell_type": "code",
   "execution_count": 70,
   "metadata": {},
   "outputs": [],
   "source": [
    "# merge data tabel citibike_trips dengan data tabel stat (citibike_stations yang hanya berisikan kolom station_id,\n",
    "# region_id, dan capacity)\n",
    "\n",
    "df = trips.merge(stat, on='station_id')"
   ]
  },
  {
   "cell_type": "code",
   "execution_count": 71,
   "metadata": {},
   "outputs": [
    {
     "data": {
      "text/html": [
       "<div>\n",
       "<style scoped>\n",
       "    .dataframe tbody tr th:only-of-type {\n",
       "        vertical-align: middle;\n",
       "    }\n",
       "\n",
       "    .dataframe tbody tr th {\n",
       "        vertical-align: top;\n",
       "    }\n",
       "\n",
       "    .dataframe thead th {\n",
       "        text-align: right;\n",
       "    }\n",
       "</style>\n",
       "<table border=\"1\" class=\"dataframe\">\n",
       "  <thead>\n",
       "    <tr style=\"text-align: right;\">\n",
       "      <th></th>\n",
       "      <th>tripduration</th>\n",
       "      <th>starttime</th>\n",
       "      <th>stoptime</th>\n",
       "      <th>start_station_id</th>\n",
       "      <th>start_station_name</th>\n",
       "      <th>start_station_latitude</th>\n",
       "      <th>start_station_longitude</th>\n",
       "      <th>end_station_id</th>\n",
       "      <th>end_station_name</th>\n",
       "      <th>end_station_latitude</th>\n",
       "      <th>...</th>\n",
       "      <th>start_date</th>\n",
       "      <th>start_hour</th>\n",
       "      <th>stop_month</th>\n",
       "      <th>stop_year</th>\n",
       "      <th>stop_date</th>\n",
       "      <th>stop_hour</th>\n",
       "      <th>customer_age</th>\n",
       "      <th>station_id</th>\n",
       "      <th>region_id</th>\n",
       "      <th>capacity</th>\n",
       "    </tr>\n",
       "  </thead>\n",
       "  <tbody>\n",
       "    <tr>\n",
       "      <th>0</th>\n",
       "      <td>857</td>\n",
       "      <td>2016-08-06 11:16:51</td>\n",
       "      <td>2016-08-06 11:31:08</td>\n",
       "      <td>332</td>\n",
       "      <td>Cherry St</td>\n",
       "      <td>40.712199</td>\n",
       "      <td>-73.979481</td>\n",
       "      <td>351</td>\n",
       "      <td>Front St &amp; Maiden Ln</td>\n",
       "      <td>40.705310</td>\n",
       "      <td>...</td>\n",
       "      <td>6</td>\n",
       "      <td>11</td>\n",
       "      <td>August</td>\n",
       "      <td>2016</td>\n",
       "      <td>6</td>\n",
       "      <td>11</td>\n",
       "      <td>59</td>\n",
       "      <td>332</td>\n",
       "      <td>71.0</td>\n",
       "      <td>36</td>\n",
       "    </tr>\n",
       "    <tr>\n",
       "      <th>1</th>\n",
       "      <td>978</td>\n",
       "      <td>2016-07-05 15:48:08</td>\n",
       "      <td>2016-07-05 16:04:26</td>\n",
       "      <td>332</td>\n",
       "      <td>Cherry St</td>\n",
       "      <td>40.712199</td>\n",
       "      <td>-73.979481</td>\n",
       "      <td>534</td>\n",
       "      <td>Water - Whitehall Plaza</td>\n",
       "      <td>40.702551</td>\n",
       "      <td>...</td>\n",
       "      <td>5</td>\n",
       "      <td>15</td>\n",
       "      <td>July</td>\n",
       "      <td>2016</td>\n",
       "      <td>5</td>\n",
       "      <td>16</td>\n",
       "      <td>45</td>\n",
       "      <td>332</td>\n",
       "      <td>71.0</td>\n",
       "      <td>36</td>\n",
       "    </tr>\n",
       "    <tr>\n",
       "      <th>2</th>\n",
       "      <td>717</td>\n",
       "      <td>2016-07-23 12:41:28</td>\n",
       "      <td>2016-07-23 12:53:26</td>\n",
       "      <td>332</td>\n",
       "      <td>Cherry St</td>\n",
       "      <td>40.712199</td>\n",
       "      <td>-73.979481</td>\n",
       "      <td>279</td>\n",
       "      <td>Peck Slip &amp; Front St</td>\n",
       "      <td>40.707873</td>\n",
       "      <td>...</td>\n",
       "      <td>23</td>\n",
       "      <td>12</td>\n",
       "      <td>July</td>\n",
       "      <td>2016</td>\n",
       "      <td>23</td>\n",
       "      <td>12</td>\n",
       "      <td>39</td>\n",
       "      <td>332</td>\n",
       "      <td>71.0</td>\n",
       "      <td>36</td>\n",
       "    </tr>\n",
       "    <tr>\n",
       "      <th>3</th>\n",
       "      <td>979</td>\n",
       "      <td>2016-07-07 10:08:57</td>\n",
       "      <td>2016-07-07 10:25:17</td>\n",
       "      <td>332</td>\n",
       "      <td>Cherry St</td>\n",
       "      <td>40.712199</td>\n",
       "      <td>-73.979481</td>\n",
       "      <td>360</td>\n",
       "      <td>William St &amp; Pine St</td>\n",
       "      <td>40.707179</td>\n",
       "      <td>...</td>\n",
       "      <td>7</td>\n",
       "      <td>10</td>\n",
       "      <td>July</td>\n",
       "      <td>2016</td>\n",
       "      <td>7</td>\n",
       "      <td>10</td>\n",
       "      <td>39</td>\n",
       "      <td>332</td>\n",
       "      <td>71.0</td>\n",
       "      <td>36</td>\n",
       "    </tr>\n",
       "    <tr>\n",
       "      <th>4</th>\n",
       "      <td>325</td>\n",
       "      <td>2016-07-12 06:57:52</td>\n",
       "      <td>2016-07-12 07:03:17</td>\n",
       "      <td>332</td>\n",
       "      <td>Cherry St</td>\n",
       "      <td>40.712199</td>\n",
       "      <td>-73.979481</td>\n",
       "      <td>307</td>\n",
       "      <td>Canal St &amp; Rutgers St</td>\n",
       "      <td>40.714275</td>\n",
       "      <td>...</td>\n",
       "      <td>12</td>\n",
       "      <td>6</td>\n",
       "      <td>July</td>\n",
       "      <td>2016</td>\n",
       "      <td>12</td>\n",
       "      <td>7</td>\n",
       "      <td>60</td>\n",
       "      <td>332</td>\n",
       "      <td>71.0</td>\n",
       "      <td>36</td>\n",
       "    </tr>\n",
       "  </tbody>\n",
       "</table>\n",
       "<p>5 rows × 27 columns</p>\n",
       "</div>"
      ],
      "text/plain": [
       "   tripduration           starttime            stoptime  start_station_id  \\\n",
       "0           857 2016-08-06 11:16:51 2016-08-06 11:31:08               332   \n",
       "1           978 2016-07-05 15:48:08 2016-07-05 16:04:26               332   \n",
       "2           717 2016-07-23 12:41:28 2016-07-23 12:53:26               332   \n",
       "3           979 2016-07-07 10:08:57 2016-07-07 10:25:17               332   \n",
       "4           325 2016-07-12 06:57:52 2016-07-12 07:03:17               332   \n",
       "\n",
       "  start_station_name  start_station_latitude  start_station_longitude  \\\n",
       "0          Cherry St               40.712199               -73.979481   \n",
       "1          Cherry St               40.712199               -73.979481   \n",
       "2          Cherry St               40.712199               -73.979481   \n",
       "3          Cherry St               40.712199               -73.979481   \n",
       "4          Cherry St               40.712199               -73.979481   \n",
       "\n",
       "   end_station_id         end_station_name  end_station_latitude  ...  \\\n",
       "0             351     Front St & Maiden Ln             40.705310  ...   \n",
       "1             534  Water - Whitehall Plaza             40.702551  ...   \n",
       "2             279     Peck Slip & Front St             40.707873  ...   \n",
       "3             360     William St & Pine St             40.707179  ...   \n",
       "4             307    Canal St & Rutgers St             40.714275  ...   \n",
       "\n",
       "   start_date  start_hour stop_month  stop_year stop_date stop_hour  \\\n",
       "0           6          11     August       2016         6        11   \n",
       "1           5          15       July       2016         5        16   \n",
       "2          23          12       July       2016        23        12   \n",
       "3           7          10       July       2016         7        10   \n",
       "4          12           6       July       2016        12         7   \n",
       "\n",
       "   customer_age  station_id  region_id capacity  \n",
       "0            59         332       71.0       36  \n",
       "1            45         332       71.0       36  \n",
       "2            39         332       71.0       36  \n",
       "3            39         332       71.0       36  \n",
       "4            60         332       71.0       36  \n",
       "\n",
       "[5 rows x 27 columns]"
      ]
     },
     "execution_count": 71,
     "metadata": {},
     "output_type": "execute_result"
    }
   ],
   "source": [
    "df.head()"
   ]
  },
  {
   "cell_type": "code",
   "execution_count": 72,
   "metadata": {},
   "outputs": [
    {
     "name": "stdout",
     "output_type": "stream",
     "text": [
      "<class 'pandas.core.frame.DataFrame'>\n",
      "Int64Index: 24196 entries, 0 to 24195\n",
      "Data columns (total 27 columns):\n",
      " #   Column                   Non-Null Count  Dtype         \n",
      "---  ------                   --------------  -----         \n",
      " 0   tripduration             24196 non-null  int64         \n",
      " 1   starttime                24196 non-null  datetime64[ns]\n",
      " 2   stoptime                 24196 non-null  datetime64[ns]\n",
      " 3   start_station_id         24196 non-null  int64         \n",
      " 4   start_station_name       24196 non-null  object        \n",
      " 5   start_station_latitude   24196 non-null  float64       \n",
      " 6   start_station_longitude  24196 non-null  float64       \n",
      " 7   end_station_id           24196 non-null  int64         \n",
      " 8   end_station_name         24196 non-null  object        \n",
      " 9   end_station_latitude     24196 non-null  float64       \n",
      " 10  end_station_longitude    24196 non-null  float64       \n",
      " 11  bikeid                   24196 non-null  int64         \n",
      " 12  usertype                 24196 non-null  object        \n",
      " 13  birth_year               24196 non-null  int64         \n",
      " 14  gender                   24196 non-null  object        \n",
      " 15  start_month              24196 non-null  object        \n",
      " 16  start_year               24196 non-null  int64         \n",
      " 17  start_date               24196 non-null  int64         \n",
      " 18  start_hour               24196 non-null  int64         \n",
      " 19  stop_month               24196 non-null  object        \n",
      " 20  stop_year                24196 non-null  int64         \n",
      " 21  stop_date                24196 non-null  int64         \n",
      " 22  stop_hour                24196 non-null  int64         \n",
      " 23  customer_age             24196 non-null  int64         \n",
      " 24  station_id               24196 non-null  int64         \n",
      " 25  region_id                24196 non-null  float64       \n",
      " 26  capacity                 24196 non-null  int64         \n",
      "dtypes: datetime64[ns](2), float64(5), int64(14), object(6)\n",
      "memory usage: 5.2+ MB\n"
     ]
    }
   ],
   "source": [
    "df.info()"
   ]
  },
  {
   "cell_type": "code",
   "execution_count": 73,
   "metadata": {},
   "outputs": [],
   "source": [
    "# ubah nama kolom region_id menjadi start_region_id\n",
    "df = df.rename(columns={'region_id' : 'start_region_id'})"
   ]
  },
  {
   "cell_type": "code",
   "execution_count": 74,
   "metadata": {},
   "outputs": [
    {
     "data": {
      "text/html": [
       "<div>\n",
       "<style scoped>\n",
       "    .dataframe tbody tr th:only-of-type {\n",
       "        vertical-align: middle;\n",
       "    }\n",
       "\n",
       "    .dataframe tbody tr th {\n",
       "        vertical-align: top;\n",
       "    }\n",
       "\n",
       "    .dataframe thead th {\n",
       "        text-align: right;\n",
       "    }\n",
       "</style>\n",
       "<table border=\"1\" class=\"dataframe\">\n",
       "  <thead>\n",
       "    <tr style=\"text-align: right;\">\n",
       "      <th></th>\n",
       "      <th>tripduration</th>\n",
       "      <th>starttime</th>\n",
       "      <th>stoptime</th>\n",
       "      <th>start_station_id</th>\n",
       "      <th>start_station_name</th>\n",
       "      <th>start_station_latitude</th>\n",
       "      <th>start_station_longitude</th>\n",
       "      <th>end_station_id</th>\n",
       "      <th>end_station_name</th>\n",
       "      <th>end_station_latitude</th>\n",
       "      <th>...</th>\n",
       "      <th>start_date</th>\n",
       "      <th>start_hour</th>\n",
       "      <th>stop_month</th>\n",
       "      <th>stop_year</th>\n",
       "      <th>stop_date</th>\n",
       "      <th>stop_hour</th>\n",
       "      <th>customer_age</th>\n",
       "      <th>station_id</th>\n",
       "      <th>start_region_id</th>\n",
       "      <th>capacity</th>\n",
       "    </tr>\n",
       "  </thead>\n",
       "  <tbody>\n",
       "    <tr>\n",
       "      <th>0</th>\n",
       "      <td>857</td>\n",
       "      <td>2016-08-06 11:16:51</td>\n",
       "      <td>2016-08-06 11:31:08</td>\n",
       "      <td>332</td>\n",
       "      <td>Cherry St</td>\n",
       "      <td>40.712199</td>\n",
       "      <td>-73.979481</td>\n",
       "      <td>351</td>\n",
       "      <td>Front St &amp; Maiden Ln</td>\n",
       "      <td>40.705310</td>\n",
       "      <td>...</td>\n",
       "      <td>6</td>\n",
       "      <td>11</td>\n",
       "      <td>August</td>\n",
       "      <td>2016</td>\n",
       "      <td>6</td>\n",
       "      <td>11</td>\n",
       "      <td>59</td>\n",
       "      <td>332</td>\n",
       "      <td>71.0</td>\n",
       "      <td>36</td>\n",
       "    </tr>\n",
       "    <tr>\n",
       "      <th>1</th>\n",
       "      <td>978</td>\n",
       "      <td>2016-07-05 15:48:08</td>\n",
       "      <td>2016-07-05 16:04:26</td>\n",
       "      <td>332</td>\n",
       "      <td>Cherry St</td>\n",
       "      <td>40.712199</td>\n",
       "      <td>-73.979481</td>\n",
       "      <td>534</td>\n",
       "      <td>Water - Whitehall Plaza</td>\n",
       "      <td>40.702551</td>\n",
       "      <td>...</td>\n",
       "      <td>5</td>\n",
       "      <td>15</td>\n",
       "      <td>July</td>\n",
       "      <td>2016</td>\n",
       "      <td>5</td>\n",
       "      <td>16</td>\n",
       "      <td>45</td>\n",
       "      <td>332</td>\n",
       "      <td>71.0</td>\n",
       "      <td>36</td>\n",
       "    </tr>\n",
       "    <tr>\n",
       "      <th>2</th>\n",
       "      <td>717</td>\n",
       "      <td>2016-07-23 12:41:28</td>\n",
       "      <td>2016-07-23 12:53:26</td>\n",
       "      <td>332</td>\n",
       "      <td>Cherry St</td>\n",
       "      <td>40.712199</td>\n",
       "      <td>-73.979481</td>\n",
       "      <td>279</td>\n",
       "      <td>Peck Slip &amp; Front St</td>\n",
       "      <td>40.707873</td>\n",
       "      <td>...</td>\n",
       "      <td>23</td>\n",
       "      <td>12</td>\n",
       "      <td>July</td>\n",
       "      <td>2016</td>\n",
       "      <td>23</td>\n",
       "      <td>12</td>\n",
       "      <td>39</td>\n",
       "      <td>332</td>\n",
       "      <td>71.0</td>\n",
       "      <td>36</td>\n",
       "    </tr>\n",
       "    <tr>\n",
       "      <th>3</th>\n",
       "      <td>979</td>\n",
       "      <td>2016-07-07 10:08:57</td>\n",
       "      <td>2016-07-07 10:25:17</td>\n",
       "      <td>332</td>\n",
       "      <td>Cherry St</td>\n",
       "      <td>40.712199</td>\n",
       "      <td>-73.979481</td>\n",
       "      <td>360</td>\n",
       "      <td>William St &amp; Pine St</td>\n",
       "      <td>40.707179</td>\n",
       "      <td>...</td>\n",
       "      <td>7</td>\n",
       "      <td>10</td>\n",
       "      <td>July</td>\n",
       "      <td>2016</td>\n",
       "      <td>7</td>\n",
       "      <td>10</td>\n",
       "      <td>39</td>\n",
       "      <td>332</td>\n",
       "      <td>71.0</td>\n",
       "      <td>36</td>\n",
       "    </tr>\n",
       "    <tr>\n",
       "      <th>4</th>\n",
       "      <td>325</td>\n",
       "      <td>2016-07-12 06:57:52</td>\n",
       "      <td>2016-07-12 07:03:17</td>\n",
       "      <td>332</td>\n",
       "      <td>Cherry St</td>\n",
       "      <td>40.712199</td>\n",
       "      <td>-73.979481</td>\n",
       "      <td>307</td>\n",
       "      <td>Canal St &amp; Rutgers St</td>\n",
       "      <td>40.714275</td>\n",
       "      <td>...</td>\n",
       "      <td>12</td>\n",
       "      <td>6</td>\n",
       "      <td>July</td>\n",
       "      <td>2016</td>\n",
       "      <td>12</td>\n",
       "      <td>7</td>\n",
       "      <td>60</td>\n",
       "      <td>332</td>\n",
       "      <td>71.0</td>\n",
       "      <td>36</td>\n",
       "    </tr>\n",
       "  </tbody>\n",
       "</table>\n",
       "<p>5 rows × 27 columns</p>\n",
       "</div>"
      ],
      "text/plain": [
       "   tripduration           starttime            stoptime  start_station_id  \\\n",
       "0           857 2016-08-06 11:16:51 2016-08-06 11:31:08               332   \n",
       "1           978 2016-07-05 15:48:08 2016-07-05 16:04:26               332   \n",
       "2           717 2016-07-23 12:41:28 2016-07-23 12:53:26               332   \n",
       "3           979 2016-07-07 10:08:57 2016-07-07 10:25:17               332   \n",
       "4           325 2016-07-12 06:57:52 2016-07-12 07:03:17               332   \n",
       "\n",
       "  start_station_name  start_station_latitude  start_station_longitude  \\\n",
       "0          Cherry St               40.712199               -73.979481   \n",
       "1          Cherry St               40.712199               -73.979481   \n",
       "2          Cherry St               40.712199               -73.979481   \n",
       "3          Cherry St               40.712199               -73.979481   \n",
       "4          Cherry St               40.712199               -73.979481   \n",
       "\n",
       "   end_station_id         end_station_name  end_station_latitude  ...  \\\n",
       "0             351     Front St & Maiden Ln             40.705310  ...   \n",
       "1             534  Water - Whitehall Plaza             40.702551  ...   \n",
       "2             279     Peck Slip & Front St             40.707873  ...   \n",
       "3             360     William St & Pine St             40.707179  ...   \n",
       "4             307    Canal St & Rutgers St             40.714275  ...   \n",
       "\n",
       "   start_date  start_hour stop_month  stop_year stop_date stop_hour  \\\n",
       "0           6          11     August       2016         6        11   \n",
       "1           5          15       July       2016         5        16   \n",
       "2          23          12       July       2016        23        12   \n",
       "3           7          10       July       2016         7        10   \n",
       "4          12           6       July       2016        12         7   \n",
       "\n",
       "   customer_age  station_id  start_region_id capacity  \n",
       "0            59         332             71.0       36  \n",
       "1            45         332             71.0       36  \n",
       "2            39         332             71.0       36  \n",
       "3            39         332             71.0       36  \n",
       "4            60         332             71.0       36  \n",
       "\n",
       "[5 rows x 27 columns]"
      ]
     },
     "execution_count": 74,
     "metadata": {},
     "output_type": "execute_result"
    }
   ],
   "source": [
    "df.head()"
   ]
  },
  {
   "cell_type": "code",
   "execution_count": 75,
   "metadata": {},
   "outputs": [],
   "source": [
    "# drop data temporary: station_id\n",
    "\n",
    "df.drop(columns=['station_id'], inplace=True)"
   ]
  },
  {
   "cell_type": "code",
   "execution_count": 76,
   "metadata": {},
   "outputs": [
    {
     "data": {
      "text/html": [
       "<div>\n",
       "<style scoped>\n",
       "    .dataframe tbody tr th:only-of-type {\n",
       "        vertical-align: middle;\n",
       "    }\n",
       "\n",
       "    .dataframe tbody tr th {\n",
       "        vertical-align: top;\n",
       "    }\n",
       "\n",
       "    .dataframe thead th {\n",
       "        text-align: right;\n",
       "    }\n",
       "</style>\n",
       "<table border=\"1\" class=\"dataframe\">\n",
       "  <thead>\n",
       "    <tr style=\"text-align: right;\">\n",
       "      <th></th>\n",
       "      <th>tripduration</th>\n",
       "      <th>starttime</th>\n",
       "      <th>stoptime</th>\n",
       "      <th>start_station_id</th>\n",
       "      <th>start_station_name</th>\n",
       "      <th>start_station_latitude</th>\n",
       "      <th>start_station_longitude</th>\n",
       "      <th>end_station_id</th>\n",
       "      <th>end_station_name</th>\n",
       "      <th>end_station_latitude</th>\n",
       "      <th>...</th>\n",
       "      <th>start_year</th>\n",
       "      <th>start_date</th>\n",
       "      <th>start_hour</th>\n",
       "      <th>stop_month</th>\n",
       "      <th>stop_year</th>\n",
       "      <th>stop_date</th>\n",
       "      <th>stop_hour</th>\n",
       "      <th>customer_age</th>\n",
       "      <th>start_region_id</th>\n",
       "      <th>capacity</th>\n",
       "    </tr>\n",
       "  </thead>\n",
       "  <tbody>\n",
       "    <tr>\n",
       "      <th>0</th>\n",
       "      <td>857</td>\n",
       "      <td>2016-08-06 11:16:51</td>\n",
       "      <td>2016-08-06 11:31:08</td>\n",
       "      <td>332</td>\n",
       "      <td>Cherry St</td>\n",
       "      <td>40.712199</td>\n",
       "      <td>-73.979481</td>\n",
       "      <td>351</td>\n",
       "      <td>Front St &amp; Maiden Ln</td>\n",
       "      <td>40.705310</td>\n",
       "      <td>...</td>\n",
       "      <td>2016</td>\n",
       "      <td>6</td>\n",
       "      <td>11</td>\n",
       "      <td>August</td>\n",
       "      <td>2016</td>\n",
       "      <td>6</td>\n",
       "      <td>11</td>\n",
       "      <td>59</td>\n",
       "      <td>71.0</td>\n",
       "      <td>36</td>\n",
       "    </tr>\n",
       "    <tr>\n",
       "      <th>1</th>\n",
       "      <td>978</td>\n",
       "      <td>2016-07-05 15:48:08</td>\n",
       "      <td>2016-07-05 16:04:26</td>\n",
       "      <td>332</td>\n",
       "      <td>Cherry St</td>\n",
       "      <td>40.712199</td>\n",
       "      <td>-73.979481</td>\n",
       "      <td>534</td>\n",
       "      <td>Water - Whitehall Plaza</td>\n",
       "      <td>40.702551</td>\n",
       "      <td>...</td>\n",
       "      <td>2016</td>\n",
       "      <td>5</td>\n",
       "      <td>15</td>\n",
       "      <td>July</td>\n",
       "      <td>2016</td>\n",
       "      <td>5</td>\n",
       "      <td>16</td>\n",
       "      <td>45</td>\n",
       "      <td>71.0</td>\n",
       "      <td>36</td>\n",
       "    </tr>\n",
       "    <tr>\n",
       "      <th>2</th>\n",
       "      <td>717</td>\n",
       "      <td>2016-07-23 12:41:28</td>\n",
       "      <td>2016-07-23 12:53:26</td>\n",
       "      <td>332</td>\n",
       "      <td>Cherry St</td>\n",
       "      <td>40.712199</td>\n",
       "      <td>-73.979481</td>\n",
       "      <td>279</td>\n",
       "      <td>Peck Slip &amp; Front St</td>\n",
       "      <td>40.707873</td>\n",
       "      <td>...</td>\n",
       "      <td>2016</td>\n",
       "      <td>23</td>\n",
       "      <td>12</td>\n",
       "      <td>July</td>\n",
       "      <td>2016</td>\n",
       "      <td>23</td>\n",
       "      <td>12</td>\n",
       "      <td>39</td>\n",
       "      <td>71.0</td>\n",
       "      <td>36</td>\n",
       "    </tr>\n",
       "    <tr>\n",
       "      <th>3</th>\n",
       "      <td>979</td>\n",
       "      <td>2016-07-07 10:08:57</td>\n",
       "      <td>2016-07-07 10:25:17</td>\n",
       "      <td>332</td>\n",
       "      <td>Cherry St</td>\n",
       "      <td>40.712199</td>\n",
       "      <td>-73.979481</td>\n",
       "      <td>360</td>\n",
       "      <td>William St &amp; Pine St</td>\n",
       "      <td>40.707179</td>\n",
       "      <td>...</td>\n",
       "      <td>2016</td>\n",
       "      <td>7</td>\n",
       "      <td>10</td>\n",
       "      <td>July</td>\n",
       "      <td>2016</td>\n",
       "      <td>7</td>\n",
       "      <td>10</td>\n",
       "      <td>39</td>\n",
       "      <td>71.0</td>\n",
       "      <td>36</td>\n",
       "    </tr>\n",
       "    <tr>\n",
       "      <th>4</th>\n",
       "      <td>325</td>\n",
       "      <td>2016-07-12 06:57:52</td>\n",
       "      <td>2016-07-12 07:03:17</td>\n",
       "      <td>332</td>\n",
       "      <td>Cherry St</td>\n",
       "      <td>40.712199</td>\n",
       "      <td>-73.979481</td>\n",
       "      <td>307</td>\n",
       "      <td>Canal St &amp; Rutgers St</td>\n",
       "      <td>40.714275</td>\n",
       "      <td>...</td>\n",
       "      <td>2016</td>\n",
       "      <td>12</td>\n",
       "      <td>6</td>\n",
       "      <td>July</td>\n",
       "      <td>2016</td>\n",
       "      <td>12</td>\n",
       "      <td>7</td>\n",
       "      <td>60</td>\n",
       "      <td>71.0</td>\n",
       "      <td>36</td>\n",
       "    </tr>\n",
       "  </tbody>\n",
       "</table>\n",
       "<p>5 rows × 26 columns</p>\n",
       "</div>"
      ],
      "text/plain": [
       "   tripduration           starttime            stoptime  start_station_id  \\\n",
       "0           857 2016-08-06 11:16:51 2016-08-06 11:31:08               332   \n",
       "1           978 2016-07-05 15:48:08 2016-07-05 16:04:26               332   \n",
       "2           717 2016-07-23 12:41:28 2016-07-23 12:53:26               332   \n",
       "3           979 2016-07-07 10:08:57 2016-07-07 10:25:17               332   \n",
       "4           325 2016-07-12 06:57:52 2016-07-12 07:03:17               332   \n",
       "\n",
       "  start_station_name  start_station_latitude  start_station_longitude  \\\n",
       "0          Cherry St               40.712199               -73.979481   \n",
       "1          Cherry St               40.712199               -73.979481   \n",
       "2          Cherry St               40.712199               -73.979481   \n",
       "3          Cherry St               40.712199               -73.979481   \n",
       "4          Cherry St               40.712199               -73.979481   \n",
       "\n",
       "   end_station_id         end_station_name  end_station_latitude  ...  \\\n",
       "0             351     Front St & Maiden Ln             40.705310  ...   \n",
       "1             534  Water - Whitehall Plaza             40.702551  ...   \n",
       "2             279     Peck Slip & Front St             40.707873  ...   \n",
       "3             360     William St & Pine St             40.707179  ...   \n",
       "4             307    Canal St & Rutgers St             40.714275  ...   \n",
       "\n",
       "   start_year  start_date start_hour  stop_month stop_year stop_date  \\\n",
       "0        2016           6         11      August      2016         6   \n",
       "1        2016           5         15        July      2016         5   \n",
       "2        2016          23         12        July      2016        23   \n",
       "3        2016           7         10        July      2016         7   \n",
       "4        2016          12          6        July      2016        12   \n",
       "\n",
       "   stop_hour  customer_age  start_region_id capacity  \n",
       "0         11            59             71.0       36  \n",
       "1         16            45             71.0       36  \n",
       "2         12            39             71.0       36  \n",
       "3         10            39             71.0       36  \n",
       "4          7            60             71.0       36  \n",
       "\n",
       "[5 rows x 26 columns]"
      ]
     },
     "execution_count": 76,
     "metadata": {},
     "output_type": "execute_result"
    }
   ],
   "source": [
    "df.head()"
   ]
  },
  {
   "cell_type": "markdown",
   "metadata": {},
   "source": [
    "## ** Analisis Kolom 'region_id' **"
   ]
  },
  {
   "cell_type": "code",
   "execution_count": 77,
   "metadata": {},
   "outputs": [
    {
     "data": {
      "text/plain": [
       "71.0     1493\n",
       "70.0       53\n",
       "311.0      25\n",
       "Name: region_id, dtype: int64"
      ]
     },
     "execution_count": 77,
     "metadata": {},
     "output_type": "execute_result"
    }
   ],
   "source": [
    "stat['region_id'].value_counts()"
   ]
  },
  {
   "cell_type": "markdown",
   "metadata": {},
   "source": [
    "Pada tabel citibike_stations, terdapat 3 region id: 70, 71, dan 311, dimana station citibike yang paling banyak berada pada region 71"
   ]
  },
  {
   "cell_type": "code",
   "execution_count": 78,
   "metadata": {},
   "outputs": [
    {
     "data": {
      "text/plain": [
       "71.0    24196\n",
       "Name: start_region_id, dtype: int64"
      ]
     },
     "execution_count": 78,
     "metadata": {},
     "output_type": "execute_result"
    }
   ],
   "source": [
    "df['start_region_id'].value_counts()"
   ]
  },
  {
   "cell_type": "markdown",
   "metadata": {},
   "source": [
    "Insight:\n",
    "\n",
    "Pada tabel trips keseluruhan yang sudah menggabungkan kolom region dari tabel citibike_stations, seluruh data yang ditampilkan merupakan data pada region yang sama, yaitu region 71, dimana dari tabel citibike_stations diketahui memang yang memiliki paling banyak stations daripada di region yang lain.\n",
    "\n",
    "Kesimpulan sementara: analisis yang selanjutnya dilakukan merupakan data pada region yang sama, yaitu region 71 yang memiliki paling banyak stations daripada region 70 dan 311."
   ]
  },
  {
   "cell_type": "markdown",
   "metadata": {},
   "source": [
    "====================================================================================="
   ]
  },
  {
   "cell_type": "markdown",
   "metadata": {},
   "source": [
    "## ** Analisis Kolom 'tripduration' **\n",
    "\n",
    "catatan: satuan duration dalam seconds. 1 day = 86400 seconds"
   ]
  },
  {
   "cell_type": "code",
   "execution_count": 79,
   "metadata": {},
   "outputs": [
    {
     "data": {
      "text/plain": [
       "count     24196.000000\n",
       "mean        857.617664\n",
       "std        3537.271182\n",
       "min          61.000000\n",
       "25%         364.000000\n",
       "50%         592.000000\n",
       "75%         994.000000\n",
       "max      289666.000000\n",
       "Name: tripduration, dtype: float64"
      ]
     },
     "execution_count": 79,
     "metadata": {},
     "output_type": "execute_result"
    }
   ],
   "source": [
    "# deskripsi statistik pada data dalam kolom tripduration\n",
    "df['tripduration'].describe()"
   ]
  },
  {
   "cell_type": "code",
   "execution_count": 80,
   "metadata": {},
   "outputs": [
    {
     "data": {
      "image/png": "[encoded data removed]",
      "text/plain": [
       "<Figure size 576x360 with 1 Axes>"
      ]
     },
     "metadata": {
      "needs_background": "light"
     },
     "output_type": "display_data"
    }
   ],
   "source": [
    "plt.figure(figsize=(8, 5))\n",
    "sns.boxplot(x=df['tripduration'])\n",
    "plt.show()"
   ]
  },
  {
   "cell_type": "markdown",
   "metadata": {},
   "source": [
    "Insight:\n",
    "\n",
    "Kolom tripduration memiliki nilai standar deviasi yang tinggi, yang berarti selisih rentang datanya relatif lebar, dimana minimum penggunaan unit sepeda adalah selama 61 detik, atau 1 menit, sementara maksimum penggunaan 289.666 detik = 3 hari.\n",
    "\n",
    "Dari boxplot di atas juga terlihat bahwa kolom tripduration memiliki value outliers. Namun value outliers di kolom ini tidak akan didrop karena menggambarkan variasi data dalam record durasi penggunaan unit citibike yang digunakan customer.\n",
    "\n",
    "Processing data pada kolom ini akan dilakukan dengan cara binning, dimana value-value data dalam kolom akan dikategorikan berdasarkan kategori durasi pemakaian.\n",
    "\n",
    "Kategori durasi pemakaian akan dibagi menjadi:\n",
    "- kurang dari 1 jam\n",
    "- lebih dari 1 jam"
   ]
  },
  {
   "cell_type": "code",
   "execution_count": 81,
   "metadata": {},
   "outputs": [],
   "source": [
    "# buat kolom baru untuk mengetahui apakah durasi kurang atau lebih dari 1 jam\n",
    "df['trip_duration_hour'] = df['tripduration'].apply(lambda x: x/3600)"
   ]
  },
  {
   "cell_type": "code",
   "execution_count": 82,
   "metadata": {},
   "outputs": [
    {
     "data": {
      "text/html": [
       "<div>\n",
       "<style scoped>\n",
       "    .dataframe tbody tr th:only-of-type {\n",
       "        vertical-align: middle;\n",
       "    }\n",
       "\n",
       "    .dataframe tbody tr th {\n",
       "        vertical-align: top;\n",
       "    }\n",
       "\n",
       "    .dataframe thead th {\n",
       "        text-align: right;\n",
       "    }\n",
       "</style>\n",
       "<table border=\"1\" class=\"dataframe\">\n",
       "  <thead>\n",
       "    <tr style=\"text-align: right;\">\n",
       "      <th></th>\n",
       "      <th>tripduration</th>\n",
       "      <th>starttime</th>\n",
       "      <th>stoptime</th>\n",
       "      <th>start_station_id</th>\n",
       "      <th>start_station_name</th>\n",
       "      <th>start_station_latitude</th>\n",
       "      <th>start_station_longitude</th>\n",
       "      <th>end_station_id</th>\n",
       "      <th>end_station_name</th>\n",
       "      <th>end_station_latitude</th>\n",
       "      <th>...</th>\n",
       "      <th>start_date</th>\n",
       "      <th>start_hour</th>\n",
       "      <th>stop_month</th>\n",
       "      <th>stop_year</th>\n",
       "      <th>stop_date</th>\n",
       "      <th>stop_hour</th>\n",
       "      <th>customer_age</th>\n",
       "      <th>start_region_id</th>\n",
       "      <th>capacity</th>\n",
       "      <th>trip_duration_hour</th>\n",
       "    </tr>\n",
       "  </thead>\n",
       "  <tbody>\n",
       "    <tr>\n",
       "      <th>0</th>\n",
       "      <td>857</td>\n",
       "      <td>2016-08-06 11:16:51</td>\n",
       "      <td>2016-08-06 11:31:08</td>\n",
       "      <td>332</td>\n",
       "      <td>Cherry St</td>\n",
       "      <td>40.712199</td>\n",
       "      <td>-73.979481</td>\n",
       "      <td>351</td>\n",
       "      <td>Front St &amp; Maiden Ln</td>\n",
       "      <td>40.705310</td>\n",
       "      <td>...</td>\n",
       "      <td>6</td>\n",
       "      <td>11</td>\n",
       "      <td>August</td>\n",
       "      <td>2016</td>\n",
       "      <td>6</td>\n",
       "      <td>11</td>\n",
       "      <td>59</td>\n",
       "      <td>71.0</td>\n",
       "      <td>36</td>\n",
       "      <td>0.238056</td>\n",
       "    </tr>\n",
       "    <tr>\n",
       "      <th>1</th>\n",
       "      <td>978</td>\n",
       "      <td>2016-07-05 15:48:08</td>\n",
       "      <td>2016-07-05 16:04:26</td>\n",
       "      <td>332</td>\n",
       "      <td>Cherry St</td>\n",
       "      <td>40.712199</td>\n",
       "      <td>-73.979481</td>\n",
       "      <td>534</td>\n",
       "      <td>Water - Whitehall Plaza</td>\n",
       "      <td>40.702551</td>\n",
       "      <td>...</td>\n",
       "      <td>5</td>\n",
       "      <td>15</td>\n",
       "      <td>July</td>\n",
       "      <td>2016</td>\n",
       "      <td>5</td>\n",
       "      <td>16</td>\n",
       "      <td>45</td>\n",
       "      <td>71.0</td>\n",
       "      <td>36</td>\n",
       "      <td>0.271667</td>\n",
       "    </tr>\n",
       "    <tr>\n",
       "      <th>2</th>\n",
       "      <td>717</td>\n",
       "      <td>2016-07-23 12:41:28</td>\n",
       "      <td>2016-07-23 12:53:26</td>\n",
       "      <td>332</td>\n",
       "      <td>Cherry St</td>\n",
       "      <td>40.712199</td>\n",
       "      <td>-73.979481</td>\n",
       "      <td>279</td>\n",
       "      <td>Peck Slip &amp; Front St</td>\n",
       "      <td>40.707873</td>\n",
       "      <td>...</td>\n",
       "      <td>23</td>\n",
       "      <td>12</td>\n",
       "      <td>July</td>\n",
       "      <td>2016</td>\n",
       "      <td>23</td>\n",
       "      <td>12</td>\n",
       "      <td>39</td>\n",
       "      <td>71.0</td>\n",
       "      <td>36</td>\n",
       "      <td>0.199167</td>\n",
       "    </tr>\n",
       "    <tr>\n",
       "      <th>3</th>\n",
       "      <td>979</td>\n",
       "      <td>2016-07-07 10:08:57</td>\n",
       "      <td>2016-07-07 10:25:17</td>\n",
       "      <td>332</td>\n",
       "      <td>Cherry St</td>\n",
       "      <td>40.712199</td>\n",
       "      <td>-73.979481</td>\n",
       "      <td>360</td>\n",
       "      <td>William St &amp; Pine St</td>\n",
       "      <td>40.707179</td>\n",
       "      <td>...</td>\n",
       "      <td>7</td>\n",
       "      <td>10</td>\n",
       "      <td>July</td>\n",
       "      <td>2016</td>\n",
       "      <td>7</td>\n",
       "      <td>10</td>\n",
       "      <td>39</td>\n",
       "      <td>71.0</td>\n",
       "      <td>36</td>\n",
       "      <td>0.271944</td>\n",
       "    </tr>\n",
       "    <tr>\n",
       "      <th>4</th>\n",
       "      <td>325</td>\n",
       "      <td>2016-07-12 06:57:52</td>\n",
       "      <td>2016-07-12 07:03:17</td>\n",
       "      <td>332</td>\n",
       "      <td>Cherry St</td>\n",
       "      <td>40.712199</td>\n",
       "      <td>-73.979481</td>\n",
       "      <td>307</td>\n",
       "      <td>Canal St &amp; Rutgers St</td>\n",
       "      <td>40.714275</td>\n",
       "      <td>...</td>\n",
       "      <td>12</td>\n",
       "      <td>6</td>\n",
       "      <td>July</td>\n",
       "      <td>2016</td>\n",
       "      <td>12</td>\n",
       "      <td>7</td>\n",
       "      <td>60</td>\n",
       "      <td>71.0</td>\n",
       "      <td>36</td>\n",
       "      <td>0.090278</td>\n",
       "    </tr>\n",
       "  </tbody>\n",
       "</table>\n",
       "<p>5 rows × 27 columns</p>\n",
       "</div>"
      ],
      "text/plain": [
       "   tripduration           starttime            stoptime  start_station_id  \\\n",
       "0           857 2016-08-06 11:16:51 2016-08-06 11:31:08               332   \n",
       "1           978 2016-07-05 15:48:08 2016-07-05 16:04:26               332   \n",
       "2           717 2016-07-23 12:41:28 2016-07-23 12:53:26               332   \n",
       "3           979 2016-07-07 10:08:57 2016-07-07 10:25:17               332   \n",
       "4           325 2016-07-12 06:57:52 2016-07-12 07:03:17               332   \n",
       "\n",
       "  start_station_name  start_station_latitude  start_station_longitude  \\\n",
       "0          Cherry St               40.712199               -73.979481   \n",
       "1          Cherry St               40.712199               -73.979481   \n",
       "2          Cherry St               40.712199               -73.979481   \n",
       "3          Cherry St               40.712199               -73.979481   \n",
       "4          Cherry St               40.712199               -73.979481   \n",
       "\n",
       "   end_station_id         end_station_name  end_station_latitude  ...  \\\n",
       "0             351     Front St & Maiden Ln             40.705310  ...   \n",
       "1             534  Water - Whitehall Plaza             40.702551  ...   \n",
       "2             279     Peck Slip & Front St             40.707873  ...   \n",
       "3             360     William St & Pine St             40.707179  ...   \n",
       "4             307    Canal St & Rutgers St             40.714275  ...   \n",
       "\n",
       "   start_date  start_hour stop_month  stop_year stop_date stop_hour  \\\n",
       "0           6          11     August       2016         6        11   \n",
       "1           5          15       July       2016         5        16   \n",
       "2          23          12       July       2016        23        12   \n",
       "3           7          10       July       2016         7        10   \n",
       "4          12           6       July       2016        12         7   \n",
       "\n",
       "   customer_age  start_region_id  capacity trip_duration_hour  \n",
       "0            59             71.0        36           0.238056  \n",
       "1            45             71.0        36           0.271667  \n",
       "2            39             71.0        36           0.199167  \n",
       "3            39             71.0        36           0.271944  \n",
       "4            60             71.0        36           0.090278  \n",
       "\n",
       "[5 rows x 27 columns]"
      ]
     },
     "execution_count": 82,
     "metadata": {},
     "output_type": "execute_result"
    }
   ],
   "source": [
    "df.head()"
   ]
  },
  {
   "cell_type": "code",
   "execution_count": 83,
   "metadata": {},
   "outputs": [
    {
     "data": {
      "text/plain": [
       "count    24196.000000\n",
       "mean         0.238227\n",
       "std          0.982575\n",
       "min          0.016944\n",
       "25%          0.101111\n",
       "50%          0.164444\n",
       "75%          0.276111\n",
       "max         80.462778\n",
       "Name: trip_duration_hour, dtype: float64"
      ]
     },
     "execution_count": 83,
     "metadata": {},
     "output_type": "execute_result"
    }
   ],
   "source": [
    "df['trip_duration_hour'].describe()"
   ]
  },
  {
   "cell_type": "code",
   "execution_count": 84,
   "metadata": {},
   "outputs": [],
   "source": [
    "# definisi kategori: less jika antara 0 - 1, more jika antara 1 - 81\n",
    "# akan diartikan sebagai tripduration_of_1hr\n",
    "bins = [0, 1, 81]\n",
    "labels = ['less', 'more']"
   ]
  },
  {
   "cell_type": "code",
   "execution_count": 85,
   "metadata": {},
   "outputs": [],
   "source": [
    "df['tripduration_of_1hr'] = pd.cut(df['trip_duration_hour'], bins=bins, labels=labels)"
   ]
  },
  {
   "cell_type": "code",
   "execution_count": 86,
   "metadata": {},
   "outputs": [
    {
     "data": {
      "text/html": [
       "<div>\n",
       "<style scoped>\n",
       "    .dataframe tbody tr th:only-of-type {\n",
       "        vertical-align: middle;\n",
       "    }\n",
       "\n",
       "    .dataframe tbody tr th {\n",
       "        vertical-align: top;\n",
       "    }\n",
       "\n",
       "    .dataframe thead th {\n",
       "        text-align: right;\n",
       "    }\n",
       "</style>\n",
       "<table border=\"1\" class=\"dataframe\">\n",
       "  <thead>\n",
       "    <tr style=\"text-align: right;\">\n",
       "      <th></th>\n",
       "      <th>tripduration</th>\n",
       "      <th>starttime</th>\n",
       "      <th>stoptime</th>\n",
       "      <th>start_station_id</th>\n",
       "      <th>start_station_name</th>\n",
       "      <th>start_station_latitude</th>\n",
       "      <th>start_station_longitude</th>\n",
       "      <th>end_station_id</th>\n",
       "      <th>end_station_name</th>\n",
       "      <th>end_station_latitude</th>\n",
       "      <th>...</th>\n",
       "      <th>start_hour</th>\n",
       "      <th>stop_month</th>\n",
       "      <th>stop_year</th>\n",
       "      <th>stop_date</th>\n",
       "      <th>stop_hour</th>\n",
       "      <th>customer_age</th>\n",
       "      <th>start_region_id</th>\n",
       "      <th>capacity</th>\n",
       "      <th>trip_duration_hour</th>\n",
       "      <th>tripduration_of_1hr</th>\n",
       "    </tr>\n",
       "  </thead>\n",
       "  <tbody>\n",
       "    <tr>\n",
       "      <th>0</th>\n",
       "      <td>857</td>\n",
       "      <td>2016-08-06 11:16:51</td>\n",
       "      <td>2016-08-06 11:31:08</td>\n",
       "      <td>332</td>\n",
       "      <td>Cherry St</td>\n",
       "      <td>40.712199</td>\n",
       "      <td>-73.979481</td>\n",
       "      <td>351</td>\n",
       "      <td>Front St &amp; Maiden Ln</td>\n",
       "      <td>40.705310</td>\n",
       "      <td>...</td>\n",
       "      <td>11</td>\n",
       "      <td>August</td>\n",
       "      <td>2016</td>\n",
       "      <td>6</td>\n",
       "      <td>11</td>\n",
       "      <td>59</td>\n",
       "      <td>71.0</td>\n",
       "      <td>36</td>\n",
       "      <td>0.238056</td>\n",
       "      <td>less</td>\n",
       "    </tr>\n",
       "    <tr>\n",
       "      <th>1</th>\n",
       "      <td>978</td>\n",
       "      <td>2016-07-05 15:48:08</td>\n",
       "      <td>2016-07-05 16:04:26</td>\n",
       "      <td>332</td>\n",
       "      <td>Cherry St</td>\n",
       "      <td>40.712199</td>\n",
       "      <td>-73.979481</td>\n",
       "      <td>534</td>\n",
       "      <td>Water - Whitehall Plaza</td>\n",
       "      <td>40.702551</td>\n",
       "      <td>...</td>\n",
       "      <td>15</td>\n",
       "      <td>July</td>\n",
       "      <td>2016</td>\n",
       "      <td>5</td>\n",
       "      <td>16</td>\n",
       "      <td>45</td>\n",
       "      <td>71.0</td>\n",
       "      <td>36</td>\n",
       "      <td>0.271667</td>\n",
       "      <td>less</td>\n",
       "    </tr>\n",
       "    <tr>\n",
       "      <th>2</th>\n",
       "      <td>717</td>\n",
       "      <td>2016-07-23 12:41:28</td>\n",
       "      <td>2016-07-23 12:53:26</td>\n",
       "      <td>332</td>\n",
       "      <td>Cherry St</td>\n",
       "      <td>40.712199</td>\n",
       "      <td>-73.979481</td>\n",
       "      <td>279</td>\n",
       "      <td>Peck Slip &amp; Front St</td>\n",
       "      <td>40.707873</td>\n",
       "      <td>...</td>\n",
       "      <td>12</td>\n",
       "      <td>July</td>\n",
       "      <td>2016</td>\n",
       "      <td>23</td>\n",
       "      <td>12</td>\n",
       "      <td>39</td>\n",
       "      <td>71.0</td>\n",
       "      <td>36</td>\n",
       "      <td>0.199167</td>\n",
       "      <td>less</td>\n",
       "    </tr>\n",
       "    <tr>\n",
       "      <th>3</th>\n",
       "      <td>979</td>\n",
       "      <td>2016-07-07 10:08:57</td>\n",
       "      <td>2016-07-07 10:25:17</td>\n",
       "      <td>332</td>\n",
       "      <td>Cherry St</td>\n",
       "      <td>40.712199</td>\n",
       "      <td>-73.979481</td>\n",
       "      <td>360</td>\n",
       "      <td>William St &amp; Pine St</td>\n",
       "      <td>40.707179</td>\n",
       "      <td>...</td>\n",
       "      <td>10</td>\n",
       "      <td>July</td>\n",
       "      <td>2016</td>\n",
       "      <td>7</td>\n",
       "      <td>10</td>\n",
       "      <td>39</td>\n",
       "      <td>71.0</td>\n",
       "      <td>36</td>\n",
       "      <td>0.271944</td>\n",
       "      <td>less</td>\n",
       "    </tr>\n",
       "    <tr>\n",
       "      <th>4</th>\n",
       "      <td>325</td>\n",
       "      <td>2016-07-12 06:57:52</td>\n",
       "      <td>2016-07-12 07:03:17</td>\n",
       "      <td>332</td>\n",
       "      <td>Cherry St</td>\n",
       "      <td>40.712199</td>\n",
       "      <td>-73.979481</td>\n",
       "      <td>307</td>\n",
       "      <td>Canal St &amp; Rutgers St</td>\n",
       "      <td>40.714275</td>\n",
       "      <td>...</td>\n",
       "      <td>6</td>\n",
       "      <td>July</td>\n",
       "      <td>2016</td>\n",
       "      <td>12</td>\n",
       "      <td>7</td>\n",
       "      <td>60</td>\n",
       "      <td>71.0</td>\n",
       "      <td>36</td>\n",
       "      <td>0.090278</td>\n",
       "      <td>less</td>\n",
       "    </tr>\n",
       "  </tbody>\n",
       "</table>\n",
       "<p>5 rows × 28 columns</p>\n",
       "</div>"
      ],
      "text/plain": [
       "   tripduration           starttime            stoptime  start_station_id  \\\n",
       "0           857 2016-08-06 11:16:51 2016-08-06 11:31:08               332   \n",
       "1           978 2016-07-05 15:48:08 2016-07-05 16:04:26               332   \n",
       "2           717 2016-07-23 12:41:28 2016-07-23 12:53:26               332   \n",
       "3           979 2016-07-07 10:08:57 2016-07-07 10:25:17               332   \n",
       "4           325 2016-07-12 06:57:52 2016-07-12 07:03:17               332   \n",
       "\n",
       "  start_station_name  start_station_latitude  start_station_longitude  \\\n",
       "0          Cherry St               40.712199               -73.979481   \n",
       "1          Cherry St               40.712199               -73.979481   \n",
       "2          Cherry St               40.712199               -73.979481   \n",
       "3          Cherry St               40.712199               -73.979481   \n",
       "4          Cherry St               40.712199               -73.979481   \n",
       "\n",
       "   end_station_id         end_station_name  end_station_latitude  ...  \\\n",
       "0             351     Front St & Maiden Ln             40.705310  ...   \n",
       "1             534  Water - Whitehall Plaza             40.702551  ...   \n",
       "2             279     Peck Slip & Front St             40.707873  ...   \n",
       "3             360     William St & Pine St             40.707179  ...   \n",
       "4             307    Canal St & Rutgers St             40.714275  ...   \n",
       "\n",
       "   start_hour  stop_month stop_year  stop_date stop_hour customer_age  \\\n",
       "0          11      August      2016          6        11           59   \n",
       "1          15        July      2016          5        16           45   \n",
       "2          12        July      2016         23        12           39   \n",
       "3          10        July      2016          7        10           39   \n",
       "4           6        July      2016         12         7           60   \n",
       "\n",
       "   start_region_id  capacity  trip_duration_hour tripduration_of_1hr  \n",
       "0             71.0        36            0.238056                less  \n",
       "1             71.0        36            0.271667                less  \n",
       "2             71.0        36            0.199167                less  \n",
       "3             71.0        36            0.271944                less  \n",
       "4             71.0        36            0.090278                less  \n",
       "\n",
       "[5 rows x 28 columns]"
      ]
     },
     "execution_count": 86,
     "metadata": {},
     "output_type": "execute_result"
    }
   ],
   "source": [
    "df.head()"
   ]
  },
  {
   "cell_type": "code",
   "execution_count": 87,
   "metadata": {},
   "outputs": [
    {
     "data": {
      "text/plain": [
       "(24196, 28)"
      ]
     },
     "execution_count": 87,
     "metadata": {},
     "output_type": "execute_result"
    }
   ],
   "source": [
    "# matriks tabel citibike_trips (df)\n",
    "df.shape"
   ]
  },
  {
   "cell_type": "code",
   "execution_count": 88,
   "metadata": {},
   "outputs": [
    {
     "data": {
      "text/plain": [
       "(117, 28)"
      ]
     },
     "execution_count": 88,
     "metadata": {},
     "output_type": "execute_result"
    }
   ],
   "source": [
    "# matriks tabel citibike_trips dimana durasi penggunaan lebih dari 1 jam\n",
    "df[df['tripduration_of_1hr'] == 'more'].shape"
   ]
  },
  {
   "cell_type": "code",
   "execution_count": 89,
   "metadata": {},
   "outputs": [
    {
     "data": {
      "text/plain": [
       "(24079, 28)"
      ]
     },
     "execution_count": 89,
     "metadata": {},
     "output_type": "execute_result"
    }
   ],
   "source": [
    "# matriks tabel citibike_trips dimana durasi penggunaan kurang dari 1 jam\n",
    "df[df['tripduration_of_1hr'] == 'less'].shape"
   ]
  },
  {
   "cell_type": "code",
   "execution_count": 213,
   "metadata": {},
   "outputs": [
    {
     "data": {
      "image/png": "[encoded data removed]",
      "text/plain": [
       "<Figure size 432x288 with 1 Axes>"
      ]
     },
     "metadata": {},
     "output_type": "display_data"
    }
   ],
   "source": [
    "# Persentase pengguna berdasarkan durasi penggunaan\n",
    "def func(pct, allvals):\n",
    "    absolute = int(pct/100.*np.sum(allvals))\n",
    "    return \"{:.1f}%)\".format(pct, absolute)\n",
    "\n",
    "df.pivot_table(index=['tripduration_of_1hr'], values='start_station_id', aggfunc='count').plot.pie(y='start_station_id', \\\n",
    "title='Trip Duration in 1 hour more or less', autopct=lambda pct: func(pct, df['start_station_id']), textprops=dict(color=\"w\"))\n",
    "plt.show()"
   ]
  },
  {
   "cell_type": "markdown",
   "metadata": {},
   "source": [
    "Pengguna citibike sharing didominasi oleh penggunaan durasi pendek, kurang dari 1 jam."
   ]
  },
  {
   "cell_type": "markdown",
   "metadata": {},
   "source": [
    "Untuk mendapatkan insight lebih lanjut, bisa dilakukan analisa terhadap kelompok yang menggunakan citibike sharing dengan durasi pemakaian kurang dari 1 jam; analisis dilakukan terhadap:\n",
    "1. apakah customer menggunakan citibike pada station awal dan akhir yang sama?\n",
    "2. distribusi waktu penggunaan citibike sharing untuk customer yang menggunakan kurang dari 1 jam dan lebih dari 1 jam\n",
    "3. jenis pengguna (usertype) yang menggunakan service citibike sharing?"
   ]
  },
  {
   "cell_type": "markdown",
   "metadata": {},
   "source": [
    "### 1."
   ]
  },
  {
   "cell_type": "markdown",
   "metadata": {},
   "source": [
    "### Apakah customer pada kelompok dengan pemakaian kurang dari 1 jam menggunakan citibike pada station awal dan akhir yang sama?"
   ]
  },
  {
   "cell_type": "code",
   "execution_count": 90,
   "metadata": {},
   "outputs": [],
   "source": [
    "# define dataset untuk kelompok dengan penggunaan kurang dari 1 jam\n",
    "less = df[df['tripduration_of_1hr'] == 'less']"
   ]
  },
  {
   "cell_type": "code",
   "execution_count": 91,
   "metadata": {},
   "outputs": [
    {
     "data": {
      "text/plain": [
       "(24079, 28)"
      ]
     },
     "execution_count": 91,
     "metadata": {},
     "output_type": "execute_result"
    }
   ],
   "source": [
    "less.shape"
   ]
  },
  {
   "cell_type": "code",
   "execution_count": 92,
   "metadata": {},
   "outputs": [
    {
     "data": {
      "text/plain": [
       "513"
      ]
     },
     "execution_count": 92,
     "metadata": {},
     "output_type": "execute_result"
    }
   ],
   "source": [
    "less[less['start_station_id'] == less['end_station_id']]['start_station_id'].count()"
   ]
  },
  {
   "cell_type": "code",
   "execution_count": 93,
   "metadata": {},
   "outputs": [
    {
     "data": {
      "text/plain": [
       "2.1304871464761828"
      ]
     },
     "execution_count": 93,
     "metadata": {},
     "output_type": "execute_result"
    }
   ],
   "source": [
    "513/24079*100"
   ]
  },
  {
   "cell_type": "code",
   "execution_count": 94,
   "metadata": {},
   "outputs": [
    {
     "data": {
      "text/plain": [
       "97.87"
      ]
     },
     "execution_count": 94,
     "metadata": {},
     "output_type": "execute_result"
    }
   ],
   "source": [
    "100-2.13"
   ]
  },
  {
   "cell_type": "markdown",
   "metadata": {},
   "source": [
    "Insight:\n",
    "\n",
    "Dari 24079 data pada kelompok penggunaan citibike kurang dari 1 jam, hanya 513 atau 2.13% customer yang memulai dan mengakhiri trip pada station yang sama. Sebanyak hampir 98% menggunakan citibike dari satu station ke station lainnya\n",
    "\n",
    "Pertanyaan berikutnya yang bisa dicari dari data ini adalah:\n",
    "apakah tipe customer yang menggunakan citibike dalam perjalanan pendek tanpa pindah station?"
   ]
  },
  {
   "cell_type": "code",
   "execution_count": 95,
   "metadata": {},
   "outputs": [
    {
     "data": {
      "text/plain": [
       "Subscriber    498\n",
       "Customer       15\n",
       "Name: usertype, dtype: int64"
      ]
     },
     "execution_count": 95,
     "metadata": {},
     "output_type": "execute_result"
    }
   ],
   "source": [
    "less[less['start_station_id'] == less['end_station_id']]['usertype'].value_counts()"
   ]
  },
  {
   "cell_type": "code",
   "execution_count": 214,
   "metadata": {},
   "outputs": [
    {
     "data": {
      "image/png": "[encoded data removed]",
      "text/plain": [
       "<Figure size 432x288 with 1 Axes>"
      ]
     },
     "metadata": {},
     "output_type": "display_data"
    }
   ],
   "source": [
    "def func(pct, allvals):\n",
    "    absolute = int(pct/100.*np.sum(allvals))\n",
    "    return \"{:.1f}%)\".format(pct, absolute)\n",
    "\n",
    "df.pivot_table(index=['usertype'], values='start_station_id', aggfunc='count').plot.pie(y='start_station_id', \\\n",
    "title='Usertype Customer or Subscriber', autopct=lambda pct: func(pct, df['start_station_id']), textprops=dict(color=\"w\"))\n",
    "plt.show()"
   ]
  },
  {
   "cell_type": "markdown",
   "metadata": {},
   "source": [
    "Insight:\n",
    "\n",
    "Sebanyak 99% pengguna merupakan member tahunan citibike sharing, sementara 1% sisanya menggunakan citibike sharing dengan metode 24-hour pass atau 7-day pass."
   ]
  },
  {
   "cell_type": "markdown",
   "metadata": {},
   "source": [
    "### 2."
   ]
  },
  {
   "cell_type": "markdown",
   "metadata": {},
   "source": [
    "### Distribusi waktu penggunaan citibike sharing untuk customer yang menggunakan kurang dari 1 jam dan lebih dari 1 jam"
   ]
  },
  {
   "cell_type": "code",
   "execution_count": 97,
   "metadata": {},
   "outputs": [
    {
     "data": {
      "text/html": [
       "<div>\n",
       "<style scoped>\n",
       "    .dataframe tbody tr th:only-of-type {\n",
       "        vertical-align: middle;\n",
       "    }\n",
       "\n",
       "    .dataframe tbody tr th {\n",
       "        vertical-align: top;\n",
       "    }\n",
       "\n",
       "    .dataframe thead th {\n",
       "        text-align: right;\n",
       "    }\n",
       "</style>\n",
       "<table border=\"1\" class=\"dataframe\">\n",
       "  <thead>\n",
       "    <tr style=\"text-align: right;\">\n",
       "      <th></th>\n",
       "      <th>count</th>\n",
       "      <th>mean</th>\n",
       "      <th>std</th>\n",
       "      <th>min</th>\n",
       "      <th>25%</th>\n",
       "      <th>50%</th>\n",
       "      <th>75%</th>\n",
       "      <th>max</th>\n",
       "    </tr>\n",
       "  </thead>\n",
       "  <tbody>\n",
       "    <tr>\n",
       "      <th>start_hour</th>\n",
       "      <td>24196.0</td>\n",
       "      <td>13.623905</td>\n",
       "      <td>4.708750</td>\n",
       "      <td>0.0</td>\n",
       "      <td>10.0</td>\n",
       "      <td>14.0</td>\n",
       "      <td>17.0</td>\n",
       "      <td>23.0</td>\n",
       "    </tr>\n",
       "    <tr>\n",
       "      <th>stop_hour</th>\n",
       "      <td>24196.0</td>\n",
       "      <td>13.773888</td>\n",
       "      <td>4.736687</td>\n",
       "      <td>0.0</td>\n",
       "      <td>10.0</td>\n",
       "      <td>14.0</td>\n",
       "      <td>18.0</td>\n",
       "      <td>23.0</td>\n",
       "    </tr>\n",
       "  </tbody>\n",
       "</table>\n",
       "</div>"
      ],
      "text/plain": [
       "              count       mean       std  min   25%   50%   75%   max\n",
       "start_hour  24196.0  13.623905  4.708750  0.0  10.0  14.0  17.0  23.0\n",
       "stop_hour   24196.0  13.773888  4.736687  0.0  10.0  14.0  18.0  23.0"
      ]
     },
     "execution_count": 97,
     "metadata": {},
     "output_type": "execute_result"
    }
   ],
   "source": [
    "df[['start_hour', 'stop_hour']].describe().T"
   ]
  },
  {
   "cell_type": "code",
   "execution_count": 98,
   "metadata": {},
   "outputs": [],
   "source": [
    "num = df[['start_hour', 'stop_hour']]"
   ]
  },
  {
   "cell_type": "code",
   "execution_count": 99,
   "metadata": {},
   "outputs": [
    {
     "name": "stdout",
     "output_type": "stream",
     "text": [
      "start_hour\n"
     ]
    },
    {
     "data": {
      "image/png": "[encoded data removed]",
      "text/plain": [
       "<Figure size 576x432 with 1 Axes>"
      ]
     },
     "metadata": {
      "needs_background": "light"
     },
     "output_type": "display_data"
    },
    {
     "name": "stdout",
     "output_type": "stream",
     "text": [
      "stop_hour\n"
     ]
    },
    {
     "data": {
      "image/png": "[encoded data removed]",
      "text/plain": [
       "<Figure size 576x432 with 1 Axes>"
      ]
     },
     "metadata": {
      "needs_background": "light"
     },
     "output_type": "display_data"
    }
   ],
   "source": [
    "for i in num.columns:    \n",
    "    plt.figure(figsize=(8, 6))\n",
    "    print(i)\n",
    "    df[df['tripduration_of_1hr'] == 'less'][i].hist(alpha=0.5, color='blue',\n",
    "                                          bins=30, label = 'less than 1hr')\n",
    "    df[df['tripduration_of_1hr'] == 0][i].hist(alpha=0.5, color='red',\n",
    "                                          bins=30, label = 'More than 1hr')\n",
    "    plt.legend()\n",
    "    plt.title(f\"Distribution of usage per hour based on feature {i}\", fontsize=15)\n",
    "    plt.xlabel(f\"{i}\")\n",
    "    plt.show()"
   ]
  },
  {
   "cell_type": "markdown",
   "metadata": {},
   "source": [
    "Insight:\n",
    "\n",
    "Tidak terlihat beda yang signifikan antara pengguna citibike sharing yang menggunakan lebih dari 1 jam dan kurang dari 1 jam, karena pengguna dengan durasi pemakaian lebih dari 1 jam relatif lebih sedikit daripada pengguna dengan pemakaian lebih dari 1 jam."
   ]
  },
  {
   "cell_type": "code",
   "execution_count": 126,
   "metadata": {},
   "outputs": [
    {
     "data": {
      "image/png": "[encoded data removed]",
      "text/plain": [
       "<Figure size 1152x432 with 1 Axes>"
      ]
     },
     "metadata": {
      "needs_background": "light"
     },
     "output_type": "display_data"
    }
   ],
   "source": [
    "plt.figure(figsize=(16, 6))\n",
    "plt.title(\"Distribution usage per start hour\", fontsize=15)\n",
    "plt.ylabel('Frequency', fontsize=10)\n",
    "sns.distplot(df['start_hour'], bins=100)\n",
    "plt.show()"
   ]
  },
  {
   "cell_type": "markdown",
   "metadata": {},
   "source": [
    "Insight:\n",
    "\n",
    "Dari kurva distribusi di atas, bisa terlihat bahwa jenis kurva adalah bimodal, yang memiliki 2 puncak (nilai modus), yaitu pada pukul 8 pagi dan 5 sore. Hal ini kemungkinan berkorelasi dengan waktu perjalan berangkat dan pulang kerja."
   ]
  },
  {
   "cell_type": "code",
   "execution_count": 127,
   "metadata": {},
   "outputs": [
    {
     "data": {
      "image/png": "[encoded data removed]",
      "text/plain": [
       "<Figure size 1152x432 with 1 Axes>"
      ]
     },
     "metadata": {
      "needs_background": "light"
     },
     "output_type": "display_data"
    }
   ],
   "source": [
    "plt.figure(figsize=(16, 6))\n",
    "plt.title(\"Distribution usage per stop hour\", fontsize=15)\n",
    "plt.ylabel('Frequency', fontsize=10)\n",
    "sns.distplot(df['stop_hour'], bins=100)\n",
    "plt.show()"
   ]
  },
  {
   "cell_type": "markdown",
   "metadata": {},
   "source": [
    "Hal yang sama juga terlihat pada distribusi waktu penggunaan pada saat trip berakhir."
   ]
  },
  {
   "cell_type": "markdown",
   "metadata": {},
   "source": [
    "================================================================================="
   ]
  },
  {
   "cell_type": "markdown",
   "metadata": {},
   "source": [
    "## ** Analisis kolom usertype **"
   ]
  },
  {
   "cell_type": "code",
   "execution_count": 102,
   "metadata": {},
   "outputs": [
    {
     "data": {
      "text/plain": [
       "array(['Subscriber', 'Customer'], dtype=object)"
      ]
     },
     "execution_count": 102,
     "metadata": {},
     "output_type": "execute_result"
    }
   ],
   "source": [
    "df['usertype'].unique()"
   ]
  },
  {
   "cell_type": "code",
   "execution_count": 103,
   "metadata": {},
   "outputs": [
    {
     "data": {
      "text/plain": [
       "Subscriber    23962\n",
       "Customer        234\n",
       "Name: usertype, dtype: int64"
      ]
     },
     "execution_count": 103,
     "metadata": {},
     "output_type": "execute_result"
    }
   ],
   "source": [
    "df['usertype'].value_counts()"
   ]
  },
  {
   "cell_type": "code",
   "execution_count": 104,
   "metadata": {},
   "outputs": [
    {
     "name": "stdout",
     "output_type": "stream",
     "text": [
      "Persentase pengguna yang terdaftar sebagai membership tahunan adalah: 99%\n"
     ]
    }
   ],
   "source": [
    "print(f\"Persentase pengguna yang terdaftar sebagai membership tahunan adalah: {round(23962/(23962+234)*100)}%\")"
   ]
  },
  {
   "cell_type": "markdown",
   "metadata": {},
   "source": [
    "Keterangan:\n",
    "\n",
    "Kolom usertype memberikan informasi tentang kategori pengguna: subscriber, yaitu member tahunan, atau customer (24 hour pass atau 7 day pass). Kebanyakan pengguna citibike sharing merupakan member tahunan, sementara sejumlah kecil lainnya menggunakan citibike dengan metode pembelian pass harian (24 jam) atau mingguan (7 hari)"
   ]
  },
  {
   "cell_type": "markdown",
   "metadata": {},
   "source": [
    "### **beberapa insight yang telah didapatkan**\n",
    "\n",
    "1. Kebanyakan penggunaan merupakan penggunaan dengan durasi pendek, kurang dari 1 jam\n",
    "2. Persentase pengguna yang terdaftar sebagai membership tahunan adalah 99%\n",
    "3. Dari kurva terhadap distribusi waktu penggunaan citibike sharing, terlihat bahwa kurva distribusi merupakan bimodal yang memiliki 2 nilai modus. Baik pada saat start maupun stop penggunaan citibike sharing, waktu dimana terdapat paling banyak penggunaan adalah jam 8 pagi dan 5 sore. Waktu-waktu ini sesuai dengan jam masuk dan pulang kantor.\n",
    "\n",
    "## **Analisis**\n",
    "\n",
    "Pengguna yang terdaftar sebagai member tahunan menggunakan jasa citibike sharing sebagai alat transportasi menuju kantor dan pulang dari kantor. Oleh karena itu penggunaan citibike sharing umumnya dalam durasi penggunaan kurang dari 1 jam, karena citibike sharing secara umum digunakan sebagai moda transportasi penunjang kegiatan bekerja, bukan kegiatan olahraga atau sepeda santai.\n",
    "\n",
    "Analisis serta saran lebih lanjut mengenai segmentasi user atau strategi marketing yang dapat dilakukan perusahaan akan dibuat secara lebih menyeluruh setelah mendapat gambaran usia dan gender user."
   ]
  },
  {
   "cell_type": "markdown",
   "metadata": {},
   "source": [
    "====================================================================================="
   ]
  },
  {
   "cell_type": "markdown",
   "metadata": {},
   "source": [
    "## ** Analisis terhadap feature age **"
   ]
  },
  {
   "cell_type": "markdown",
   "metadata": {},
   "source": [
    "Distribusi usia pengguna citibike sharing:"
   ]
  },
  {
   "cell_type": "code",
   "execution_count": 125,
   "metadata": {},
   "outputs": [
    {
     "data": {
      "image/png": "[encoded data removed]",
      "text/plain": [
       "<Figure size 1152x432 with 1 Axes>"
      ]
     },
     "metadata": {
      "needs_background": "light"
     },
     "output_type": "display_data"
    }
   ],
   "source": [
    "plt.figure(figsize=(16, 6))\n",
    "plt.title(\"Distribution of Customer's Age\", fontsize=15)\n",
    "plt.ylabel('Frequency', fontsize=10)\n",
    "sns.distplot(df['customer_age'], bins=100)\n",
    "\n",
    "plt.show()"
   ]
  },
  {
   "cell_type": "markdown",
   "metadata": {},
   "source": [
    "Kurva distribusi di atas menunjukkan bahwa distribusi usia pengguna citibike sharing terdistribusi secara trimodal/multimodal, dimana terdapat 3 puncak dalam kurva distribusinya. \n",
    "\n",
    "Puncak pertama berada pada rentang usia dibawah 20 tahun, puncak kedua berada di rentang usia sekitar 40 tahun, dan data usia dengan frekuensi tertinggi berada pada rentang usia antara 60 dan 70 tahun."
   ]
  },
  {
   "cell_type": "code",
   "execution_count": 123,
   "metadata": {},
   "outputs": [
    {
     "data": {
      "text/plain": [
       "0    19\n",
       "dtype: int64"
      ]
     },
     "execution_count": 123,
     "metadata": {},
     "output_type": "execute_result"
    }
   ],
   "source": [
    "# slicing pada rentang usia 10 - 20 tahun untuk menentukan usia yang memiliki frekuensi penggunaan paling tinggi\n",
    "df[(df['customer_age'] > 10) & (df['customer_age'] < 20)]['customer_age'].mode()"
   ]
  },
  {
   "cell_type": "code",
   "execution_count": 124,
   "metadata": {},
   "outputs": [
    {
     "data": {
      "text/plain": [
       "0    39\n",
       "dtype: int64"
      ]
     },
     "execution_count": 124,
     "metadata": {},
     "output_type": "execute_result"
    }
   ],
   "source": [
    "# slicing pada rentang usia 35 - 45 tahun untuk menentukan usia yang memiliki frekuensi penggunaan paling tinggi\n",
    "df[(df['customer_age'] > 35) & (df['customer_age'] < 45)]['customer_age'].mode()"
   ]
  },
  {
   "cell_type": "code",
   "execution_count": 128,
   "metadata": {},
   "outputs": [
    {
     "data": {
      "text/plain": [
       "0    63\n",
       "dtype: int64"
      ]
     },
     "execution_count": 128,
     "metadata": {},
     "output_type": "execute_result"
    }
   ],
   "source": [
    "# slicing pada rentang usia 60 - 70 tahun untuk menentukan usia yang memiliki frekuensi penggunaan paling tinggi\n",
    "df[(df['customer_age'] > 60) & (df['customer_age'] < 70)]['customer_age'].mode()"
   ]
  },
  {
   "cell_type": "markdown",
   "metadata": {},
   "source": [
    "Insight:\n",
    "\n",
    "Pengguna citibike sharing paling banyak berusia 19, 39, dan 63 tahun. Usia pengguna 19 dan 39 tahun sesuai dengan analisa sebelumnya yang menunjukkan bahwa pengguna utama citibike merupakan pegawai/karyawan perkantoran, yang terlihat menggunakan service citibike sharing untuk menunjang kegiatan harian pergi dan pulang kantor, namun perlu dilakukan peninjauan lebih lanjut mengenai customer pada rentang usia antara 60 dan 70 tahun, khususnya 63 tahun.\n",
    "\n",
    "Analisis dapat dilakukan dengan mengkategorikan usia pengguna sebagai: teenage (karena usia minimum pengguna adalah 16 tahun), adult, senior"
   ]
  },
  {
   "cell_type": "code",
   "execution_count": 165,
   "metadata": {},
   "outputs": [
    {
     "data": {
      "text/plain": [
       "count    24196.000000\n",
       "mean        50.597619\n",
       "std         17.771625\n",
       "min         16.000000\n",
       "25%         39.000000\n",
       "50%         59.000000\n",
       "75%         64.000000\n",
       "max         78.000000\n",
       "Name: customer_age, dtype: float64"
      ]
     },
     "execution_count": 165,
     "metadata": {},
     "output_type": "execute_result"
    }
   ],
   "source": [
    "df['customer_age'].describe()"
   ]
  },
  {
   "cell_type": "code",
   "execution_count": 159,
   "metadata": {},
   "outputs": [],
   "source": [
    "# definisi kategori: teenage (< 20 tahun), adult (20 - 59), senior (60 tahun keatas)\n",
    "bins = [0, 20, 60, 79]\n",
    "labels = ['teenage', 'adult', 'senior']"
   ]
  },
  {
   "cell_type": "code",
   "execution_count": 160,
   "metadata": {},
   "outputs": [],
   "source": [
    "df['age_category'] = pd.cut(df['customer_age'], bins=bins, labels=labels)"
   ]
  },
  {
   "cell_type": "code",
   "execution_count": 161,
   "metadata": {},
   "outputs": [
    {
     "data": {
      "text/html": [
       "<div>\n",
       "<style scoped>\n",
       "    .dataframe tbody tr th:only-of-type {\n",
       "        vertical-align: middle;\n",
       "    }\n",
       "\n",
       "    .dataframe tbody tr th {\n",
       "        vertical-align: top;\n",
       "    }\n",
       "\n",
       "    .dataframe thead th {\n",
       "        text-align: right;\n",
       "    }\n",
       "</style>\n",
       "<table border=\"1\" class=\"dataframe\">\n",
       "  <thead>\n",
       "    <tr style=\"text-align: right;\">\n",
       "      <th></th>\n",
       "      <th>tripduration</th>\n",
       "      <th>starttime</th>\n",
       "      <th>stoptime</th>\n",
       "      <th>start_station_id</th>\n",
       "      <th>start_station_name</th>\n",
       "      <th>start_station_latitude</th>\n",
       "      <th>start_station_longitude</th>\n",
       "      <th>end_station_id</th>\n",
       "      <th>end_station_name</th>\n",
       "      <th>end_station_latitude</th>\n",
       "      <th>...</th>\n",
       "      <th>stop_month</th>\n",
       "      <th>stop_year</th>\n",
       "      <th>stop_date</th>\n",
       "      <th>stop_hour</th>\n",
       "      <th>customer_age</th>\n",
       "      <th>start_region_id</th>\n",
       "      <th>capacity</th>\n",
       "      <th>trip_duration_hour</th>\n",
       "      <th>tripduration_of_1hr</th>\n",
       "      <th>age_category</th>\n",
       "    </tr>\n",
       "  </thead>\n",
       "  <tbody>\n",
       "    <tr>\n",
       "      <th>0</th>\n",
       "      <td>857</td>\n",
       "      <td>2016-08-06 11:16:51</td>\n",
       "      <td>2016-08-06 11:31:08</td>\n",
       "      <td>332</td>\n",
       "      <td>Cherry St</td>\n",
       "      <td>40.712199</td>\n",
       "      <td>-73.979481</td>\n",
       "      <td>351</td>\n",
       "      <td>Front St &amp; Maiden Ln</td>\n",
       "      <td>40.705310</td>\n",
       "      <td>...</td>\n",
       "      <td>August</td>\n",
       "      <td>2016</td>\n",
       "      <td>6</td>\n",
       "      <td>11</td>\n",
       "      <td>59</td>\n",
       "      <td>71.0</td>\n",
       "      <td>36</td>\n",
       "      <td>0.238056</td>\n",
       "      <td>less</td>\n",
       "      <td>adult</td>\n",
       "    </tr>\n",
       "    <tr>\n",
       "      <th>1</th>\n",
       "      <td>978</td>\n",
       "      <td>2016-07-05 15:48:08</td>\n",
       "      <td>2016-07-05 16:04:26</td>\n",
       "      <td>332</td>\n",
       "      <td>Cherry St</td>\n",
       "      <td>40.712199</td>\n",
       "      <td>-73.979481</td>\n",
       "      <td>534</td>\n",
       "      <td>Water - Whitehall Plaza</td>\n",
       "      <td>40.702551</td>\n",
       "      <td>...</td>\n",
       "      <td>July</td>\n",
       "      <td>2016</td>\n",
       "      <td>5</td>\n",
       "      <td>16</td>\n",
       "      <td>45</td>\n",
       "      <td>71.0</td>\n",
       "      <td>36</td>\n",
       "      <td>0.271667</td>\n",
       "      <td>less</td>\n",
       "      <td>adult</td>\n",
       "    </tr>\n",
       "    <tr>\n",
       "      <th>2</th>\n",
       "      <td>717</td>\n",
       "      <td>2016-07-23 12:41:28</td>\n",
       "      <td>2016-07-23 12:53:26</td>\n",
       "      <td>332</td>\n",
       "      <td>Cherry St</td>\n",
       "      <td>40.712199</td>\n",
       "      <td>-73.979481</td>\n",
       "      <td>279</td>\n",
       "      <td>Peck Slip &amp; Front St</td>\n",
       "      <td>40.707873</td>\n",
       "      <td>...</td>\n",
       "      <td>July</td>\n",
       "      <td>2016</td>\n",
       "      <td>23</td>\n",
       "      <td>12</td>\n",
       "      <td>39</td>\n",
       "      <td>71.0</td>\n",
       "      <td>36</td>\n",
       "      <td>0.199167</td>\n",
       "      <td>less</td>\n",
       "      <td>adult</td>\n",
       "    </tr>\n",
       "    <tr>\n",
       "      <th>3</th>\n",
       "      <td>979</td>\n",
       "      <td>2016-07-07 10:08:57</td>\n",
       "      <td>2016-07-07 10:25:17</td>\n",
       "      <td>332</td>\n",
       "      <td>Cherry St</td>\n",
       "      <td>40.712199</td>\n",
       "      <td>-73.979481</td>\n",
       "      <td>360</td>\n",
       "      <td>William St &amp; Pine St</td>\n",
       "      <td>40.707179</td>\n",
       "      <td>...</td>\n",
       "      <td>July</td>\n",
       "      <td>2016</td>\n",
       "      <td>7</td>\n",
       "      <td>10</td>\n",
       "      <td>39</td>\n",
       "      <td>71.0</td>\n",
       "      <td>36</td>\n",
       "      <td>0.271944</td>\n",
       "      <td>less</td>\n",
       "      <td>adult</td>\n",
       "    </tr>\n",
       "    <tr>\n",
       "      <th>4</th>\n",
       "      <td>325</td>\n",
       "      <td>2016-07-12 06:57:52</td>\n",
       "      <td>2016-07-12 07:03:17</td>\n",
       "      <td>332</td>\n",
       "      <td>Cherry St</td>\n",
       "      <td>40.712199</td>\n",
       "      <td>-73.979481</td>\n",
       "      <td>307</td>\n",
       "      <td>Canal St &amp; Rutgers St</td>\n",
       "      <td>40.714275</td>\n",
       "      <td>...</td>\n",
       "      <td>July</td>\n",
       "      <td>2016</td>\n",
       "      <td>12</td>\n",
       "      <td>7</td>\n",
       "      <td>60</td>\n",
       "      <td>71.0</td>\n",
       "      <td>36</td>\n",
       "      <td>0.090278</td>\n",
       "      <td>less</td>\n",
       "      <td>adult</td>\n",
       "    </tr>\n",
       "  </tbody>\n",
       "</table>\n",
       "<p>5 rows × 29 columns</p>\n",
       "</div>"
      ],
      "text/plain": [
       "   tripduration           starttime            stoptime  start_station_id  \\\n",
       "0           857 2016-08-06 11:16:51 2016-08-06 11:31:08               332   \n",
       "1           978 2016-07-05 15:48:08 2016-07-05 16:04:26               332   \n",
       "2           717 2016-07-23 12:41:28 2016-07-23 12:53:26               332   \n",
       "3           979 2016-07-07 10:08:57 2016-07-07 10:25:17               332   \n",
       "4           325 2016-07-12 06:57:52 2016-07-12 07:03:17               332   \n",
       "\n",
       "  start_station_name  start_station_latitude  start_station_longitude  \\\n",
       "0          Cherry St               40.712199               -73.979481   \n",
       "1          Cherry St               40.712199               -73.979481   \n",
       "2          Cherry St               40.712199               -73.979481   \n",
       "3          Cherry St               40.712199               -73.979481   \n",
       "4          Cherry St               40.712199               -73.979481   \n",
       "\n",
       "   end_station_id         end_station_name  end_station_latitude  ...  \\\n",
       "0             351     Front St & Maiden Ln             40.705310  ...   \n",
       "1             534  Water - Whitehall Plaza             40.702551  ...   \n",
       "2             279     Peck Slip & Front St             40.707873  ...   \n",
       "3             360     William St & Pine St             40.707179  ...   \n",
       "4             307    Canal St & Rutgers St             40.714275  ...   \n",
       "\n",
       "   stop_month  stop_year stop_date  stop_hour customer_age start_region_id  \\\n",
       "0      August       2016         6         11           59            71.0   \n",
       "1        July       2016         5         16           45            71.0   \n",
       "2        July       2016        23         12           39            71.0   \n",
       "3        July       2016         7         10           39            71.0   \n",
       "4        July       2016        12          7           60            71.0   \n",
       "\n",
       "   capacity  trip_duration_hour  tripduration_of_1hr age_category  \n",
       "0        36            0.238056                 less        adult  \n",
       "1        36            0.271667                 less        adult  \n",
       "2        36            0.199167                 less        adult  \n",
       "3        36            0.271944                 less        adult  \n",
       "4        36            0.090278                 less        adult  \n",
       "\n",
       "[5 rows x 29 columns]"
      ]
     },
     "execution_count": 161,
     "metadata": {},
     "output_type": "execute_result"
    }
   ],
   "source": [
    "df.head()"
   ]
  },
  {
   "cell_type": "code",
   "execution_count": 215,
   "metadata": {},
   "outputs": [
    {
     "data": {
      "image/png": "[encoded data removed]",
      "text/plain": [
       "<Figure size 432x288 with 1 Axes>"
      ]
     },
     "metadata": {},
     "output_type": "display_data"
    }
   ],
   "source": [
    "# Persentase pengguna berdasarkan kategori usia\n",
    "def func(pct, allvals):\n",
    "    absolute = int(pct/100.*np.sum(allvals))\n",
    "    return \"{:.1f}%)\".format(pct, absolute)\n",
    "\n",
    "df.pivot_table(index=['age_category'], values='start_station_id', aggfunc='count').plot.pie(y='start_station_id', \\\n",
    "title='Proportion User based on Age Category', autopct=lambda pct: func(pct, df['start_station_id']), textprops=dict(color=\"w\"))\n",
    "plt.show()"
   ]
  },
  {
   "cell_type": "markdown",
   "metadata": {},
   "source": [
    "Insight:\n",
    "\n",
    "Kategori pengguna paling banyak merupakan kelompok senior, yaitu pengguna berusia 60 tahun atau lebih, diikuti dengan kategori dewasa (20 tahun atau lebih), kemudian remaja (< 20 tahun)"
   ]
  },
  {
   "cell_type": "code",
   "execution_count": 134,
   "metadata": {},
   "outputs": [
    {
     "data": {
      "text/plain": [
       "count    8787.000000\n",
       "mean       64.514282\n",
       "std         2.222921\n",
       "min        61.000000\n",
       "25%        63.000000\n",
       "50%        64.000000\n",
       "75%        66.000000\n",
       "max        69.000000\n",
       "Name: customer_age, dtype: float64"
      ]
     },
     "execution_count": 134,
     "metadata": {},
     "output_type": "execute_result"
    }
   ],
   "source": [
    "# deskripsi statistik data usia pengguna pada rentang usia 60 dan 70 tahun\n",
    "df[(df['customer_age'] > 60) & (df['customer_age'] < 70)]['customer_age'].describe()"
   ]
  },
  {
   "cell_type": "code",
   "execution_count": 163,
   "metadata": {},
   "outputs": [],
   "source": [
    "# slicing data pengguna diatas 60 tahun\n",
    "senior_user = df[df['customer_age'] > 60]"
   ]
  },
  {
   "cell_type": "code",
   "execution_count": 156,
   "metadata": {},
   "outputs": [
    {
     "data": {
      "text/plain": [
       "count    10680.000000\n",
       "mean      1949.562079\n",
       "std          4.012328\n",
       "min       1937.000000\n",
       "25%       1947.000000\n",
       "50%       1951.000000\n",
       "75%       1952.000000\n",
       "max       1956.000000\n",
       "Name: birth_year, dtype: float64"
      ]
     },
     "execution_count": 156,
     "metadata": {},
     "output_type": "execute_result"
    }
   ],
   "source": [
    "senior_user['birth_year'].describe()"
   ]
  },
  {
   "cell_type": "code",
   "execution_count": 211,
   "metadata": {},
   "outputs": [
    {
     "data": {
      "image/png": "[encoded data removed]",
      "text/plain": [
       "<Figure size 576x288 with 1 Axes>"
      ]
     },
     "metadata": {
      "needs_background": "light"
     },
     "output_type": "display_data"
    }
   ],
   "source": [
    "plt.figure(figsize=(8, 4))\n",
    "sns.boxplot(data=senior_user, x='customer_age', color='indianred')\n",
    "plt.show()"
   ]
  },
  {
   "cell_type": "code",
   "execution_count": 153,
   "metadata": {},
   "outputs": [
    {
     "data": {
      "text/plain": [
       "65.0"
      ]
     },
     "execution_count": 153,
     "metadata": {},
     "output_type": "execute_result"
    }
   ],
   "source": [
    "senior_user['customer_age'].median()"
   ]
  },
  {
   "cell_type": "markdown",
   "metadata": {},
   "source": [
    "Dari boxplot di atas, distribusi pengguna citibike berusia diatas 60 tahun memiliki positive skewness. Hal ini menunjukkan bahwa untuk customer diatas usia 60 tahun, distribusi pengguna berada lebih banyak pada data usia diatas median data, atau 65 tahun. \n",
    "\n",
    "Analisis:\n",
    "\n",
    "Pengguna citibike dalam kategori pengguna senior (60 tahun atau lebih) merupakan pengguna terbanyak citibike dengan proporsi 44.1%, diikuti oleh pengguna kategori adult (20 sampai 59 tahun) sebanyak 42.4%, dan teenage sebanyak 13.5%. Hal ini menunjukkan bahwa ketertarikan customer senior untuk menggunakan citibike yang tinggi.\n",
    "\n",
    "Hal lain yang harus dievaluasi adalah form atau app pengisian data customer, karena pada tahap data preparation terdapat value outliers yang salah satunya adalah terdapat pengguna berusia 143 tahun. Evaluasi metode pengisian data customer antara lain tentang apakah metode yang digunakan adalah metode pengisian form di app secara manual? Jika ya, dapat dievaluasi pada UI yang digunakan, apakah rentang kolom 'birth year' pada rentang tahun 1956 kebawah berpotensi dipilih dengan lebih mudah daripada rentang input birth year yang lain, yang menyebabkan kesalahan input oleh user."
   ]
  },
  {
   "cell_type": "markdown",
   "metadata": {},
   "source": [
    "======================================================================================"
   ]
  },
  {
   "cell_type": "markdown",
   "metadata": {},
   "source": [
    "## ** Analisis terhadap feature gender **"
   ]
  },
  {
   "cell_type": "code",
   "execution_count": 110,
   "metadata": {},
   "outputs": [
    {
     "data": {
      "image/png": "[encoded data removed]",
      "text/plain": [
       "<Figure size 432x288 with 1 Axes>"
      ]
     },
     "metadata": {
      "needs_background": "light"
     },
     "output_type": "display_data"
    }
   ],
   "source": [
    "sns.countplot(x='gender', data=df)\n",
    "plt.grid(True)\n",
    "plt.title('Comparison of Citibike Users based on Gender')\n",
    "plt.show()"
   ]
  },
  {
   "cell_type": "code",
   "execution_count": 111,
   "metadata": {},
   "outputs": [
    {
     "data": {
      "text/plain": [
       "male       19114\n",
       "female      5011\n",
       "unknown       71\n",
       "Name: gender, dtype: int64"
      ]
     },
     "execution_count": 111,
     "metadata": {},
     "output_type": "execute_result"
    }
   ],
   "source": [
    "df['gender'].value_counts()"
   ]
  },
  {
   "cell_type": "code",
   "execution_count": 216,
   "metadata": {},
   "outputs": [
    {
     "data": {
      "image/png": "[encoded data removed]",
      "text/plain": [
       "<Figure size 432x288 with 1 Axes>"
      ]
     },
     "metadata": {},
     "output_type": "display_data"
    }
   ],
   "source": [
    "# Persentase pengguna berdasarkan gender\n",
    "def func(pct, allvals):\n",
    "    absolute = int(pct/100.*np.sum(allvals))\n",
    "    return \"{:.1f}%)\".format(pct, absolute)\n",
    "\n",
    "df.pivot_table(index=['gender'], values='start_station_id', aggfunc='count').plot.pie(y='start_station_id', \\\n",
    "title='Proportion of User Based on Gender', autopct=lambda pct: func(pct, df['start_station_id']), textprops=dict(color=\"w\"))\n",
    "plt.show()"
   ]
  },
  {
   "cell_type": "markdown",
   "metadata": {},
   "source": [
    "Pengguna citibike sharing didominasi oleh kelompok laki-laki sebanyak 79%, sementara pengguna perempuan sebanyak 20.7%. Sisanya merupakan pengguna yang tidak mengisi data identifikasi gender."
   ]
  },
  {
   "cell_type": "code",
   "execution_count": 209,
   "metadata": {},
   "outputs": [
    {
     "data": {
      "image/png": "[encoded data removed]",
      "text/plain": [
       "<Figure size 864x432 with 1 Axes>"
      ]
     },
     "metadata": {
      "needs_background": "light"
     },
     "output_type": "display_data"
    }
   ],
   "source": [
    "plt.figure(figsize=(12, 6))\n",
    "plt.title('Boxplot Age Distributin of Citibike Users based on Gender and Usertype', size=13)\n",
    "sns.boxplot(x=\"customer_age\", y=\"gender\", hue='usertype',\n",
    "                 data=df, palette=\"Set2\", orient='h')\n",
    "plt.show()"
   ]
  },
  {
   "cell_type": "markdown",
   "metadata": {},
   "source": [
    "## *Analisis:*\n",
    "\n",
    "**Male**\n",
    "\n",
    "Jika dibandingkan antara pengguna kategori pria yang apply sebagai member tahunan dan yang menggunakan citibike dengan metode 24-hr atau 7-day pass, kelompok yang merupakan member tahunan terdistribusi pada rentang usia dewasa - senior dan negatively skewed. Sementara pengguna pass terdistribusi pada usia dewasa dan positively skewed. Negative skew pada kategori member tahunan menunjukkan data lebih banyak terdistribusi pada bagian kiri kurva (usia dewasa dibawah 60 tahun). Hal ini sejalan dengan insight sebelumnya yang menunjukkan bahwa pengguna utama citibike sharing adalah pegawai/pekerja kantor, dalam hal ini didominasi oleh gender laki-laki.\n",
    "Dari boxplot customer atau pengguna casual yang menggunakan temporary pass, skewness ke arah kanan kurva, yang menunjukkan bahwa data lebih banyak terdistribusi pada usia diatas 20 tahun (khususnya 20 tahun akhir).\n",
    "\n",
    "\n",
    "**Female**\n",
    "\n",
    "\n",
    "Seperti halnya pada pengguna kelompok pria yang terdaftar sebagai member tahunan, kelompok customer wanita yang apply membership juga berada pada rentang usia dewasa hingga senior, dan merupakan distribusi negative skewness. Namun yang berbeda dari kelompok pria adalah kelompok wanita banyak terdistribusi di usia 50 tahun akhir - lebih muda dari kelompok pengguna pria. Hal yang similar ditampilkan pada boxplot customer wanita yang menggunakan citibike dengan pass/casual. Rentang antar quartile berada pada 20 sampai 40 tahun, namun data lebih banyak terdistribusi diatas usia yang lebih muda dari customer pria dengan kategori yang sama, yaitu pada 20 tahun awal.\n",
    "\n",
    "\n",
    "**Unknown**\n",
    "   \n",
    "kelompok yang tidak mendefinisikan gendernya dan menggunakan metode bike sharing dengan 24-hour pass atau 7-day pass terlihat distribusi usianya relatif normal, dimana nilai median maupun modus terletak di tengah-tengah kurva, dan panjang whiskers boxplot relatif tidak berbeda antara whisker kanan dan kiri. Hal ini kemungkinan terjadi karena kelompok customer ini memiliki data yang sedikit dibandingkan yang lain (persentase jumlah kategori user unknown dibandingkan gender lainnya hanya 0.3%).\n",
    "\n",
    "Poin lain yang terlihat dari boxplot adalah data customer gender unknown yang memiliki annual membership lebih banyak berada pada sebelah kiri kurva, yaitu kurang dari 40 tahun. Rentang customer kelompok ini berada pada usia remaja (kurang dari 20 tahun) sampai dewasa (kurang dari 50 tahun), dan terdapat beberapa data di luar rentang tsb."
   ]
  },
  {
   "cell_type": "markdown",
   "metadata": {},
   "source": [
    "============================================================================="
   ]
  },
  {
   "cell_type": "markdown",
   "metadata": {},
   "source": [
    "Analisis dilakukan terhadap feature-feature tripduration & number of trips, segmentasi user (age, gender), usertype, dan region_id"
   ]
  },
  {
   "cell_type": "markdown",
   "metadata": {},
   "source": [
    "Beberapa insight yang didapatkan dari analisis antara lain:\n",
    "\n",
    "1.\tPada dataset akhir hasil penggabungan antara table citibike_trips dan citibike_stations, dataset ini hanya mencakup 1 region. Hal ini terjadi karena data stations_id (baik start station ataupun end station) yang terdapat di tabel citibike_trips tidak ada dalam tabel citibike_stations.\n",
    "2.\tSebanyak 99.5% customer citibike memanfaatkan service bike sharing untuk durasi perjalanan yang pendek (kurang dari 1 jam), dan tidak digunakan antar station yang sama (start station beda dengan end station)\n",
    "3.\tSebanyak 99% customer citibike merupakan member tahunan (Subscriber), sementara 1% menggunakannya dengan metode 24-hour atau 7-day pass.\n",
    "4.\tAnalisa berdasarkan waktu dalam 24 jam menunjukkan bahwa penggunaan citibike paling banyak terjadi pada pukul 8.00 dan 17.00.\n",
    "5.\tPengguna citibike sharing paling banyak berusia 19, 39, dan 63 tahun.\n",
    "6.\tPengguna citibike sharing didominasi oleh customer pria, yaitu sebesar 79%, diikuti oleh customer Wanita 20.3%, dan sisanya oleh customer yang tidak mendefinisikan gendernya (0.3%).\n",
    "7.\tKetertarikan customer senior yang tinggi terhadap service citibike sharing (pengguna citibike sharing kategori senior memiliki porsi 44.1%).\n"
   ]
  },
  {
   "cell_type": "markdown",
   "metadata": {},
   "source": [
    "# **Kesimpulan**\n",
    "\n",
    "1.\tPengguna utama citibike yang terdaftar sebagai annual member merupakan segmen pekerja kantor/karyawan, yang memanfaatkan service citibike untuk menunjang rutinitas berangkat dan pulang kantor. \n",
    "2.\tPengguna casual kemungkinan belum memerlukan service citibike secara rutin atau sebagai penunjang kegiatan sehari-hari. Kelompok ini kemungkinan bukan merupakan kelompok pekerja kantor. Namun jika memang membutuhkan service citibike sharing untuk penunjang rutinitas, sangat memungkinkan jika customer kelompok casual beralih untuk apply sebagai member tahunan."
   ]
  },
  {
   "cell_type": "markdown",
   "metadata": {},
   "source": [
    "# **Saran**\n",
    "\n",
    "Yang dapat dilakukan oleh pengelola citibike sharing adalah menambah stations di kawasan perkantoran, sehingga diharapkan bisa menarik minat pegawai/pengguna utama citibike untuk subscribe annual membership. Namun ekspansi ini harus disertau dengan recording database yang selalu diupdate, sehingga dapat diketahui lokasi spesifik guna strategi pengembangan usaha per kawasan, juga mendeteksi potensi adanya masalah di lapangan.\n",
    "\n",
    "Hal lain yang harus dievaluasi adalah pengisian form pengguna citibike sharing, terutama untuk pengisian data birth_year, apakan ada permasalahan pada User Interfacenya, sehingga customer berpotensi menginput data yang tidak sesuai/salah."
   ]
  },
  {
   "cell_type": "code",
   "execution_count": null,
   "metadata": {},
   "outputs": [],
   "source": []
  }
 ],
 "metadata": {
  "kernelspec": {
   "display_name": "Python 3",
   "language": "python",
   "name": "python3"
  },
  "language_info": {
   "codemirror_mode": {
    "name": "ipython",
    "version": 3
   },
   "file_extension": ".py",
   "mimetype": "text/x-python",
   "name": "python",
   "nbconvert_exporter": "python",
   "pygments_lexer": "ipython3",
   "version": "3.8.3"
  }
 },
 "nbformat": 4,
 "nbformat_minor": 4
}
